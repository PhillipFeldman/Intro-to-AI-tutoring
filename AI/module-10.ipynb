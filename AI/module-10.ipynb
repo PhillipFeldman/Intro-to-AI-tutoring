{
 "cells": [
  {
   "cell_type": "markdown",
   "metadata": {},
   "source": [
    "# Module 10 - Programming Assignment\n",
    "\n",
    "## Directions\n",
    "\n",
    "1. Change the name of this file to be your JHED id as in `jsmith299.ipynb`. Because sure you use your JHED ID (it's made out of your name and not your student id which is just letters and numbers).\n",
    "2. Make sure the notebook you submit is cleanly and fully executed. I do not grade unexecuted notebooks.\n",
    "3. Submit your notebook back in Blackboard where you downloaded this file.\n",
    "\n",
    "*Provide the output **exactly** as requested*"
   ]
  },
  {
   "cell_type": "markdown",
   "metadata": {},
   "source": [
    "# Forward Planner\n",
    "\n",
    "## Unify\n",
    "\n",
    "Use the accompanying `unification.py` file for unification. For this assignment, you're almost certainly going to want to be able to:\n",
    "\n",
    "1. specify the problem in terms of S-expressions.\n",
    "2. parse them.\n",
    "3. work with the parsed versions.\n",
    "\n",
    "`parse` and `unification` work exactly like the programming assignment for last time."
   ]
  },
  {
   "cell_type": "code",
   "execution_count": 482,
   "metadata": {},
   "outputs": [],
   "source": [
    "from unification import parse, unification\n",
    "from copy import deepcopy"
   ]
  },
  {
   "cell_type": "markdown",
   "metadata": {},
   "source": [
    "## Forward Planner\n",
    "\n",
    "In this assigment, you're going to implement a Forward Planner. What does that mean? If you look in your book, you will not find pseudocode for a forward planner. It just says \"use state space search\" but this is less than helpful and it's a bit more complicated than that. **(but please please do not try to implement STRIPS or GraphPlan...that is wrong).**\n",
    "\n",
    "At a high level, a forward planner takes the current state of the world $S_0$ and attempts to derive a plan, basically by Depth First Search. We have all the ingredients we said we would need in Module 1: states, actions, a transition function and a goal test. We have a set of predicates that describe a state (and therefore all possible states), we have actions and we have, at least, an implicit transition function: applying an action in a state causes the state to change as described by the add and delete lists.\n",
    "\n",
    "Let's say we have a drill that's an item, two places such as home and store, and we know that I'm at home and the drill is at the store and I want to go buy a drill (have it be at home). We might represent that as:\n",
    "\n",
    "<code>\n",
    "start_state = [\n",
    "    \"(item Saw)\",\n",
    "    \"(item Drill)\",\n",
    "    \"(place Home)\",\n",
    "    \"(place Store)\",\n",
    "    \"(place Bank)\",\n",
    "    \"(agent Me)\",\n",
    "    \"(at Me Home)\",\n",
    "    \"(at Saw Store)\",\n",
    "    \"(at Drill Store)\",\n",
    "    \"(at Money Bank)\"\n",
    "]\n",
    "</code>\n",
    "\n",
    "And we have a goal state:\n",
    "\n",
    "<code>\n",
    "goal = [\n",
    "    \"(item Saw)\",\n",
    "    \"(item Drill)\",\n",
    "    \"(place Home)\",\n",
    "    \"(place Store)\",\n",
    "    \"(place Bank)\",\n",
    "    \"(agent Me)\",\n",
    "    \"(at Me Home)\",\n",
    "    \"(at Drill Me)\",\n",
    "    \"(at Saw Store)\",\n",
    "    \"(at Money Bank)\"\n",
    "]\n",
    "</code>\n",
    "\n",
    "The actions/operators are:\n",
    "\n",
    "<code>\n",
    "actions = {\n",
    "    \"drive\": {\n",
    "        \"action\": \"(drive ?agent ?from ?to)\",\n",
    "        \"conditions\": [\n",
    "            \"(agent ?agent)\",\n",
    "            \"(place ?from)\",\n",
    "            \"(place ?to)\",\n",
    "            \"(at ?agent ?from)\"\n",
    "        ],\n",
    "        \"add\": [\n",
    "            \"(at ?agent ?to)\"\n",
    "        ],\n",
    "        \"delete\": [\n",
    "            \"(at ?agent ?from)\"\n",
    "        ]\n",
    "    },\n",
    "    \"buy\": {\n",
    "        \"action\": \"(buy ?purchaser ?seller ?item)\",\n",
    "        \"conditions\": [\n",
    "            \"(item ?item)\",\n",
    "            \"(place ?seller)\",\n",
    "            \"(agent ?purchaser)\",\n",
    "            \"(at ?item ?seller)\",\n",
    "            \"(at ?purchaser ?seller)\"\n",
    "        ],\n",
    "        \"add\": [\n",
    "            \"(at ?item ?purchaser)\"\n",
    "        ],\n",
    "        \"delete\": [\n",
    "            \"(at ?item ?seller)\"\n",
    "        ]\n",
    "    }\n",
    "}\n",
    "</code>\n",
    "\n",
    "These will all need to be parsed from s-expressions to the underlying Python representation before you can use them. You might as well do it at the start of your algorithm, once. The order of the conditions is *not* arbitrary. It is much, much better for the unification and backtracking if you have the \"type\" predicates (item, place, agent) before the more complex ones. Trust me on this.\n",
    "\n",
    "As for the algorithm itself, there is going to be an *outer* level of search and an *inner* level of search.\n",
    "\n",
    "The *outer* level of search that is exactly what I describe here: you have a state, you generate successor states by applying actions to the current state, you examine those successor states as we did at the first week of the semester and if one is the goal you stop, if you see a repeat state, you put it on the explored list (you should implement graph search not tree search). What could be simpler?\n",
    "\n",
    "It turns out the Devil is in the details. There is an *inner* level of search hidden in \"you generate successor states by applying actions to the current state\". Where?\n",
    "\n",
    "How do you know if an action applies in a state? Only if the preconditions successfully unify with the current state. That seems easy enough...you check each predicate in the conditions to see if it unifies with the current state and if it does, you use the substitution list on the action, the add and delete lists and create the successor state based on them.\n",
    "\n",
    "Except for one small problem...there may be more than one way to unify an action with the current state. You must essentially search for all successful unifications of the candidate action and the current state. This is where my question through the semester appliesm, \"how would you modify state space search to return all the paths to the goal?\"\n",
    "\n",
    "Unification can be seen as state space search by trying to unify the first precondition with the current state, progressively working your way through the precondition list. If you fail at any point, you may need to backtrack because there might have been another unification of that predicate that would succeed. Similarly, as already mentioned, there may be more than one.\n",
    "\n",
    "So...by using unification and a properly defined <code>successors</code> function, you should be able to apply graph based search to the problem and return a \"path\" through the states from the initial state to the goal. You'll definitely want to use graph-based search since <code>( drive Me Store), (drive Me Home), (drive Me Store), (drive Me Home), (drive Me Store), (buy Me Store Drill), (drive Me Home)</code> is a valid plan.\n",
    "\n",
    "Your function should return the plan...a list of actions, fully instantiated, for the agent to do in order: [a1, a2, a3]. If you pass an extra intermediate=True parameter, it should also return the resulting state of each action: [s0, a1, s1, a2, s2, a3, s3].\n",
    "\n",
    "-----"
   ]
  },
  {
   "cell_type": "markdown",
   "metadata": {},
   "source": [
    "(you can just overwrite that one and add as many others as you need). Remember to follow the **Guidelines**.\n",
    "\n",
    "\n",
    "-----\n",
    "\n",
    "So you need to implement `forward_planner` as described above. `start_state`, `goal` and `actions` should all have the layout above and be s-expressions.\n",
    "\n",
    "Your implementation should return the plan as a **List of instantiated actions**. If `debug=True`, you should print out the intermediate states of the plan as well."
   ]
  },
  {
   "cell_type": "markdown",
   "metadata": {},
   "source": [
    "### <a id=\"parse_simple\"></a> parse_simple\n",
    "\n",
    "Formal Parameters:\n",
    "\n",
    "**lst** A list of s-expressions -- The start state or goal state\n",
    "\n",
    "**return** None\n",
    "\n",
    "**Modifies** lst\n",
    "\n",
    "Parses every element of lst, so that it can by used by unification"
   ]
  },
  {
   "cell_type": "code",
   "execution_count": 483,
   "metadata": {},
   "outputs": [],
   "source": [
    "def parse_simple(lst):\n",
    "    for i in range(len(lst)):\n",
    "        lst[i] = parse(lst[i])"
   ]
  },
  {
   "cell_type": "markdown",
   "metadata": {},
   "source": [
    "### <a id=\"parse_actions\"></a> parse_actions\n",
    "\n",
    "Formal Parameters:\n",
    "\n",
    "**actions** The actions dictionary -- A dictionary containing all the actions, their preconditions, and postconditions.\n",
    "\n",
    "**return** None\n",
    "\n",
    "**Modifies** actions\n",
    "\n",
    "Parses every action in actions, so that it can by used by unification"
   ]
  },
  {
   "cell_type": "code",
   "execution_count": 484,
   "metadata": {},
   "outputs": [],
   "source": [
    "def parse_actions(actions):\n",
    "    for action in actions.keys():\n",
    "        actions[action][\"action\"] = parse(actions[action][\"action\"])\n",
    "        for i in range(len(actions[action][\"conditions\"])):\n",
    "            actions[action][\"conditions\"][i] = parse(actions[action][\"conditions\"][i])\n",
    "        for i in range(len(actions[action][\"add\"])):\n",
    "            actions[action][\"add\"][i] = parse(actions[action][\"add\"][i])\n",
    "        for i in range(len(actions[action][\"delete\"])):\n",
    "            actions[action][\"delete\"][i] = parse(actions[action][\"delete\"][i])"
   ]
  },
  {
   "cell_type": "markdown",
   "metadata": {},
   "source": [
    "### <a id=\"build_possible_actions\"></a> build_possible_actions\n",
    "\n",
    "Formal Parameters:\n",
    "\n",
    "**actions** The actions dictionary -- A dictionary containing all the actions, their preconditions, and postconditions.\n",
    "\n",
    "**current_state** The current state --A list\n",
    "\n",
    "**return** possible_actions-- a dictionary containing all possible actions in the current state, and all different ways of combining the variables that satisfy the preconditions of the actions.  May contain impossible actions, for the current state, but this is dealt with later, in [check_unify](#check_unify)\n",
    "\n",
    "\n",
    "This dictionary is built so that it can be used in [possible_unification_iterator](#possible_unification_iterator)."
   ]
  },
  {
   "cell_type": "code",
   "execution_count": 485,
   "metadata": {},
   "outputs": [],
   "source": [
    "def build_possible_actions(current_state,actions):\n",
    "    possible_actions = {}\n",
    "    for action in actions.keys():\n",
    "        can_unify_action = True\n",
    "        condition_unification_map = {}\n",
    "        for condition in actions[action][\"conditions\"]:\n",
    "            if len(condition) == 2:\n",
    "                condition_unification_map[tuple(condition)] = []\n",
    "            can_unify_particular = False\n",
    "            for state in current_state:\n",
    "                unify = unification(state,condition)\n",
    "                if unify:\n",
    "                    can_unify_particular = True\n",
    "                    if len(condition) == 2:\n",
    "                        condition_unification_map[tuple(condition)].append(state)\n",
    "            if not can_unify_particular:\n",
    "                can_unify_action = False\n",
    "                break\n",
    "        if can_unify_action:\n",
    "            possible_actions[action] = condition_unification_map\n",
    "            \n",
    "        \n",
    "    return possible_actions\n",
    "    "
   ]
  },
  {
   "cell_type": "code",
   "execution_count": 486,
   "metadata": {},
   "outputs": [
    {
     "name": "stdout",
     "output_type": "stream",
     "text": [
      "{'use_on_self': {('agent', '?agent'): [['agent', 'Me'], ['agent', 'Other']], ('item', '?item'): [['item', 'Saw'], ['item', 'Drill']]}, 'use_on_other': {('item', '?item'): [['item', 'Saw'], ['item', 'Drill']], ('agent', '?agent1'): [['agent', 'Me'], ['agent', 'Other']], ('agent', '?agent2'): [['agent', 'Me'], ['agent', 'Other']]}}\n"
     ]
    }
   ],
   "source": [
    "halloween_current_state_test1 = [\n",
    "    \"(item Saw)\",\n",
    "    \"(item Drill)\",\n",
    "    \"(agent Me)\",\n",
    "    \"(agent Other)\",\n",
    "    \"(at Me Earth)\",\n",
    "    \"(at Other Earth)\"\n",
    "    \"(Place Earth)\",\n",
    "    \"(Place Narnia)\"\n",
    "    \"(Place Purgatory)\"\n",
    "]\n",
    "\n",
    "halloween_actions_test1 = {\n",
    "    \"use_on_self\": {\n",
    "        \"action\": \"(use_on_self ?agent ?item)\",\n",
    "        \"conditions\": [\n",
    "            \"(agent ?agent)\",\n",
    "            \"(item ?item)\",\n",
    "            \"(at ?agent Earth)\"\n",
    "        ],\n",
    "        \"add\": [\n",
    "            \"(at ?agent Narnia)\"\n",
    "        ],\n",
    "        \"delete\": [\n",
    "            \"(at ?agent Earth)\"\n",
    "        ]\n",
    "    },\n",
    "    \"use_on_other\": {\n",
    "        \"action\": \"(use_on_other ?agent1 ?agent2 ?item)\",\n",
    "        \"conditions\": [\n",
    "            \"(item ?item)\",\n",
    "            \"(agent ?agent1)\",\n",
    "            \"(agent ?agent2)\",\n",
    "            \"(at ?agent1 Earth)\",\n",
    "            \"(at ?agent2 Earth)\"\n",
    "        ],\n",
    "        \"add\": [\n",
    "            \"(at ?agent2 Narnia)\",\n",
    "            \"(at ?agent1 Purgatory)\"\n",
    "        ],\n",
    "        \"delete\": [\n",
    "            \"(at ?agent2 Earth)\",\n",
    "            \"(at ?agent1 Earth)\"\n",
    "        ]\n",
    "    }\n",
    "}\n",
    "parse_simple(halloween_current_state_test1)\n",
    "parse_actions(halloween_actions_test1)\n",
    "x = build_possible_actions(halloween_current_state_test1,halloween_actions_test1)\n",
    "print(x)"
   ]
  },
  {
   "cell_type": "markdown",
   "metadata": {},
   "source": [
    "### <a id=\"possible_unification_iterator\"></a> possible_unification_iterator\n",
    "\n",
    "Formal Parameters:\n",
    "\n",
    "**action** a dictionary that is one of the keys made in [build_possible_actions](#build_possible_actions)\n",
    "\n",
    "**yield** a possible combination of constants that will unify with the variables in `actions[action]['action']`\n",
    "\n",
    "This iterator yields every possible combination of constants that will unify. May yield impossible actions for the current state, but this is dealt with later, in [check_unify](#check_unify)\n"
   ]
  },
  {
   "cell_type": "code",
   "execution_count": 487,
   "metadata": {},
   "outputs": [],
   "source": [
    "def possible_unification_iterator(action):\n",
    "    choice_dict = {}\n",
    "    curr_list = [0]*len(action.keys())\n",
    "    choice_list = list(action.keys())\n",
    "    for operand in action:\n",
    "        choice_dict[operand] = action[operand][0]\n",
    "    yield choice_dict\n",
    "    curr = 0\n",
    "    end = False\n",
    "    while curr_list[len(curr_list)-1] != 0 or not end:\n",
    "        curr_list[curr] = (curr_list[curr]+1)%len(action[choice_list[curr]])\n",
    "        while curr_list[curr] == 0:\n",
    "            curr+=1\n",
    "            curr_list[curr] = (curr_list[curr]+1)%len(action[choice_list[curr]])\n",
    "            if curr == len(curr_list)-1:\n",
    "                end = True\n",
    "                if curr_list[curr] == 0:\n",
    "                    break\n",
    "        curr = 0\n",
    "        if curr_list == [0]*len(action.keys()):\n",
    "            break\n",
    "        for i in range(len(curr_list)):\n",
    "            choice_dict[choice_list[i]] = action[choice_list[i]][curr_list[i]]\n",
    "        yield choice_dict\n",
    "        \n",
    "    \n",
    "    \n",
    "    "
   ]
  },
  {
   "cell_type": "code",
   "execution_count": 488,
   "metadata": {},
   "outputs": [
    {
     "name": "stdout",
     "output_type": "stream",
     "text": [
      "use_on_self {('agent', '?agent'): ['agent', 'Me'], ('item', '?item'): ['item', 'Saw']}\n",
      "use_on_self {('agent', '?agent'): ['agent', 'Other'], ('item', '?item'): ['item', 'Saw']}\n",
      "use_on_self {('agent', '?agent'): ['agent', 'Me'], ('item', '?item'): ['item', 'Drill']}\n",
      "use_on_self {('agent', '?agent'): ['agent', 'Other'], ('item', '?item'): ['item', 'Drill']}\n",
      "use_on_other {('item', '?item'): ['item', 'Saw'], ('agent', '?agent1'): ['agent', 'Me'], ('agent', '?agent2'): ['agent', 'Me']}\n",
      "use_on_other {('item', '?item'): ['item', 'Drill'], ('agent', '?agent1'): ['agent', 'Me'], ('agent', '?agent2'): ['agent', 'Me']}\n",
      "use_on_other {('item', '?item'): ['item', 'Saw'], ('agent', '?agent1'): ['agent', 'Other'], ('agent', '?agent2'): ['agent', 'Me']}\n",
      "use_on_other {('item', '?item'): ['item', 'Drill'], ('agent', '?agent1'): ['agent', 'Other'], ('agent', '?agent2'): ['agent', 'Me']}\n",
      "use_on_other {('item', '?item'): ['item', 'Saw'], ('agent', '?agent1'): ['agent', 'Me'], ('agent', '?agent2'): ['agent', 'Other']}\n",
      "use_on_other {('item', '?item'): ['item', 'Drill'], ('agent', '?agent1'): ['agent', 'Me'], ('agent', '?agent2'): ['agent', 'Other']}\n",
      "use_on_other {('item', '?item'): ['item', 'Saw'], ('agent', '?agent1'): ['agent', 'Other'], ('agent', '?agent2'): ['agent', 'Other']}\n",
      "use_on_other {('item', '?item'): ['item', 'Drill'], ('agent', '?agent1'): ['agent', 'Other'], ('agent', '?agent2'): ['agent', 'Other']}\n"
     ]
    }
   ],
   "source": [
    "for action in x.keys():\n",
    "    z =possible_unification_iterator(x[action])\n",
    "    for choice in z:\n",
    "        print(action,choice)"
   ]
  },
  {
   "cell_type": "markdown",
   "metadata": {},
   "source": [
    "### <a id=\"check_unify\"></a> check_unify\n",
    "\n",
    "Formal Parameters:\n",
    "\n",
    "**check_state** the current state\n",
    "\n",
    "**u** the suggested unification that is to be checked against check_state and action\n",
    "\n",
    "**actions** the `actions` dictionary\n",
    "\n",
    "**action** a string-- the key in the `actions` dictionary that is attempted to unify\n",
    "\n",
    "**return** `True` or `False` -- whether the unification is successful or not.\n",
    "\n",
    "This function ensures that the state satisfies the precondition for the suggested unification. Used in [make_new_current_state](#make_new_current_state)"
   ]
  },
  {
   "cell_type": "code",
   "execution_count": 489,
   "metadata": {},
   "outputs": [],
   "source": [
    "def check_unify(check_state, u, actions, action):\n",
    "    unify_check_list = deepcopy(actions[action][\"conditions\"])\n",
    "    for stuff in check_state:\n",
    "        for condition in unify_check_list:\n",
    "            if unification(stuff, condition):\n",
    "                match = []\n",
    "\n",
    "                for word in condition:\n",
    "                    addSimple = True\n",
    "                    for k in u.keys():\n",
    "                        if k[1] == word:\n",
    "                            addSimple = False\n",
    "                            match.append(u[k][1])\n",
    "                            break\n",
    "                    if addSimple:\n",
    "                        match.append(word)\n",
    "                if match in check_state:\n",
    "                    unify_check_list.remove(condition)\n",
    "                    continue\n",
    "    if unify_check_list == []:\n",
    "        return True\n",
    "    return False"
   ]
  },
  {
   "cell_type": "markdown",
   "metadata": {},
   "source": [
    "### <a id=\"make_new_current_state\"></a> make_new_current_state\n",
    "\n",
    "Formal Parameters:\n",
    "\n",
    "**current_state** the current state\n",
    "\n",
    "**u** the suggested unification that is to be checked against check_state and action\n",
    "\n",
    "**actions** the `actions` dictionary\n",
    "\n",
    "**action** a string-- the key in the `actions` dictionary that is attempted to unify\n",
    "\n",
    "**return** `curr_state_copy`-- the new state after performing an action if the unification is successul, or `False` -- if not\n",
    "\n",
    "\n",
    "This function ensures that the state satisfies the precondition for the suggested unification, then applies the effects of `actions[action][\"add\"]` and `actions[action][\"add\"]`. Used in [search](#search)"
   ]
  },
  {
   "cell_type": "code",
   "execution_count": 490,
   "metadata": {},
   "outputs": [],
   "source": [
    "def make_new_current_state(current_state,u,actions,action):\n",
    "    curr_state_copy = deepcopy(current_state)\n",
    "    if not check_unify(curr_state_copy,u,actions,action):\n",
    "        return False\n",
    "    variable_to_constant_map = {}\n",
    "    for v in u.keys():\n",
    "        variable_to_constant_map[v[1]] = u[v][1]      \n",
    "    for remove in actions[action][\"delete\"]:\n",
    "        to_remove = []\n",
    "        for term in remove:\n",
    "            if term not in variable_to_constant_map.keys():\n",
    "                to_remove.append(term)\n",
    "            else:\n",
    "                to_remove.append(variable_to_constant_map[term])\n",
    "        try:\n",
    "            curr_state_copy.remove(to_remove)\n",
    "        except ValueError:\n",
    "            pass\n",
    "    for add in actions[action][\"add\"]:\n",
    "        to_add = []\n",
    "        for term in add:\n",
    "            if term not in variable_to_constant_map.keys():\n",
    "                to_add.append(term)\n",
    "            else:\n",
    "                to_add.append(variable_to_constant_map[term])\n",
    "        if to_add not in curr_state_copy:\n",
    "            curr_state_copy.append(to_add)\n",
    "    return curr_state_copy\n",
    "        "
   ]
  },
  {
   "cell_type": "markdown",
   "metadata": {},
   "source": [
    "### <a id=\"seen\"></a> seen\n",
    "\n",
    "Formal Parameters:\n",
    "\n",
    "**check_state** the state to check\n",
    "\n",
    "**seen_states** a list of the states that have been seen\n",
    "\n",
    "**return** `True` or `False`-- Whether or not `check_state` has been visited\n",
    "\n",
    "\n",
    "A non-pythonic way of checking to see if a state has already been visited.  I completely forgot that I could simply use a `Set`.  Used to prevent inefficient plans and infinite loops/recursions in [search](#search)."
   ]
  },
  {
   "cell_type": "code",
   "execution_count": 491,
   "metadata": {},
   "outputs": [],
   "source": [
    "def seen(check_state,seen_states):\n",
    "    for state in seen_states:\n",
    "        if len(state) != len(check_state):\n",
    "            continue\n",
    "        has_seen = True\n",
    "        for s in state:\n",
    "            if s not in check_state:\n",
    "                has_seen = False\n",
    "                break\n",
    "        if has_seen:\n",
    "            return True\n",
    "    return False\n",
    "            "
   ]
  },
  {
   "cell_type": "markdown",
   "metadata": {},
   "source": [
    "### <a id=\"check_goal\"></a> check_goal\n",
    "\n",
    "Formal Parameters:\n",
    "\n",
    "**check_state** the state to check\n",
    "\n",
    "**goal** the goal\n",
    "\n",
    "**return** `True` or `False`-- Whether or not `check_state` is the same as `goal`\n",
    "\n",
    "\n",
    "A non-pythonic way of checking to see if a state is the goal.  I completely forgot that I could simply use a `Set`.  Used in [search](#search)."
   ]
  },
  {
   "cell_type": "code",
   "execution_count": 492,
   "metadata": {},
   "outputs": [],
   "source": [
    "def check_goal(check_state,goal):\n",
    "\n",
    "    if len(goal) != len(check_state):\n",
    "        return False\n",
    "    has_seen = True\n",
    "    for s in goal:\n",
    "        if s not in check_state:\n",
    "            has_seen = False\n",
    "            break\n",
    "    if has_seen:\n",
    "        return True\n",
    "    return False"
   ]
  },
  {
   "cell_type": "markdown",
   "metadata": {},
   "source": [
    "### <a id=\"build_back_action\"></a> build_back_action\n",
    "\n",
    "Formal Parameters:\n",
    "\n",
    "**u** the unification dictionary of the relevant parameters in a particular action\n",
    "\n",
    "**action** the string representation of the action\n",
    "\n",
    "**actions** the actions dictionary\n",
    "\n",
    "**return** `a`--The specific action taken on constants\n",
    "\n",
    "\n",
    "Builds back the action taken so that it is in the required form for the `plan`. Used in [search](#search)."
   ]
  },
  {
   "cell_type": "code",
   "execution_count": 493,
   "metadata": {},
   "outputs": [],
   "source": [
    "def build_back_action(u,action,actions):\n",
    "    a = [action]\n",
    "    for term in actions[action][\"action\"]:\n",
    "        for k in u.keys():\n",
    "            if k[1] == term:\n",
    "                a.append(u[k][1])\n",
    "    return a"
   ]
  },
  {
   "cell_type": "markdown",
   "metadata": {},
   "source": [
    "### <a id=\"search\"></a> search\n",
    "\n",
    "Formal Parameters:\n",
    "\n",
    "**current_state** a list representing the current state\n",
    "\n",
    "**goal** the list representing the goal\n",
    "\n",
    "**actions** the actions dictionary\n",
    "\n",
    "**seen_states** a list of the states that have been seen\n",
    "\n",
    "**plan** The list of actions taken so far, in order\n",
    "\n",
    "**debug** A boolean -- Whether or not to include the intermediate states in plan\n",
    "\n",
    "**return** The final **`plan`**, or `[]` if there can be no plan.\n",
    "\n",
    "\n",
    "Called by [forward_planner](#forward_planner) to do the main work of the algorithm.  It performs the outer and inner loops described in the instructions."
   ]
  },
  {
   "cell_type": "code",
   "execution_count": 494,
   "metadata": {},
   "outputs": [],
   "source": [
    "def search(current_state, goal, actions, seen_states, plan, debug=False):\n",
    "    possible_actions = build_possible_actions(current_state, actions)\n",
    "    for action in possible_actions.keys():\n",
    "        possible_unifications = possible_unification_iterator(possible_actions[action])\n",
    "        for u in possible_unifications:\n",
    "            check_state = make_new_current_state(current_state, u, actions, action)\n",
    "            if not check_state:\n",
    "                continue\n",
    "            if check_goal(check_state,goal):\n",
    "                plan.append(build_back_action(u,action,actions))\n",
    "                if debug:\n",
    "                    plan.append(check_state)\n",
    "                return plan\n",
    "            if not seen(check_state, seen_states):\n",
    "                new_plan = deepcopy(plan)\n",
    "                new_plan.append(build_back_action(u,action,actions))\n",
    "                if debug:\n",
    "                    new_plan.append(check_state)\n",
    "                seen_states.append(check_state)\n",
    "                next_search = search(check_state, goal, actions, seen_states, new_plan, debug)\n",
    "                if next_search:\n",
    "                    return next_search\n",
    "\n",
    "    return []\n",
    "    "
   ]
  },
  {
   "cell_type": "code",
   "execution_count": 495,
   "metadata": {},
   "outputs": [
    {
     "name": "stdout",
     "output_type": "stream",
     "text": [
      "use_on_self {('agent', '?agent'): ['agent', 'Me'], ('item', '?item'): ['item', 'Saw']}\n",
      "use_on_self {('agent', '?agent'): ['agent', 'Other'], ('item', '?item'): ['item', 'Saw']}\n",
      "use_on_self {('agent', '?agent'): ['agent', 'Me'], ('item', '?item'): ['item', 'Drill']}\n",
      "use_on_self {('agent', '?agent'): ['agent', 'Other'], ('item', '?item'): ['item', 'Drill']}\n",
      "use_on_other {('item', '?item'): ['item', 'Saw'], ('agent', '?agent1'): ['agent', 'Me'], ('agent', '?agent2'): ['agent', 'Me']}\n",
      "use_on_other {('item', '?item'): ['item', 'Drill'], ('agent', '?agent1'): ['agent', 'Me'], ('agent', '?agent2'): ['agent', 'Me']}\n",
      "use_on_other {('item', '?item'): ['item', 'Saw'], ('agent', '?agent1'): ['agent', 'Other'], ('agent', '?agent2'): ['agent', 'Me']}\n",
      "use_on_other {('item', '?item'): ['item', 'Drill'], ('agent', '?agent1'): ['agent', 'Other'], ('agent', '?agent2'): ['agent', 'Me']}\n",
      "use_on_other {('item', '?item'): ['item', 'Saw'], ('agent', '?agent1'): ['agent', 'Me'], ('agent', '?agent2'): ['agent', 'Other']}\n",
      "use_on_other {('item', '?item'): ['item', 'Drill'], ('agent', '?agent1'): ['agent', 'Me'], ('agent', '?agent2'): ['agent', 'Other']}\n",
      "use_on_other {('item', '?item'): ['item', 'Saw'], ('agent', '?agent1'): ['agent', 'Other'], ('agent', '?agent2'): ['agent', 'Other']}\n",
      "use_on_other {('item', '?item'): ['item', 'Drill'], ('agent', '?agent1'): ['agent', 'Other'], ('agent', '?agent2'): ['agent', 'Other']}\n"
     ]
    }
   ],
   "source": [
    "for action in x.keys():\n",
    "    z =possible_unification_iterator(x[action])\n",
    "    for choice in z:\n",
    "        print(action,choice)"
   ]
  },
  {
   "cell_type": "markdown",
   "metadata": {},
   "source": [
    "### <a id=\"forward_planner\"></a> forward_planner\n",
    "\n",
    "Formal Parameters:\n",
    "\n",
    "**start_state** a list of s-expressions representing the current state\n",
    "\n",
    "**goal** the list of s-expressions representing the goal\n",
    "\n",
    "**actions** the actions dictionary\n",
    "\n",
    "**debug** A boolean -- Whether or not to include the intermediate states in plan\n",
    "\n",
    "**return** The final **`plan`**, or `[]` if there can be no plan.\n",
    "\n",
    "\n",
    "Calls [search](#search) to do the main work of the algorithm."
   ]
  },
  {
   "cell_type": "code",
   "execution_count": 496,
   "metadata": {},
   "outputs": [],
   "source": [
    "\n",
    "\n",
    "def forward_planner( start_state, goal, actions, debug=False):\n",
    "    parse_simple(start_state)\n",
    "    parse_simple(goal)\n",
    "    parse_actions(actions)\n",
    "    if debug:\n",
    "        return search(start_state,goal,actions,[start_state],[start_state],debug)\n",
    "    else:\n",
    "        return search(start_state,goal,actions,[start_state],[],debug)\n",
    "    \n",
    "    #seen_states = {start_state:[]}\n",
    "    \n",
    "        \n",
    "        \n",
    "    return []"
   ]
  },
  {
   "cell_type": "code",
   "execution_count": 497,
   "metadata": {},
   "outputs": [
    {
     "name": "stdout",
     "output_type": "stream",
     "text": [
      "['use_on_other', 'Other', 'Me', 'Saw']\n"
     ]
    }
   ],
   "source": [
    "halloween_current_state_test1 = [\n",
    "    \"(item Saw)\",\n",
    "    \"(item Drill)\",\n",
    "    \"(agent Me)\",\n",
    "    \"(agent Other)\",\n",
    "    \"(at Me Earth)\",\n",
    "    \"(at Other Earth)\",\n",
    "    \"(Place Earth)\",\n",
    "    \"(Place Narnia)\",\n",
    "    \"(Place Purgatory)\"\n",
    "]\n",
    "\n",
    "halloween_actions_test1 = {\n",
    "    \"use_on_self\": {\n",
    "        \"action\": \"(use_on_self ?agent ?item)\",\n",
    "        \"conditions\": [\n",
    "            \"(agent ?agent)\",\n",
    "            \"(item ?item)\",\n",
    "            \"(at ?agent Earth)\"\n",
    "        ],\n",
    "        \"add\": [\n",
    "            \"(at ?agent Narnia)\"\n",
    "        ],\n",
    "        \"delete\": [\n",
    "            \"(at ?agent Earth)\"\n",
    "        ]\n",
    "    },\n",
    "    \"use_on_other\": {\n",
    "        \"action\": \"(use_on_other ?agent1 ?agent2 ?item)\",\n",
    "        \"conditions\": [\n",
    "            \"(item ?item)\",\n",
    "            \"(agent ?agent1)\",\n",
    "            \"(agent ?agent2)\",\n",
    "            \"(at ?agent1 Earth)\",\n",
    "            \"(at ?agent2 Earth)\"\n",
    "        ],\n",
    "        \"add\": [\n",
    "            \"(at ?agent2 Narnia)\",\n",
    "            \"(at ?agent1 Purgatory)\"\n",
    "        ],\n",
    "        \"delete\": [\n",
    "            \"(at ?agent2 Earth)\",\n",
    "            \"(at ?agent1 Earth)\"\n",
    "        ]\n",
    "    }\n",
    "}\n",
    "halloween_goal_state_test1 = [\n",
    "    \"(item Saw)\",\n",
    "    \"(item Drill)\",\n",
    "    \"(agent Me)\",\n",
    "    \"(agent Other)\",\n",
    "    \"(at Other Purgatory)\",\n",
    "    \"(at Me Narnia)\",\n",
    "    \"(Place Earth)\",\n",
    "    \"(Place Narnia)\",\n",
    "    \"(Place Purgatory)\"\n",
    "]\n",
    "\n",
    "test_plan = forward_planner( halloween_current_state_test1, halloween_goal_state_test1, halloween_actions_test1)\n",
    "for el in test_plan:\n",
    "    print(el)"
   ]
  },
  {
   "cell_type": "code",
   "execution_count": 498,
   "metadata": {},
   "outputs": [
    {
     "name": "stdout",
     "output_type": "stream",
     "text": [
      "['use_on_self', 'Me', 'Saw']\n",
      "['use_on_self', 'Other', 'Saw']\n"
     ]
    }
   ],
   "source": [
    "halloween_current_state_test1 = [\n",
    "    \"(item Saw)\",\n",
    "    \"(item Drill)\",\n",
    "    \"(agent Me)\",\n",
    "    \"(agent Other)\",\n",
    "    \"(at Me Earth)\",\n",
    "    \"(at Other Earth)\",\n",
    "    \"(Place Earth)\",\n",
    "    \"(Place Narnia)\",\n",
    "    \"(Place Purgatory)\"\n",
    "]\n",
    "\n",
    "halloween_actions_test1 = {\n",
    "    \"use_on_self\": {\n",
    "        \"action\": \"(use_on_self ?agent ?item)\",\n",
    "        \"conditions\": [\n",
    "            \"(agent ?agent)\",\n",
    "            \"(item ?item)\",\n",
    "            \"(at ?agent Earth)\"\n",
    "        ],\n",
    "        \"add\": [\n",
    "            \"(at ?agent Narnia)\"\n",
    "        ],\n",
    "        \"delete\": [\n",
    "            \"(at ?agent Earth)\"\n",
    "        ]\n",
    "    },\n",
    "    \"use_on_other\": {\n",
    "        \"action\": \"(use_on_other ?agent1 ?agent2 ?item)\",\n",
    "        \"conditions\": [\n",
    "            \"(item ?item)\",\n",
    "            \"(agent ?agent1)\",\n",
    "            \"(agent ?agent2)\",\n",
    "            \"(at ?agent1 Earth)\",\n",
    "            \"(at ?agent2 Earth)\"\n",
    "        ],\n",
    "        \"add\": [\n",
    "            \"(at ?agent2 Narnia)\",\n",
    "            \"(at ?agent1 Purgatory)\"\n",
    "        ],\n",
    "        \"delete\": [\n",
    "            \"(at ?agent2 Earth)\",\n",
    "            \"(at ?agent1 Earth)\"\n",
    "        ]\n",
    "    }\n",
    "}\n",
    "halloween_goal_state_test1 = [\n",
    "    \"(item Saw)\",\n",
    "    \"(item Drill)\",\n",
    "    \"(agent Me)\",\n",
    "    \"(agent Other)\",\n",
    "    \"(at Other Narnia)\",\n",
    "    \"(at Me Narnia)\",\n",
    "    \"(Place Earth)\",\n",
    "    \"(Place Narnia)\",\n",
    "    \"(Place Purgatory)\"\n",
    "]\n",
    "\n",
    "test_plan = forward_planner( halloween_current_state_test1, halloween_goal_state_test1, halloween_actions_test1)\n",
    "for el in test_plan:\n",
    "    print(el)"
   ]
  },
  {
   "cell_type": "markdown",
   "metadata": {},
   "source": [
    "You will be solving the problem from above. Here is the start state:"
   ]
  },
  {
   "cell_type": "code",
   "execution_count": 499,
   "metadata": {},
   "outputs": [],
   "source": [
    "start_state = [\n",
    "    \"(item Saw)\",\n",
    "    \"(item Drill)\",\n",
    "    \"(place Home)\",\n",
    "    \"(place Store)\",\n",
    "    \"(place Bank)\",\n",
    "    \"(agent Me)\",\n",
    "    \"(at Me Home)\",\n",
    "    \"(at Saw Store)\",\n",
    "    \"(at Drill Store)\"\n",
    "]"
   ]
  },
  {
   "cell_type": "markdown",
   "metadata": {},
   "source": [
    "The goal state:"
   ]
  },
  {
   "cell_type": "code",
   "execution_count": 500,
   "metadata": {
    "tags": []
   },
   "outputs": [],
   "source": [
    "goal = [\n",
    "    \"(item Saw)\",    \n",
    "    \"(item Drill)\",\n",
    "    \"(place Home)\",\n",
    "    \"(place Store)\",\n",
    "    \"(place Bank)\",    \n",
    "    \"(agent Me)\",\n",
    "    \"(at Me Home)\",\n",
    "    \"(at Drill Me)\",\n",
    "    \"(at Saw Store)\"    \n",
    "]"
   ]
  },
  {
   "cell_type": "markdown",
   "metadata": {},
   "source": [
    "and the actions/operators:"
   ]
  },
  {
   "cell_type": "code",
   "execution_count": 501,
   "metadata": {},
   "outputs": [],
   "source": [
    "actions = {\n",
    "    \"drive\": {\n",
    "        \"action\": \"(drive ?agent ?from ?to)\",\n",
    "        \"conditions\": [\n",
    "            \"(agent ?agent)\",\n",
    "            \"(place ?from)\",\n",
    "            \"(place ?to)\",\n",
    "            \"(at ?agent ?from)\"\n",
    "        ],\n",
    "        \"add\": [\n",
    "            \"(at ?agent ?to)\"\n",
    "        ],\n",
    "        \"delete\": [\n",
    "            \"(at ?agent ?from)\"\n",
    "        ]\n",
    "    },\n",
    "    \"buy\": {\n",
    "        \"action\": \"(buy ?purchaser ?seller ?item)\",\n",
    "        \"conditions\": [\n",
    "            \"(item ?item)\",\n",
    "            \"(place ?seller)\",\n",
    "            \"(agent ?purchaser)\",\n",
    "            \"(at ?item ?seller)\",\n",
    "            \"(at ?purchaser ?seller)\"\n",
    "        ],\n",
    "        \"add\": [\n",
    "            \"(at ?item ?purchaser)\"\n",
    "        ],\n",
    "        \"delete\": [\n",
    "            \"(at ?item ?seller)\"\n",
    "        ]\n",
    "    }\n",
    "}"
   ]
  },
  {
   "cell_type": "markdown",
   "metadata": {},
   "source": [
    "**Note** The facts for each state are really an ordered set. When comparing two states, you may need to convert them to a Set first."
   ]
  },
  {
   "cell_type": "code",
   "execution_count": 502,
   "metadata": {},
   "outputs": [],
   "source": [
    "plan = forward_planner( start_state, goal, actions)"
   ]
  },
  {
   "cell_type": "code",
   "execution_count": 503,
   "metadata": {},
   "outputs": [
    {
     "name": "stdout",
     "output_type": "stream",
     "text": [
      "['drive', 'Me', 'Home', 'Store']\n",
      "['buy', 'Me', 'Store', 'Drill']\n",
      "['drive', 'Me', 'Store', 'Home']\n"
     ]
    }
   ],
   "source": [
    "for el in plan:\n",
    "    print(el)"
   ]
  },
  {
   "cell_type": "markdown",
   "metadata": {},
   "source": [
    "## Before You Submit...\n",
    "\n",
    "1. Did you provide output exactly as requested?\n",
    "2. Did you re-execute the entire notebook? (\"Restart Kernel and Rull All Cells...\")\n",
    "3. If you did not complete the assignment or had difficulty please explain what gave you the most difficulty in the Markdown cell below.\n",
    "4. Did you change the name of the file to `jhed_id.ipynb`?\n",
    "\n",
    "Do not submit any other files."
   ]
  },
  {
   "cell_type": "markdown",
   "metadata": {},
   "source": []
  },
  {
   "cell_type": "markdown",
   "metadata": {},
   "source": [
    "For some reason, I cannot simply switch the arguments `debug=True` and `debug = False` in `plan = forward_planner( start_state, goal, actions)` without re-executing the entire notebook without getting an error.  I suspect this has something to do with how python treats default parameters (they are created in the global frame).  However, I've only encountered this problem before with objects, not booleans.  Perhaps it's jupyter notebook's fault, since I don't get this issue if I run my code in my IDE.\n",
    "\n",
    "I was also unsure if I was implementing graph search or tree search correctly.  I assumed that graph search means that the seen states persist are only visited once, and never again, which is how I implemented the algorithm."
   ]
  },
  {
   "cell_type": "code",
   "execution_count": null,
   "metadata": {},
   "outputs": [],
   "source": []
  },
  {
   "cell_type": "code",
   "execution_count": null,
   "metadata": {},
   "outputs": [],
   "source": []
  },
  {
   "cell_type": "code",
   "execution_count": null,
   "metadata": {},
   "outputs": [],
   "source": []
  },
  {
   "cell_type": "code",
   "execution_count": null,
   "metadata": {},
   "outputs": [],
   "source": []
  },
  {
   "cell_type": "code",
   "execution_count": null,
   "metadata": {},
   "outputs": [],
   "source": []
  },
  {
   "cell_type": "code",
   "execution_count": null,
   "metadata": {},
   "outputs": [],
   "source": []
  },
  {
   "cell_type": "code",
   "execution_count": null,
   "metadata": {},
   "outputs": [],
   "source": []
  },
  {
   "cell_type": "code",
   "execution_count": null,
   "metadata": {},
   "outputs": [],
   "source": []
  },
  {
   "cell_type": "code",
   "execution_count": null,
   "metadata": {},
   "outputs": [],
   "source": []
  },
  {
   "cell_type": "code",
   "execution_count": null,
   "metadata": {},
   "outputs": [],
   "source": []
  },
  {
   "cell_type": "code",
   "execution_count": null,
   "metadata": {},
   "outputs": [],
   "source": []
  },
  {
   "cell_type": "code",
   "execution_count": null,
   "metadata": {},
   "outputs": [],
   "source": []
  },
  {
   "cell_type": "code",
   "execution_count": null,
   "metadata": {},
   "outputs": [],
   "source": []
  },
  {
   "cell_type": "code",
   "execution_count": null,
   "metadata": {},
   "outputs": [],
   "source": []
  },
  {
   "cell_type": "code",
   "execution_count": null,
   "metadata": {},
   "outputs": [],
   "source": []
  },
  {
   "cell_type": "code",
   "execution_count": null,
   "metadata": {},
   "outputs": [],
   "source": []
  },
  {
   "cell_type": "code",
   "execution_count": null,
   "metadata": {},
   "outputs": [],
   "source": []
  },
  {
   "cell_type": "code",
   "execution_count": null,
   "metadata": {},
   "outputs": [],
   "source": []
  },
  {
   "cell_type": "code",
   "execution_count": null,
   "metadata": {},
   "outputs": [],
   "source": []
  },
  {
   "cell_type": "code",
   "execution_count": null,
   "metadata": {},
   "outputs": [],
   "source": []
  },
  {
   "cell_type": "code",
   "execution_count": null,
   "metadata": {},
   "outputs": [],
   "source": []
  },
  {
   "cell_type": "code",
   "execution_count": null,
   "metadata": {},
   "outputs": [],
   "source": []
  },
  {
   "cell_type": "code",
   "execution_count": null,
   "metadata": {},
   "outputs": [],
   "source": []
  },
  {
   "cell_type": "code",
   "execution_count": null,
   "metadata": {},
   "outputs": [],
   "source": []
  },
  {
   "cell_type": "code",
   "execution_count": null,
   "metadata": {},
   "outputs": [],
   "source": []
  },
  {
   "cell_type": "code",
   "execution_count": null,
   "metadata": {},
   "outputs": [],
   "source": []
  },
  {
   "cell_type": "code",
   "execution_count": null,
   "metadata": {},
   "outputs": [],
   "source": []
  },
  {
   "cell_type": "code",
   "execution_count": null,
   "metadata": {},
   "outputs": [],
   "source": []
  },
  {
   "cell_type": "code",
   "execution_count": null,
   "metadata": {},
   "outputs": [],
   "source": []
  },
  {
   "cell_type": "code",
   "execution_count": null,
   "metadata": {},
   "outputs": [],
   "source": []
  },
  {
   "cell_type": "code",
   "execution_count": null,
   "metadata": {},
   "outputs": [],
   "source": []
  },
  {
   "cell_type": "code",
   "execution_count": null,
   "metadata": {},
   "outputs": [],
   "source": []
  },
  {
   "cell_type": "code",
   "execution_count": null,
   "metadata": {},
   "outputs": [],
   "source": []
  },
  {
   "cell_type": "code",
   "execution_count": null,
   "metadata": {},
   "outputs": [],
   "source": []
  },
  {
   "cell_type": "code",
   "execution_count": null,
   "metadata": {},
   "outputs": [],
   "source": []
  },
  {
   "cell_type": "code",
   "execution_count": null,
   "metadata": {},
   "outputs": [],
   "source": []
  },
  {
   "cell_type": "code",
   "execution_count": null,
   "metadata": {},
   "outputs": [],
   "source": []
  },
  {
   "cell_type": "code",
   "execution_count": null,
   "metadata": {},
   "outputs": [],
   "source": []
  },
  {
   "cell_type": "code",
   "execution_count": null,
   "metadata": {},
   "outputs": [],
   "source": []
  },
  {
   "cell_type": "code",
   "execution_count": null,
   "metadata": {},
   "outputs": [],
   "source": []
  },
  {
   "cell_type": "code",
   "execution_count": null,
   "metadata": {},
   "outputs": [],
   "source": []
  },
  {
   "cell_type": "code",
   "execution_count": null,
   "metadata": {},
   "outputs": [],
   "source": []
  },
  {
   "cell_type": "code",
   "execution_count": null,
   "metadata": {},
   "outputs": [],
   "source": []
  },
  {
   "cell_type": "code",
   "execution_count": null,
   "metadata": {},
   "outputs": [],
   "source": []
  },
  {
   "cell_type": "code",
   "execution_count": null,
   "metadata": {},
   "outputs": [],
   "source": []
  },
  {
   "cell_type": "code",
   "execution_count": null,
   "metadata": {},
   "outputs": [],
   "source": []
  },
  {
   "cell_type": "code",
   "execution_count": null,
   "metadata": {},
   "outputs": [],
   "source": []
  },
  {
   "cell_type": "code",
   "execution_count": null,
   "metadata": {},
   "outputs": [],
   "source": []
  },
  {
   "cell_type": "code",
   "execution_count": null,
   "metadata": {},
   "outputs": [],
   "source": []
  },
  {
   "cell_type": "code",
   "execution_count": null,
   "metadata": {},
   "outputs": [],
   "source": []
  },
  {
   "cell_type": "code",
   "execution_count": null,
   "metadata": {},
   "outputs": [],
   "source": []
  },
  {
   "cell_type": "code",
   "execution_count": null,
   "metadata": {},
   "outputs": [],
   "source": []
  },
  {
   "cell_type": "code",
   "execution_count": null,
   "metadata": {},
   "outputs": [],
   "source": []
  },
  {
   "cell_type": "code",
   "execution_count": null,
   "metadata": {},
   "outputs": [],
   "source": []
  },
  {
   "cell_type": "code",
   "execution_count": null,
   "metadata": {},
   "outputs": [],
   "source": []
  },
  {
   "cell_type": "code",
   "execution_count": null,
   "metadata": {},
   "outputs": [],
   "source": []
  },
  {
   "cell_type": "code",
   "execution_count": null,
   "metadata": {},
   "outputs": [],
   "source": []
  }
 ],
 "metadata": {
  "kernelspec": {
   "display_name": "Python (en605645)",
   "language": "python",
   "name": "en605645"
  },
  "language_info": {
   "codemirror_mode": {
    "name": "ipython",
    "version": 3
   },
   "file_extension": ".py",
   "mimetype": "text/x-python",
   "name": "python",
   "nbconvert_exporter": "python",
   "pygments_lexer": "ipython3",
   "version": "3.10.6"
  },
  "toc": {
   "colors": {
    "hover_highlight": "#DAA520",
    "navigate_num": "#000000",
    "navigate_text": "#333333",
    "running_highlight": "#FF0000",
    "selected_highlight": "#FFD700",
    "sidebar_border": "#EEEEEE",
    "wrapper_background": "#FFFFFF"
   },
   "moveMenuLeft": true,
   "nav_menu": {
    "height": "102px",
    "width": "252px"
   },
   "navigate_menu": true,
   "number_sections": true,
   "sideBar": true,
   "threshold": 4,
   "toc_cell": false,
   "toc_section_display": "block",
   "toc_window_display": false,
   "widenNotebook": false
  }
 },
 "nbformat": 4,
 "nbformat_minor": 4
}
