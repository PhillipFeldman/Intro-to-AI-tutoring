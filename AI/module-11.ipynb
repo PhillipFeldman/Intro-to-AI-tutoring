{
 "cells": [
  {
   "cell_type": "markdown",
   "metadata": {},
   "source": [
    "# Module 11 - Programming Assignment\n",
    "\n",
    "## Directions\n",
    "\n",
    "1. Change the name of this file to be your JHED id as in `jsmith299.ipynb`. Because sure you use your JHED ID (it's made out of your name and not your student id which is just letters and numbers).\n",
    "2. Make sure the notebook you submit is cleanly and fully executed. I do not grade unexecuted notebooks.\n",
    "3. Submit your notebook back in Blackboard where you downloaded this file.\n",
    "\n",
    "*Provide the output **exactly** as requested*"
   ]
  },
  {
   "cell_type": "markdown",
   "metadata": {},
   "source": [
    "## Reinforcement Learning with Value Iteration\n",
    "\n",
    "These are the same maps from Module 1 but the \"physics\" of the world have changed. In Module 1, the world was deterministic. When the agent moved \"south\", it went \"south\". When it moved \"east\", it went \"east\". Now, the agent only succeeds in going where it wants to go *sometimes*. There is a probability distribution over the possible states so that when the agent moves \"south\", there is a small probability that it will go \"east\", \"north\", or \"west\" instead and have to move from there.\n",
    "\n",
    "There are a variety of ways to handle this problem. For example, if using A\\* search, if the agent finds itself off the solution, you can simply calculate a new solution from where the agent ended up. Although this sounds like a really bad idea, it has actually been shown to work really well in video games that use formal planning algorithms (which we will cover later). When these algorithms were first designed, this was unthinkable. Thank you, Moore's Law!\n",
    "\n",
    "Another approach is to use Reinforcement Learning which covers problems where there is some kind of general uncertainty in the actions. We're going to model that uncertainty a bit unrealistically here but it'll show you how the algorithm works.\n",
    "\n",
    "As far as RL is concerned, there are a variety of options there: model-based and model-free, Value Iteration, Q-Learning and SARSA. You are going to use Value Iteration."
   ]
  },
  {
   "cell_type": "markdown",
   "metadata": {},
   "source": [
    "## The World Representation\n",
    "\n",
    "As before, we're going to simplify the problem by working in a grid world. The symbols that form the grid have a special meaning as they specify the type of the terrain and the cost to enter a grid cell with that type of terrain:\n",
    "\n",
    "```\n",
    "token   terrain    cost \n",
    ".       plains     1\n",
    "*       forest     3\n",
    "^       hills      5\n",
    "~       swamp      7\n",
    "x       mountains  impassible\n",
    "```\n",
    "\n",
    "When you go from a plains node to a forest node it costs 3. When you go from a forest node to a plains node, it costs 1. You can think of the grid as a big graph. Each grid cell (terrain symbol) is a node and there are edges to the north, south, east and west (except at the edges).\n",
    "\n",
    "There are quite a few differences between A\\* Search and Reinforcement Learning but one of the most salient is that A\\* Search returns a plan of N steps that gets us from A to Z, for example, A->C->E->G.... Reinforcement Learning, on the other hand, returns  a *policy* that tells us the best thing to do in **every state.**\n",
    "\n",
    "For example, the policy might say that the best thing to do in A is go to C. However, we might find ourselves in D instead. But the policy covers this possibility, it might say, D->E. Trying this action might land us in C and the policy will say, C->E, etc. At least with offline learning, everything will be learned in advance (in online learning, you can only learn by doing and so you may act according to a known but suboptimal policy).\n",
    "\n",
    "Nevertheless, if you were asked for a \"best case\" plan from (0, 0) to (n-1, n-1), you could (and will) be able to read it off the policy because there is a best action for every state. You will be asked to provide this in your assignment."
   ]
  },
  {
   "cell_type": "markdown",
   "metadata": {},
   "source": [
    "We have the same costs as before. Note that we've negated them this time because RL requires negative costs and positive rewards:"
   ]
  },
  {
   "cell_type": "code",
   "execution_count": 1,
   "metadata": {},
   "outputs": [
    {
     "data": {
      "text/plain": [
       "{'.': -1, '*': -3, '^': -5, '~': -7}"
      ]
     },
     "execution_count": 1,
     "metadata": {},
     "output_type": "execute_result"
    }
   ],
   "source": [
    "costs = { '.': -1, '*': -3, '^': -5, '~': -7}\n",
    "costs"
   ]
  },
  {
   "cell_type": "markdown",
   "metadata": {},
   "source": [
    "and a list of offsets for `cardinal_moves`. You'll need to work this into your **actions**, A, parameter."
   ]
  },
  {
   "cell_type": "code",
   "execution_count": 2,
   "metadata": {},
   "outputs": [],
   "source": [
    "cardinal_moves = [(0,-1), (1,0), (0,1), (-1,0)]"
   ]
  },
  {
   "cell_type": "code",
   "execution_count": 3,
   "metadata": {},
   "outputs": [],
   "source": [
    "from copy import deepcopy"
   ]
  },
  {
   "cell_type": "markdown",
   "metadata": {},
   "source": [
    "For Value Iteration, we require knowledge of the *transition* function, as a probability distribution.\n",
    "\n",
    "The transition function, T, for this problem is 0.70 for the desired direction, and 0.10 each for the other possible directions. That is, if the agent selects \"north\" then 70% of the time, it will go \"north\" but 10% of the time it will go \"east\", 10% of the time it will go \"west\", and 10% of the time it will go \"south\". If agent is at the edge of the map, it simply bounces back to the current state.\n",
    "\n",
    "You need to implement `value_iteration()` with the following parameters:\n",
    "\n",
    "+ world: a `List` of `List`s of terrain (this is S from S, A, T, gamma, R)\n",
    "+ costs: a `Dict` of costs by terrain (this is part of R)\n",
    "+ goal: A `Tuple` of (x, y) stating the goal state.\n",
    "+ reward: The reward for achieving the goal state.\n",
    "+ actions: a `List` of possible actions, A, as offsets.\n",
    "+ gamma: the discount rate\n",
    "\n",
    "you will return a policy: \n",
    "\n",
    "`{(x1, y1): action1, (x2, y2): action2, ...}`\n",
    "\n",
    "Remember...a policy is what to do in any state for all the states. Notice how this is different than A\\* search which only returns actions to take from the start to the goal. This also explains why reinforcement learning doesn't take a `start` state.\n",
    "\n",
    "You should also define a function `pretty_print_policy( cols, rows, policy)` that takes a policy and prints it out as a grid using \"^\" for up, \"<\" for left, \"v\" for down and \">\" for right. Use \"x\" for any mountain or other impassable square. Note that it doesn't need the `world` because the policy has a move for every state. However, you do need to know how big the grid is so you can pull the values out of the `Dict` that is returned.\n",
    "\n",
    "```\n",
    "vvvvvvv\n",
    "vvvvvvv\n",
    "vvvvvvv\n",
    ">>>>>>v\n",
    "^^^>>>v\n",
    "^^^>>>v\n",
    "^^^>>>G\n",
    "```\n",
    "\n",
    "(Note that that policy is completely made up and only illustrative of the desired output). Please print it out exactly as requested: **NO EXTRA SPACES OR LINES**.\n",
    "\n",
    "* If everything is otherwise the same, do you think that the path from (0,0) to the goal would be the same for both A\\* Search and Q-Learning?\n",
    "* What do you think if you have a map that looks like:\n",
    "\n",
    "```\n",
    "><>>^\n",
    ">>>>v\n",
    ">>>>v\n",
    ">>>>v\n",
    ">>>>G\n",
    "```\n",
    "\n",
    "has this converged? Is this a \"correct\" policy? What are the problems with this policy as it is?\n"
   ]
  },
  {
   "cell_type": "code",
   "execution_count": 4,
   "metadata": {},
   "outputs": [],
   "source": [
    "def read_world(filename):\n",
    "    result = []\n",
    "    with open(filename) as f:\n",
    "        for line in f.readlines():\n",
    "            if len(line) > 0:\n",
    "                result.append(list(line.strip()))\n",
    "    return result"
   ]
  },
  {
   "cell_type": "markdown",
   "metadata": {},
   "source": [
    "---"
   ]
  },
  {
   "cell_type": "code",
   "execution_count": 5,
   "metadata": {},
   "outputs": [
    {
     "data": {
      "text/plain": [
       "[['.', '.', '.', '.', '.', '.'],\n",
       " ['.', '*', '*', '*', '*', '.'],\n",
       " ['.', '*', '*', '*', '*', '.'],\n",
       " ['.', '*', '*', 'x', '*', '.'],\n",
       " ['.', '*', '*', '*', '*', '.'],\n",
       " ['.', '.', '.', '.', '.', '.'],\n",
       " ['.', '.', '.', '.', '.', '.']]"
      ]
     },
     "execution_count": 5,
     "metadata": {},
     "output_type": "execute_result"
    }
   ],
   "source": [
    "read_world(\"small.txt\")"
   ]
  },
  {
   "cell_type": "markdown",
   "metadata": {},
   "source": [
    "### <a id=\"initialize_V\"></a> initialize_V\n",
    "\n",
    "Formal Parameters:\n",
    "\n",
    "**world** The gridworld map -- a list of lists of characters\n",
    "\n",
    "**costs** The costs dictionary\n",
    "\n",
    "**goal** The end goal\n",
    "\n",
    "**rewards** The reward at the goal\n",
    "\n",
    "**return** The tuple `(V,policy)`, a tuple containing V-- the initial values, and policy, the initial policy(a list of lists of `None`)\n",
    "\n",
    "Initializes the starting values for [value_iteration](#value_iteration) to whatever the costs dictionary maps the world to. If the world has an `'x'`, then the corresponding value will be `None`, since it doesnt make sense to ask what an agent should do if he starts on impassible terrain."
   ]
  },
  {
   "cell_type": "code",
   "execution_count": 6,
   "metadata": {},
   "outputs": [],
   "source": [
    "def initialize_V(world,costs,goal,rewards):\n",
    "    V = []\n",
    "    policy = []\n",
    "    for i in world:\n",
    "        V.append([0]*len(i))\n",
    "        policy.append([None]*len(i))\n",
    "        \n",
    "    for i in range(len(world)):\n",
    "        for j in range(len(world[i])):\n",
    "            if world[i][j] == 'x':\n",
    "                V[i][j] = None\n",
    "    V[goal[0]][goal[1]] = rewards+costs[world[goal[0]][goal[1]]]\n",
    "    return V,policy\n",
    "    "
   ]
  },
  {
   "cell_type": "code",
   "execution_count": 7,
   "metadata": {},
   "outputs": [
    {
     "data": {
      "text/plain": [
       "([[0, 0, 0, 0], [0, 2, 0]], [[None, None, None, None], [None, None, None]])"
      ]
     },
     "execution_count": 7,
     "metadata": {},
     "output_type": "execute_result"
    }
   ],
   "source": [
    "initialize_V([['.','*','^','~'],['.','*','^']],costs,[1,1],5)"
   ]
  },
  {
   "cell_type": "markdown",
   "metadata": {},
   "source": [
    "### <a id=\"initialize_Q\"></a> initialize_Q\n",
    "\n",
    "Formal Parameters:\n",
    "\n",
    "**world** The gridworld map -- a list of lists of characters\n",
    "\n",
    "**costs** The costs dictionary\n",
    "\n",
    "**goal** The end goal\n",
    "\n",
    "**rewards** The reward at the goal\n",
    "\n",
    "**action** The reward at the goal\n",
    "\n",
    "**actions** The reward at the goal\n",
    "\n",
    "**return** `Q`, a list of lists containing the starting Q values for the particular action.\n",
    "\n",
    "\n",
    "The initial Q values for any action at any state is the weighted cost of moving to the adjacent square, with the possibility of making an unintended action instead."
   ]
  },
  {
   "cell_type": "code",
   "execution_count": 8,
   "metadata": {},
   "outputs": [],
   "source": [
    "def initialize_Q(world,costs,goal,rewards,action,actions):\n",
    "    Q = []\n",
    "    for i in world:\n",
    "        Q.append([0]*len(i))\n",
    "    for i in range(len(Q)):\n",
    "        for j in range(len(Q[i])):\n",
    "            if world[i][j] == 'x':\n",
    "                Q[i][j] = None\n",
    "                continue\n",
    "            try:\n",
    "                if i+action[0]< 0 or j+action[1]<0:\n",
    "                    raise IndexError\n",
    "                Q[i][j] += costs[world[i+action[0]][j+action[1]]]*.7\n",
    "                if goal[0] == i+action[0] and goal[1] == j+action[1]:\n",
    "                    Q[i][j] += rewards*.7\n",
    "            except:\n",
    "                Q[i][j] += costs[world[i][j]]*.7\n",
    "            for a in actions:\n",
    "                if a == action:\n",
    "                    continue\n",
    "                try:\n",
    "                    if i+a[0]< 0 or j+a[1]<0:\n",
    "                        raise IndexError\n",
    "                    Q[i][j] += costs[world[i+a[0]][j+a[1]]]*.1\n",
    "                    if goal[0] == i+a[0] and goal[1] == j+a[1]:\n",
    "                        Q[i][j] += rewards*.1\n",
    "                except:\n",
    "                    Q[i][j] += costs[world[i][j]]*.1\n",
    "    return Q"
   ]
  },
  {
   "cell_type": "code",
   "execution_count": 9,
   "metadata": {},
   "outputs": [
    {
     "data": {
      "text/plain": [
       "[[-0.9999999999999999,\n",
       "  -0.7,\n",
       "  -1.2000000000000002,\n",
       "  -1.2000000000000002,\n",
       "  -1.2000000000000002,\n",
       "  -0.9999999999999999],\n",
       " [-0.7000000000000001,\n",
       "  -1.4000000000000001,\n",
       "  0.7000000000000003,\n",
       "  -2.7999999999999994,\n",
       "  -2.5999999999999996,\n",
       "  -2.4],\n",
       " [-1.2000000000000002,\n",
       "  -1.1,\n",
       "  -2.999999999999999,\n",
       "  -2.999999999999999,\n",
       "  -2.8,\n",
       "  -2.4],\n",
       " [-1.2000000000000002, -1.6, -2.999999999999999, None, -2.8, -2.4],\n",
       " [-1.2000000000000002,\n",
       "  -1.4000000000000001,\n",
       "  -2.8,\n",
       "  -2.8,\n",
       "  -2.5999999999999996,\n",
       "  -2.4],\n",
       " [-0.9999999999999999, -1.2, -1.2, -1.2, -1.2, -0.9999999999999999],\n",
       " [-0.9999999999999999,\n",
       "  -0.9999999999999999,\n",
       "  -0.9999999999999999,\n",
       "  -0.9999999999999999,\n",
       "  -0.9999999999999999,\n",
       "  -0.9999999999999999]]"
      ]
     },
     "execution_count": 9,
     "metadata": {},
     "output_type": "execute_result"
    }
   ],
   "source": [
    "initialize_Q(read_world(\"small.txt\"),costs,[1,1],5,cardinal_moves[0],cardinal_moves)"
   ]
  },
  {
   "cell_type": "markdown",
   "metadata": {},
   "source": [
    "### <a id=\"max_diff\"></a> max_diff\n",
    "\n",
    "Formal Parameters:\n",
    "\n",
    "**V** The current values at each square\n",
    "\n",
    "**prev_V** The previous values at each square\n",
    "\n",
    "**return** The maximum difference between V and prev_V at any particular square\n",
    "\n",
    "This function is used to find the maximum difference of V values at each point.  It is used as a stopping condition in [value_iteration](#value_iteration) (stop when max diff < epsilon)."
   ]
  },
  {
   "cell_type": "code",
   "execution_count": 10,
   "metadata": {},
   "outputs": [],
   "source": [
    "def max_diff(V,prev_V):\n",
    "    diff = 0\n",
    "    for i in range(len(V)):\n",
    "        for j in range(len(V[i])):\n",
    "            try:\n",
    "                new_diff = abs(V[i][j] - prev_V[i][j])\n",
    "                if new_diff>diff:\n",
    "                    diff = new_diff\n",
    "            except:\n",
    "                pass\n",
    "    return diff"
   ]
  },
  {
   "cell_type": "markdown",
   "metadata": {},
   "source": [
    "### <a id=\"next_V\"></a> next_V\n",
    "\n",
    "Formal Parameters:\n",
    "\n",
    "**Q_dict** A dictionary of Q values for each action\n",
    "\n",
    "**V** The current V list\n",
    "\n",
    "**policy** The current policy\n",
    "\n",
    "**return** a tuple containing the updated V list and policy list\n",
    "\n",
    "This function is part of the next step in [value_iteration](#value_iteration). At each point, it takes the max value for Q and the corresponding best action to build the return tuple"
   ]
  },
  {
   "cell_type": "code",
   "execution_count": 11,
   "metadata": {},
   "outputs": [],
   "source": [
    "def next_V(Q_dict,V,policy):\n",
    "    for i in range(len(V)):\n",
    "        for j in range(len(V[i])):\n",
    "            if V[i][j] == None:\n",
    "                continue\n",
    "            a = None\n",
    "            best_val = float('-inf')\n",
    "            for action in Q_dict.keys():\n",
    "                try:\n",
    "                    if Q_dict[action][i][j] > best_val:\n",
    "                        best_val = Q_dict[action][i][j]\n",
    "                        a = action\n",
    "                except:\n",
    "                    continue\n",
    "            V[i][j] = best_val\n",
    "            policy[i][j] = a\n",
    "    return V,policy\n",
    "                \n",
    "    "
   ]
  },
  {
   "cell_type": "markdown",
   "metadata": {},
   "source": [
    "### <a id=\"next_Q\"></a> next_Q\n",
    "\n",
    "Formal Parameters:\n",
    "\n",
    "**Q_dict** A dictionary of Q values for each action\n",
    "\n",
    "**action** The particular action associated with this Q list\n",
    "\n",
    "**actions** The dictionary of actions\n",
    "\n",
    "**gamma** The discount factor\n",
    "\n",
    "**world** The gridworld\n",
    "\n",
    "**return** the updated list of Q values for a particular action\n",
    "\n",
    "This function is part of the next step in [value_iteration](#value_iteration). At each point, it gives the weighted cost associated with a particular action, combined with the weighted cost of an unintended action"
   ]
  },
  {
   "cell_type": "code",
   "execution_count": 12,
   "metadata": {},
   "outputs": [],
   "source": [
    "def next_Q(V,action,actions,gamma,world):\n",
    "    Q = []\n",
    "    for i in world:\n",
    "        Q.append([0]*len(i))\n",
    "    for i in range(len(Q)):\n",
    "        for j in range(len(Q[i])):\n",
    "            if world[i][j] == 'x':\n",
    "                Q[i][j] = None\n",
    "                continue\n",
    "            try:\n",
    "                if i+action[0]< 0 or j+action[1]<0:\n",
    "                    raise IndexError\n",
    "                Q[i][j] += V[i+action[0]][j+action[1]]*.7*gamma\n",
    "                \n",
    "            except:\n",
    "                Q[i][j] += V[i][j]*.7*gamma\n",
    "            for a in actions:\n",
    "                if a == action:\n",
    "                    continue\n",
    "                try:\n",
    "                    if i+a[0]< 0 or j+a[1]<0:\n",
    "                        raise IndexError\n",
    "                    Q[i][j] += V[i+a[0]][j+a[1]]*.1*gamma\n",
    "                    \n",
    "                except:\n",
    "                    Q[i][j] += V[i][j]*.1*gamma\n",
    "    return Q\n",
    "    "
   ]
  },
  {
   "cell_type": "markdown",
   "metadata": {},
   "source": [
    "### <a id=\"value_iteration\"></a> value_iteration\n",
    "\n",
    "Formal Parameters:\n",
    "\n",
    "\n",
    "**world** The gridworld\n",
    "\n",
    "**costs** The costs dictionary mapping terrain strings to costs\n",
    "\n",
    "**goal** A tuple containing the location of the goal\n",
    "\n",
    "**rewards** The reward for reaching the goal\n",
    "\n",
    "**actions** The dictionary of actions\n",
    "\n",
    "**gamma** The discount factor\n",
    "\n",
    "**MAGIC CONSTANT** `EPSILON = .01` part of the stopping condition for value iteration - When the [maximum difference between succesive V values](#max_diff) is less than `EPSILON`, the value iteration loop ends.  Is magic because prof didn't include any epsilon in the method signature. \n",
    "\n",
    "**return** `policy` -- The list conataining the actions that any agent should take at any particular point.\n",
    "\n",
    "This is the driving stochastic value iteration algorithm. It first initializes V, policy, and Q, then iterates over best decisions using the discount factor."
   ]
  },
  {
   "cell_type": "code",
   "execution_count": 13,
   "metadata": {},
   "outputs": [],
   "source": [
    "def value_iteration(world, costs, goal, rewards, actions, gamma):\n",
    "    goal = (goal[1],goal[0])\n",
    "    EPSILON = .01\n",
    "    V,policy = initialize_V(world,costs,goal,rewards)\n",
    "    prev_V = deepcopy(V)\n",
    "    Q_dict = {action: initialize_Q(world,costs,goal,rewards,action,actions) for action in actions}\n",
    "    first = True\n",
    "    while first or max_diff(V,prev_V) > EPSILON:\n",
    "        first = False\n",
    "        prev_V = deepcopy(V)\n",
    "        V,policy = next_V(Q_dict,V,policy)\n",
    "        for action in Q_dict.keys():\n",
    "            Q_dict[action] = next_Q(V,action,actions,gamma,world)\n",
    "    return policy\n",
    "    "
   ]
  },
  {
   "cell_type": "markdown",
   "metadata": {},
   "source": [
    "### <a id=\"pretty_print_policy\"></a> pretty_print_policy\n",
    "\n",
    "Formal Parameters:\n",
    "\n",
    "\n",
    "**cols** columns in gridworld--unused\n",
    "\n",
    "**rows**-rows in gridworld--unused\n",
    "\n",
    "**policy**--policy: the list of lists containing the best action at any point\n",
    "\n",
    "**goal**--A tuple containing the position of the goal\n",
    "\n",
    "**prints** Some text art representing the policy, `'G'` at the goal, and `'X'` at impassible terrain,\n",
    "\n",
    "**return** `None`\n",
    "\n",
    "Pretty prints policy. `cols` and `rows` are unused because I want the option to have non-rectangular gridworlds.  I believe I made the rest of the code robust enough to handle this.  Prints `'X'` at impassible terrain because it isn't clear whether starting at impassible terrain is a degenerate case, just like a policy isn't printed at the goal."
   ]
  },
  {
   "cell_type": "code",
   "execution_count": 14,
   "metadata": {},
   "outputs": [],
   "source": [
    "def pretty_print_policy( cols, rows, policy, goal):\n",
    "    for i in range(len(policy)):\n",
    "        for j in range(len(policy[i])):\n",
    "            if i==goal[1] and j ==goal[0]:\n",
    "                print(\"G\",end=\"\")\n",
    "            elif policy[i][j] == (0,1):\n",
    "                print(\">\",end=\"\")\n",
    "            elif policy[i][j] == (0,-1):\n",
    "                print(\"<\",end=\"\")\n",
    "            elif policy[i][j] == (1,0):\n",
    "                print(\"v\",end=\"\")\n",
    "            elif policy[i][j] == (-1,0):\n",
    "                print(\"^\",end=\"\")\n",
    "            else:\n",
    "                print(\"X\",end=\"\")\n",
    "        print()"
   ]
  },
  {
   "cell_type": "markdown",
   "metadata": {},
   "source": [
    "## Value Iteration\n",
    "\n",
    "### Small World"
   ]
  },
  {
   "cell_type": "code",
   "execution_count": 15,
   "metadata": {},
   "outputs": [],
   "source": [
    "small_world = read_world( \"small.txt\")"
   ]
  },
  {
   "cell_type": "code",
   "execution_count": 16,
   "metadata": {},
   "outputs": [],
   "source": [
    "goal = (len(small_world[0])-1, len(small_world)-1)\n",
    "gamma = 0.9\n",
    "reward = 5\n",
    "small_policy = value_iteration(small_world, costs, goal, reward, cardinal_moves, gamma)"
   ]
  },
  {
   "cell_type": "code",
   "execution_count": 17,
   "metadata": {},
   "outputs": [
    {
     "name": "stdout",
     "output_type": "stream",
     "text": [
      "v>>>vv\n",
      "vvv>vv\n",
      "vvv>vv\n",
      "vvvXvv\n",
      "v>>>vv\n",
      ">>>>>v\n",
      ">>>>>G\n"
     ]
    }
   ],
   "source": [
    "cols = len(small_world[0])\n",
    "rows = len(small_world)\n",
    "test_policy = small_policy\n",
    "pretty_print_policy(cols, rows, test_policy, goal)"
   ]
  },
  {
   "cell_type": "markdown",
   "metadata": {},
   "source": [
    "### Large World"
   ]
  },
  {
   "cell_type": "code",
   "execution_count": 18,
   "metadata": {},
   "outputs": [],
   "source": [
    "large_world = read_world( \"large.txt\")"
   ]
  },
  {
   "cell_type": "code",
   "execution_count": 19,
   "metadata": {},
   "outputs": [],
   "source": [
    "goal = (len(large_world[0])-1, len(large_world)-1) # Lower Right Corner FILL ME IN\n",
    "gamma = 0.9\n",
    "reward = 100\n",
    "\n",
    "large_policy = value_iteration(large_world, costs, goal, reward, cardinal_moves, gamma)"
   ]
  },
  {
   "cell_type": "code",
   "execution_count": 20,
   "metadata": {},
   "outputs": [
    {
     "name": "stdout",
     "output_type": "stream",
     "text": [
      "v>>>>>>>>>>>>>>vv>>>>>>>>vv\n",
      "vv>>>>>>>>>>>>vvv<XXXXXXXvv\n",
      "vvvvXX>>>>>>>>>vvXXXvvvXXvv\n",
      "vvvvvXXX>>>>>>>>>>>vvv<XXvv\n",
      "vvvv<XXv>>>>>>>>>>>vvvXXXvv\n",
      "vvv<XXvvv>>>>>>>>v>>>>vXvvv\n",
      "vvvXXvvvvv>^XXX>>v>>>>>vvvv\n",
      "v>>>>vvvvvv^<<XXX>>>>>>vvvv\n",
      "v>>>vvvvvvv<<<XX>>>>>>>vvvv\n",
      "vv>>vvvvvv<XXXX>>>>>>>>vvvv\n",
      "v>>>>vvvv<XXX>>>>>>vXXXvvvv\n",
      ">>>>>vvvvXXv>>>>>>>>vXXvvvv\n",
      ">>>>>vvvvXXv>>>>>>>>vX>vvvv\n",
      ">>>>>vv>>>vvv>>>>>>>>>>vvvv\n",
      "vv>^X>v>>vvv<>>>>>>>>^Xvvvv\n",
      "vv<XXX>>>>vvXXX>>>>>^XXvvvv\n",
      "vvXX>>>>>>>>>vXXX>^XXXvvvvv\n",
      "vvvXX>>>>>>>>>>vXXXX>>>vvvv\n",
      "vvvXXX>>>>>>>>>>>>>>>>>vvvv\n",
      "vv>vXXX>>>>>>>>>>>>>>>vvvvv\n",
      "v>>>>vXX>>>>>^X>>>>>>>>vvvv\n",
      "v>>>>>vXXX>^XX>>>>>>>>vvvvv\n",
      ">>>>>>>>vXXXX>>>>>>v>v>vvvv\n",
      ">>>>>>>>>vv>>>>>^XX>>v>vvvv\n",
      "vX>>>>>>>vvXXX>^XXvXX>>vvvv\n",
      "vXXX>>>>>>>vXXXX>>>vXXXvvvv\n",
      ">>>>>>>>>>>>>>>>>>>>>>>>>>G\n"
     ]
    }
   ],
   "source": [
    "cols = len(large_world[0])\n",
    "rows = len(large_world)\n",
    "\n",
    "pretty_print_policy( cols, rows, large_policy, goal)"
   ]
  },
  {
   "cell_type": "markdown",
   "metadata": {},
   "source": [
    "## Before You Submit...\n",
    "\n",
    "1. Did you provide output exactly as requested?\n",
    "2. Did you re-execute the entire notebook? (\"Restart Kernel and Rull All Cells...\")\n",
    "3. If you did not complete the assignment or had difficulty please explain what gave you the most difficulty in the Markdown cell below.\n",
    "4. Did you change the name of the file to `jhed_id.ipynb`?\n",
    "\n",
    "Do not submit any other files."
   ]
  },
  {
   "cell_type": "markdown",
   "metadata": {},
   "source": []
  },
  {
   "cell_type": "markdown",
   "metadata": {},
   "source": [
    "My only concerns are if we should consider an agent that starts his journey on impassible terrain, and why there is no epsilon parameter in professor's given method signature for value iteration."
   ]
  },
  {
   "cell_type": "code",
   "execution_count": null,
   "metadata": {},
   "outputs": [],
   "source": []
  },
  {
   "cell_type": "code",
   "execution_count": null,
   "metadata": {},
   "outputs": [],
   "source": []
  },
  {
   "cell_type": "code",
   "execution_count": null,
   "metadata": {},
   "outputs": [],
   "source": []
  },
  {
   "cell_type": "code",
   "execution_count": null,
   "metadata": {},
   "outputs": [],
   "source": []
  },
  {
   "cell_type": "code",
   "execution_count": null,
   "metadata": {},
   "outputs": [],
   "source": []
  },
  {
   "cell_type": "code",
   "execution_count": null,
   "metadata": {},
   "outputs": [],
   "source": []
  },
  {
   "cell_type": "code",
   "execution_count": null,
   "metadata": {},
   "outputs": [],
   "source": []
  },
  {
   "cell_type": "code",
   "execution_count": null,
   "metadata": {},
   "outputs": [],
   "source": []
  },
  {
   "cell_type": "code",
   "execution_count": null,
   "metadata": {},
   "outputs": [],
   "source": []
  },
  {
   "cell_type": "code",
   "execution_count": null,
   "metadata": {},
   "outputs": [],
   "source": []
  },
  {
   "cell_type": "code",
   "execution_count": null,
   "metadata": {},
   "outputs": [],
   "source": []
  },
  {
   "cell_type": "code",
   "execution_count": null,
   "metadata": {},
   "outputs": [],
   "source": []
  },
  {
   "cell_type": "code",
   "execution_count": null,
   "metadata": {},
   "outputs": [],
   "source": []
  },
  {
   "cell_type": "code",
   "execution_count": null,
   "metadata": {},
   "outputs": [],
   "source": []
  },
  {
   "cell_type": "code",
   "execution_count": null,
   "metadata": {},
   "outputs": [],
   "source": []
  },
  {
   "cell_type": "code",
   "execution_count": null,
   "metadata": {},
   "outputs": [],
   "source": []
  },
  {
   "cell_type": "code",
   "execution_count": null,
   "metadata": {},
   "outputs": [],
   "source": []
  }
 ],
 "metadata": {
  "kernelspec": {
   "display_name": "Python (en605645)",
   "language": "python",
   "name": "en605645"
  },
  "language_info": {
   "codemirror_mode": {
    "name": "ipython",
    "version": 3
   },
   "file_extension": ".py",
   "mimetype": "text/x-python",
   "name": "python",
   "nbconvert_exporter": "python",
   "pygments_lexer": "ipython3",
   "version": "3.10.6"
  },
  "toc": {
   "colors": {
    "hover_highlight": "#DAA520",
    "navigate_num": "#000000",
    "navigate_text": "#333333",
    "running_highlight": "#FF0000",
    "selected_highlight": "#FFD700",
    "sidebar_border": "#EEEEEE",
    "wrapper_background": "#FFFFFF"
   },
   "moveMenuLeft": true,
   "nav_menu": {
    "height": "171px",
    "width": "252px"
   },
   "navigate_menu": true,
   "number_sections": true,
   "sideBar": true,
   "threshold": 4,
   "toc_cell": false,
   "toc_section_display": "block",
   "toc_window_display": false,
   "widenNotebook": false
  }
 },
 "nbformat": 4,
 "nbformat_minor": 4
}
