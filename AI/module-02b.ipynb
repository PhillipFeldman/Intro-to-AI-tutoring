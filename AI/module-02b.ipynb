{
 "cells": [
  {
   "cell_type": "markdown",
   "metadata": {},
   "source": [
    "# Module 2 - Programming Assignment\n",
    "\n",
    "## Directions\n",
    "\n",
    "1. Change the name of this file to be your JHED id as in `jsmith299.ipynb`. Because sure you use your JHED ID (it's made out of your name and not your student id which is just letters and numbers).\n",
    "2. Make sure the notebook you submit is cleanly and fully executed. I do not grade unexecuted notebooks.\n",
    "3. Submit your notebook back in Blackboard where you downloaded this file.\n",
    "\n",
    "*Provide the output **exactly** as requested*"
   ]
  },
  {
   "cell_type": "code",
   "execution_count": 654,
   "metadata": {},
   "outputs": [],
   "source": [
    "from pprint import pprint"
   ]
  },
  {
   "cell_type": "markdown",
   "metadata": {},
   "source": [
    "## Local Search - Genetic Algorithm\n",
    "\n",
    "There are some key ideas in the Genetic Algorithm.\n",
    "\n",
    "First, there is a problem of some kind that either *is* an optimization problem or the solution can be expressed in terms of an optimization problem.\n",
    "For example, if we wanted to minimize the function\n",
    "\n",
    "$$f(x) = \\sum (x_i - 0.5)^2$$\n",
    "\n",
    "where $n = 10$.\n",
    "This *is* an optimization problem. Normally, optimization problems are much, much harder.\n",
    "\n",
    "![Eggholder](http://www.sfu.ca/~ssurjano/egg.png)!\n",
    "\n",
    "The function we wish to optimize is often called the **objective function**.\n",
    "The objective function is closely related to the **fitness** function in the GA.\n",
    "If we have a **maximization** problem, then we can use the objective function directly as a fitness function.\n",
    "If we have a **minimization** problem, then we need to convert the objective function into a suitable fitness function, since fitness functions must always mean \"more is better\".\n",
    "\n",
    "Second, we need to *encode* candidate solutions using an \"alphabet\" analogous to G, A, T, C in DNA.\n",
    "This encoding can be quite abstract.\n",
    "You saw this in the Self Check.\n",
    "There a floating point number was encoded as bits, just as in a computer and a sophisticated decoding scheme was then required.\n",
    "\n",
    "Sometimes, the encoding need not be very complicated at all.\n",
    "For example, in the real-valued GA, discussed in the Lectures, we could represent 2.73 as....2.73.\n",
    "This is similarly true for a string matching problem.\n",
    "We *could* encode \"a\" as \"a\", 97, or '01100001'.\n",
    "And then \"hello\" would be:\n",
    "\n",
    "```\n",
    "[\"h\", \"e\", \"l\", \"l\", \"o\"]\n",
    "```\n",
    "\n",
    "or\n",
    "\n",
    "```\n",
    "[104, 101, 108, 108, 111]\n",
    "```\n",
    "\n",
    "or\n",
    "\n",
    "```\n",
    "0, 1, 1, 0, 1, 0, 0, 0, 0, 1, 1, 0, 0, 1, 0, 1, 0, 1, 1, 0, 1, 1, 0, 0, 0, 1, 1, 0, 1, 1, 0, 0, 0, 1, 1, 0, 1, 1, 1, 1\n",
    "```\n",
    "\n",
    "In Genetics terminology, this is the **chromosome** of the individual. And if this individual had the **phenotype** \"h\" for the first character then they would have the **genotype** for \"h\" (either as \"h\", 104, or 01101000).\n",
    "\n",
    "To keep it straight, think **geno**type is **genes** and **pheno**type is **phenomenon**, the actual thing that the genes express.\n",
    "So while we might encode a number as 10110110 (genotype), the number itself, 182, is what goes into the fitness function.\n",
    "The environment operates on zebras, not the genes for stripes."
   ]
  },
  {
   "cell_type": "markdown",
   "metadata": {},
   "source": [
    "## String Matching\n",
    "\n",
    "You are going to write a Genetic Algorithm that will solve the problem of matching a target string (at least at the start).\n",
    "Now, this is kind of silly because in order for this to work, you need to know the target string and if you know the target string, why are you trying to do it?\n",
    "Well, the problem is *pedagogical*.\n",
    "It's a fun way of visualizing the GA at work, because as the GA finds better and better candidates, they make more and more sense.\n",
    "\n",
    "Now, string matching is not *directly* an optimization problem so this falls under the general category of \"if we convert the problem into an optimization problem we can solve it with an optimization algorithm\" approach to problem solving.\n",
    "This happens all the time.\n",
    "We have a problem.\n",
    "We can't solve it.\n",
    "We convert it to a problem we *can* solve.\n",
    "In this case, we're using the GA to solve the optimization part.\n",
    "\n",
    "And all we need is some sort of measure of the difference between two strings.\n",
    "We can use that measure as a **loss function**.\n",
    "A loss function gives us a score tells us how similar two strings are.\n",
    "The loss function becomes our objective function and we use the GA to minimize it by converting the objective function to a fitness function.\n",
    "So that's the first step, come up with the loss/objective function.\n",
    "The only stipulation is that it must calculate the score based on element to element (character to character) comparisons with no global transformations of the candidate or target strings.\n",
    "\n",
    "And since this is a GA, we need a **genotype**.\n",
    "The genotype for this problem is a list of \"characters\" (individual letters aren't special in Python like they are in some other languages):\n",
    "\n",
    "```\n",
    "[\"h\", \"e\", \"l\", \"l\", \"o\"]\n",
    "```\n",
    "\n",
    "and the **phenotype** is the resulting string:\n",
    "\n",
    "```\n",
    "\"hello\"\n",
    "```\n",
    "\n",
    "In addition to the generic code and problem specific loss function, you'll need to pick parameters for the run.\n",
    "These parameters include:\n",
    "\n",
    "1. population size\n",
    "2. number of generations\n",
    "3. probability of crossover\n",
    "4. probability of mutation\n",
    "\n",
    "You will also need to pick a selection algorithm, either roulette wheel or tournament selection.\n",
    "In the later case, you will need a tournament size.\n",
    "This is all part of the problem.\n",
    "\n",
    "Every **ten** (10) generations, you should print out the fitness, genotype, and phenotype of the best individual in the population for the specific generation.\n",
    "The function should return the best individual *of the entire run*, using the same format."
   ]
  },
  {
   "cell_type": "code",
   "execution_count": 655,
   "metadata": {},
   "outputs": [],
   "source": [
    "ALPHABET = \"abcdefghijklmnopqrstuvwxyz \""
   ]
  },
  {
   "cell_type": "markdown",
   "metadata": {},
   "source": [
    "<a id=\"genetic_algorithm\"></a>\n",
    "### genetic_algorithm\n",
    "\n",
    "**(**\n",
    "\n",
    "You can add as many parameters as you need to `genetic_algorithm`.\n",
    "The documentation should be filled out according to the programming assignment requirements for the course.\n",
    "You do not need to unit test this function.\n",
    "Remember that functions should \"only do one thing\", may not be more than 20 lines.\n",
    "Write helper functions with documentation and unit tests.\n",
    "\n",
    "A complex function and application like this has a lot of interesting potential:\n",
    "\n",
    "1. There are a lot of parameters We could reduce those by using a Dictionary.\n",
    "2. There are a lot of different possible behaviors, including problem specific behaviors. We could use higher order functions.\n",
    "\n",
    "Beyond these hints, I leave those decisions to you.\n",
    "\n",
    "\n",
    "*This is very Mission Impossible. After reading the directions in this Markdown cell, when the time is right, remove them  (everything between and including the parentheses) and replace with your documentation for `genetic_algorithm`! I have started you off.*\n",
    "\n",
    "**)**\n",
    "\n"
   ]
  },
  {
   "cell_type": "code",
   "execution_count": 656,
   "metadata": {},
   "outputs": [],
   "source": [
    "import random"
   ]
  },
  {
   "cell_type": "markdown",
   "metadata": {},
   "source": [
    "\n",
    "### <a id=\"genetic_algorithm\"></a> genetic_algorithm\n",
    "\n",
    "Formal parameters:\n",
    "**check** a function that will check if a target string is in a population\n",
    "**target** the target string\n",
    "**fitness** the fitness function\n",
    "**generation_size** the size of each generation\n",
    "**alphabet** the possible characters in the alphabet\n",
    "**max_recursion** The maximum total runs for the algorithm.\n",
    "**print_best** whether to print the best member of the population according to fitness, every 10 runs\n",
    "**population** the current population\n",
    "**generation** counts how many generations have been made\n",
    "*returns* Either the target string, or if max_recursion reaches 0, the most fit member of the population\n",
    "\n",
    "<p>The genetic algorithm is a randomized algorithm. It first creates a population of random strings.  It then combines the strings at a cutoff point and possibly mutates the resulting strings.  The algorithm stops when the target string is a member of the population, or a maximum amount of recursions has been reached.</p>"
   ]
  },
  {
   "cell_type": "code",
   "execution_count": 657,
   "metadata": {},
   "outputs": [],
   "source": [
    "def genetic_algorithm(check, target, fitness, generation_size, alphabet, max_recursion, print_best=True, population=[],\n",
    "                      generation=0):  # add your formal parameters\n",
    "    if generation == 0:\n",
    "        population = generate_initial_population(target, generation_size, alphabet)\n",
    "        \n",
    "    if check(target,population):\n",
    "        return check(target,population)\n",
    "    \n",
    "\n",
    "    ranking_dict, total_rank, max_rank, second_rank, best, second_best = get_stats(population,fitness,target)\n",
    "    \n",
    "    if generation%10==9 and print_best:\n",
    "        pprint(get_best(ranking_dict),compact=True)\n",
    "        \n",
    "    if max_recursion == 0:\n",
    "        return get_best(ranking_dict)\n",
    "\n",
    "    next_generation = []\n",
    "    while generation_size != len(next_generation)-2:\n",
    "        mate1,mate2 = pick_Mate(ranking_dict, total_rank)\n",
    "        child1,child2 = mate(mate1, mate2)\n",
    "        next_generation += [child1,child2]\n",
    "\n",
    "    for i in range(len(next_generation)):\n",
    "        if fitness(next_generation[i],target) < max_rank:\n",
    "            next_generation[i] = mutate(next_generation[i], alphabet)\n",
    "            \n",
    "    next_generation+= [best,second_best]\n",
    "    random.shuffle(next_generation)\n",
    "    return genetic_algorithm(check,target, fitness, generation_size, alphabet, max_recursion - 1, print_best, next_generation,\n",
    "                             generation + 1)  \n"
   ]
  },
  {
   "cell_type": "code",
   "execution_count": 658,
   "metadata": {},
   "outputs": [],
   "source": [
    "def check_equality(target,population):\n",
    "    for p in population:\n",
    "        if p==target:\n",
    "            return p\n",
    "    return False"
   ]
  },
  {
   "cell_type": "code",
   "execution_count": 659,
   "metadata": {},
   "outputs": [],
   "source": [
    "def get_stats(population,fitness,target):\n",
    "    ranking_dict = {}\n",
    "    total_rank = 0\n",
    "    max_rank = 0\n",
    "    second_rank = 0\n",
    "    best = population[0]\n",
    "    second_best = population[0]\n",
    "    for p in population:\n",
    "        curr_rank = fitness(target,p)\n",
    "        ranking_dict[p] = curr_rank\n",
    "        total_rank+= curr_rank\n",
    "        if curr_rank >= max_rank:\n",
    "            second_rank = max_rank\n",
    "            max_rank = curr_rank\n",
    "            second_best = best\n",
    "            best = p\n",
    "            \n",
    "    return ranking_dict, total_rank, max_rank, second_rank, best, second_best"
   ]
  },
  {
   "cell_type": "code",
   "execution_count": 660,
   "metadata": {},
   "outputs": [],
   "source": [
    "def generate_initial_population(target,generation_size,alphabet):\n",
    "    population = []\n",
    "    for i in range(generation_size):\n",
    "        member = \"\"\n",
    "        for k in range(len(target)):\n",
    "            member += random.choice(alphabet)\n",
    "        population.append(member)\n",
    "    return population\n",
    "            "
   ]
  },
  {
   "cell_type": "code",
   "execution_count": 661,
   "metadata": {},
   "outputs": [],
   "source": [
    "def get_best(ranking_dict):\n",
    "    best = \"\"\n",
    "    best_score = -1\n",
    "    for k in ranking_dict.keys():\n",
    "        if ranking_dict[k]>best_score:\n",
    "            best_score = ranking_dict[k]\n",
    "            best = k\n",
    "    return best"
   ]
  },
  {
   "cell_type": "markdown",
   "metadata": {},
   "source": [
    "### <a id=\"fitness1\"></a> fitness1\n",
    "\n",
    "Formal Parameters:\n",
    "**target** the target string\n",
    "**actual** the string to compare to the target\n",
    "*returns* a score based on target and actual\n",
    "\n",
    "The fitness1 function ranks a string with respect to the target string, so that the [pick_Mate](#pick_Mate) function will be biased appropriately when picking mates.\n",
    "\n",
    "I thought that simply counting matching characters would not be enough for this problem, since if the target string is *have fun*, the strings *havebull* and *hxvx xux* would both be given a fitness score of *4*. When mating, it is expected that the cutoff point will be in the middle.  Then, *havebull* would be expected to produce the child *have????*, and *hxvx xux* would be expected to produce inferior offspring.  So, I thought that the best fitness function for this problem would rank strings with lots of consecutive matching characters closest to the endpoints of the string highest.\n",
    "\n",
    "However, upon using such a [fitness function](#fitness1_fail), the [unit test for success rate](#statistical_unit_test) of the algorithm would routinely fail, so I reverted it back to the following."
   ]
  },
  {
   "cell_type": "code",
   "execution_count": 662,
   "metadata": {},
   "outputs": [],
   "source": [
    "def fitness1(target,actual):\n",
    "    high_score = 0\n",
    "    current_score = 0\n",
    "    \n",
    "    for i in range(len(target)):\n",
    "        if target[i] == actual[i]:\n",
    "            current_score+=1\n",
    "            high_score+=1\n",
    "        else:\n",
    "            if current_score > high_score:\n",
    "                high_score += current_score\n",
    "            current_score = 0\n",
    "\n",
    "    return high_score"
   ]
  },
  {
   "cell_type": "code",
   "execution_count": 663,
   "metadata": {},
   "outputs": [
    {
     "name": "stdout",
     "output_type": "stream",
     "text": [
      "4\n",
      "4\n"
     ]
    }
   ],
   "source": [
    "print(fitness1(\"have fun\",\"havebull\"))\n",
    "print(fitness1(\"have fun\",\"hxvx xux\"))\n",
    "\n",
    "assert(fitness1(\"have fun\",\"havebull\")==fitness1(\"have fun\",\"hxvx xux\"))"
   ]
  },
  {
   "cell_type": "markdown",
   "metadata": {},
   "source": [
    "\n",
    "### <a id=\"fitness1_fail\"></a> fitness1_fail\n",
    "\n",
    "Formal Parameters:\n",
    "**target** the target string\n",
    "**actual** the string to compare to the target\n",
    "*returns* a score based on target and actual\n",
    "\n",
    "The fitness function that should, in theory, be better than the [one above](#fitness1).  However, it only achieved approximately 80% [success rate](#statistical_unit_test).  However, when it succeeded, it did seem to succeed faster."
   ]
  },
  {
   "cell_type": "code",
   "execution_count": 664,
   "metadata": {},
   "outputs": [],
   "source": [
    "def fitness1_fail(target,actual):\n",
    "    high_score = 0\n",
    "    current_score = 0\n",
    "    run_length = 0\n",
    "    for i in range(len(target)):\n",
    "        if target[i] == actual[i]:\n",
    "            current_score+=1\n",
    "            high_score+=1\n",
    "            run_length+=1\n",
    "        else:\n",
    "            if current_score > high_score:\n",
    "                high_score += current_score\n",
    "            if run_length >2:\n",
    "                high_score+=run_length\n",
    "            run_length = 0\n",
    "                \n",
    "            current_score = 0\n",
    "\n",
    "    return high_score"
   ]
  },
  {
   "cell_type": "code",
   "execution_count": 665,
   "metadata": {},
   "outputs": [
    {
     "name": "stdout",
     "output_type": "stream",
     "text": [
      "8\n",
      "4\n"
     ]
    }
   ],
   "source": [
    "print(fitness1_fail(\"have fun\",\"havebull\"))\n",
    "print(fitness1_fail(\"have fun\",\"hxvx xux\"))\n",
    "\n",
    "assert(fitness1_fail(\"have fun\",\"havebull\")>fitness1_fail(\"have fun\",\"hxvx xux\"))"
   ]
  },
  {
   "cell_type": "markdown",
   "metadata": {},
   "source": [
    "### <a id=\"pick_Mate\"></a> pick_Mate\n",
    "Formal Parameters:\n",
    "**ranking_dict** a dictionary mapping each member of the population to its fitness\n",
    "**total_rank** the sum of all ranks\n",
    "*returns* a tuple of strings\n",
    "\n",
    "The pick_Mate function chooses two mates to have children, which will then be used in the [mate function](#mate).  It is biased towards picking mates with higher ranking from the [fitness function](#fitness1)."
   ]
  },
  {
   "cell_type": "code",
   "execution_count": 666,
   "metadata": {},
   "outputs": [],
   "source": [
    "def pick_Mate(ranking_dict, total_rank):\n",
    "    m1,m2,total,r = 0,1,0,random.random()\n",
    "    \n",
    "    for member in ranking_dict.keys():\n",
    "        total += ranking_dict[member]/total_rank\n",
    "        if r < total:\n",
    "            m1= member\n",
    "            break\n",
    "            \n",
    "    r,total = random.random(),0\n",
    "    \n",
    "    for member in ranking_dict.keys():\n",
    "        total += ranking_dict[member] / total_rank\n",
    "        if r < total and member != m1:\n",
    "            m2 = member\n",
    "            break\n",
    "\n",
    "    if type(m1) != int and type(m2) != int:\n",
    "        return m1,m2\n",
    "\n",
    "    if type(m1) != int:\n",
    "        return m1,random.choice(list(ranking_dict.keys()))\n",
    "\n",
    "    if type(m2) != int:\n",
    "        return m2,random.choice(list(ranking_dict.keys()))\n",
    "\n",
    "    return random.choice(list(ranking_dict.keys())),random.choice(list(ranking_dict.keys()))   "
   ]
  },
  {
   "cell_type": "code",
   "execution_count": null,
   "metadata": {},
   "outputs": [],
   "source": []
  },
  {
   "cell_type": "markdown",
   "metadata": {},
   "source": [
    "### <a id=\"mate\"></a> mate\n",
    "\n",
    "Formal Parameters:\n",
    "**mate1** a string to combine with the other\n",
    "**mate2** a string to combine with the other\n",
    "*returns* a tuple of strings resulting from the combination of mate1 and mate2\n",
    "\n",
    "The mate function simply combines 2 mates at a particular cutoff point, and produces two children that are combinations of those two mates."
   ]
  },
  {
   "cell_type": "code",
   "execution_count": 667,
   "metadata": {},
   "outputs": [],
   "source": [
    "def mate(mate1,mate2):\n",
    "    r = random.randrange(0,len(mate1))\n",
    "    child1 = mate1[0:r]+mate2[r:]\n",
    "    child2 = mate2[0:r]+mate1[r:]\n",
    "    return child1,child2"
   ]
  },
  {
   "cell_type": "code",
   "execution_count": 668,
   "metadata": {},
   "outputs": [],
   "source": [
    "possible_mates = []\n",
    "mate1 = \"abcd\"\n",
    "mate2 = \"efgh\"\n",
    "for r in range(4):\n",
    "    possible_mates.append(mate1[0:r]+mate2[r:])\n",
    "    possible_mates.append(mate2[0:r]+mate1[r:])\n",
    "    \n",
    "assert(mate(mate1,mate2)[0] in possible_mates)\n",
    "assert(mate(mate1,mate2)[1] in possible_mates)"
   ]
  },
  {
   "cell_type": "markdown",
   "metadata": {},
   "source": [
    "### <a id=\"mutate\"></a> mutate\n",
    "\n",
    "Formal Parameters:\n",
    "**member** a string\n",
    "**alphabet** the alphabet from which to pick a mutation\n",
    "*returns* member, with possibly one character replaced from a random character from alphabet\n",
    "\n",
    "The mutate function introduces randomness into the population.  It is important because otherwise, too much diversity could be lost from survival of the fittest, and it may then be impossible to arrive at the correct solution."
   ]
  },
  {
   "cell_type": "code",
   "execution_count": 669,
   "metadata": {},
   "outputs": [],
   "source": [
    "def mutate(member, alphabet):\n",
    "    position = random.randrange(0,len(member))\n",
    "    probability = random.random()\n",
    "    swap = random.choice(alphabet)\n",
    "    if probability>.75:\n",
    "        member = member[0:position]+ swap+member[position+1:]\n",
    "    return member"
   ]
  },
  {
   "cell_type": "code",
   "execution_count": 670,
   "metadata": {},
   "outputs": [
    {
     "name": "stdout",
     "output_type": "stream",
     "text": [
      "76\n",
      "24\n"
     ]
    }
   ],
   "source": [
    "s = \"abcd\"\n",
    "mutations = []\n",
    "for i in range(100):\n",
    "    mutations.append(mutate(s,ALPHABET))\n",
    "    \n",
    "mutate_count=0\n",
    "match_count=0\n",
    "for i in mutations:\n",
    "    if i == s:\n",
    "        match_count+=1\n",
    "    else:\n",
    "        mutate_count+=1\n",
    "        assert(fitness1(s,i)==3)\n",
    "assert(match_count>mutate_count)\n",
    "print(match_count)\n",
    "print(mutate_count)"
   ]
  },
  {
   "cell_type": "markdown",
   "metadata": {},
   "source": [
    "### <a id=\"statistical_unit_test\"></a> statistical unit test\n",
    "\n",
    "The test below is to test the percentage of success of the [genetic algorithm](#genetic_algorithm) given the specifications of problem 1.  Modify total to get a larger sample size.  The test has never failed for **Total = 100**"
   ]
  },
  {
   "cell_type": "code",
   "execution_count": 671,
   "metadata": {},
   "outputs": [
    {
     "name": "stdout",
     "output_type": "stream",
     "text": [
      "10\n"
     ]
    }
   ],
   "source": [
    "test_target = \"this is so much fun\"\n",
    "count = 0\n",
    "total =10\n",
    "for i in range(total):\n",
    "    if genetic_algorithm(check_equality,test_target,fitness1,200,ALPHABET,400,False)==test_target:\n",
    "        count+=1\n",
    "        \n",
    "print(count)\n",
    "assert(count/total >=.95)"
   ]
  },
  {
   "cell_type": "markdown",
   "metadata": {},
   "source": [
    "## Problem 1\n",
    "\n",
    "The target is the string \"this is so much fun\".\n",
    "The challenge, aside from implementing the basic algorithm, is deriving a fitness function based on \"b\" - \"p\" (for example).\n",
    "The fitness function should come up with a fitness score based on element to element comparisons between target v. phenotype."
   ]
  },
  {
   "cell_type": "code",
   "execution_count": 672,
   "metadata": {},
   "outputs": [],
   "source": [
    "target1 = \"this is so much fun\""
   ]
  },
  {
   "cell_type": "code",
   "execution_count": 673,
   "metadata": {},
   "outputs": [],
   "source": [
    "# set up if you need it."
   ]
  },
  {
   "cell_type": "code",
   "execution_count": 674,
   "metadata": {},
   "outputs": [
    {
     "name": "stdout",
     "output_type": "stream",
     "text": [
      "'twpsbisoqomucch fwn'\n",
      "'this iotsomuuch fwn'\n",
      "'this iotsomuuch fln'\n",
      "'thik istsoomuch fun'\n",
      "'this istsommuch fun'\n",
      "'this istso much fun'\n",
      "'this istso much fun'\n",
      "'this istso much fun'\n",
      "'this istso much fun'\n",
      "'this istso much fun'\n",
      "'this istso much fun'\n",
      "'this istso much fun'\n",
      "'thil is so much fun'\n"
     ]
    }
   ],
   "source": [
    "result1 = genetic_algorithm(check_equality,target1,fitness1,200,ALPHABET,400) # do what you need to do for your implementation but don't change the lines above or below."
   ]
  },
  {
   "cell_type": "code",
   "execution_count": 675,
   "metadata": {},
   "outputs": [
    {
     "name": "stdout",
     "output_type": "stream",
     "text": [
      "'this is so much fun'\n"
     ]
    }
   ],
   "source": [
    "pprint(result1, compact=True)"
   ]
  },
  {
   "cell_type": "markdown",
   "metadata": {},
   "source": [
    "## Problem 2\n",
    "\n",
    "You should have working code now.\n",
    "The goal here is to think a bit more about fitness functions.\n",
    "The target string is now, 'nuf hcum os si siht'.\n",
    "This is obviously target #1 but reversed.\n",
    "If we just wanted to match the string, this would be trivial.\n",
    "Instead, this problem, we want to \"decode\" the string so that the best individual displays the target forwards.\n",
    "In order to do this, you'll need to come up with a fitness function that measures how successful candidates are towards this goal.\n",
    "The constraint is that you may not perform any global operations on the target or individuals.\n",
    "Your fitness function must still compare a single gene against a single gene.\n",
    "Your solution will likely not be Pythonic but use indexing.\n",
    "That's ok.\n",
    "<div style=\"background: lemonchiffon; margin:20px; padding: 20px;\">\n",
    "    <strong>Important</strong>\n",
    "    <p>\n",
    "        You may not reverse an entire string (either target or candidate) at any time.\n",
    "        Everything must be a computation of one gene against one gene (one letter against one letter).\n",
    "        Failure to follow these directions will result in 0 points for the problem.\n",
    "    </p>\n",
    "</div>\n",
    "\n",
    "The best individual in the population is the one who expresses this string *forwards*."
   ]
  },
  {
   "cell_type": "code",
   "execution_count": 676,
   "metadata": {},
   "outputs": [],
   "source": [
    "target2 = \"nuf hcum os si siht\""
   ]
  },
  {
   "cell_type": "markdown",
   "metadata": {},
   "source": [
    "### <a id=\"fitness2\"></a> fitness2\n",
    "\n",
    "Formal Parameters:\n",
    "**target** the target string\n",
    "**actual** the string to compare to the target\n",
    "*returns* a score based on target and actual\n",
    "\n",
    "The fitness2 function is simply [fitness1](#fitness1) in reverse."
   ]
  },
  {
   "cell_type": "code",
   "execution_count": 677,
   "metadata": {},
   "outputs": [],
   "source": [
    "# set up if you need it.\n",
    "def fitness2(target,actual):\n",
    "    high_score = 0\n",
    "    current_score = 0\n",
    "    for i in range(len(target)):\n",
    "        if target[i] == actual[len(target)-1-i]:\n",
    "            current_score+=1\n",
    "            high_score+=1\n",
    "        else:\n",
    "            if current_score > high_score:\n",
    "                high_score += current_score\n",
    "            current_score = 0\n",
    "\n",
    "    return high_score"
   ]
  },
  {
   "cell_type": "code",
   "execution_count": 678,
   "metadata": {},
   "outputs": [],
   "source": [
    "assert(fitness2(\"hello\",\"olleh\")==5)"
   ]
  },
  {
   "cell_type": "code",
   "execution_count": 679,
   "metadata": {},
   "outputs": [],
   "source": [
    "def check_reverse(target,population):\n",
    "    for p in population:\n",
    "        match = True\n",
    "        for i in range(len(target)):\n",
    "            if p[i]!=target[len(target)-i-1]:\n",
    "                match = False\n",
    "                break\n",
    "        if match:\n",
    "            return p             \n",
    "    return False"
   ]
  },
  {
   "cell_type": "code",
   "execution_count": 680,
   "metadata": {},
   "outputs": [
    {
     "name": "stdout",
     "output_type": "stream",
     "text": [
      "'vhis tdwsooluehpfrn'\n",
      "'thisbjjwso mlchqfun'\n",
      "'bhis nsqsoemuch fun'\n",
      "'this ns soemuch fun'\n",
      "'this xsqso much fun'\n",
      "'this ns so much fun'\n",
      "'this vs so much fun'\n",
      "'this ns so much fun'\n",
      "'this ls so much fun'\n",
      "'this ns so much fun'\n",
      "'this vs so much fun'\n",
      "'this xs so much fun'\n",
      "'this  s so much fun'\n",
      "'this ks so much fun'\n",
      "'this vs so much fun'\n",
      "'this js so much fun'\n",
      "'this fs so much fun'\n",
      "'this ss so much fun'\n"
     ]
    }
   ],
   "source": [
    "result2= genetic_algorithm(check_reverse,target2,fitness2,200,ALPHABET,400)# do what you need to do for your implementation but don't change the lines above or below."
   ]
  },
  {
   "cell_type": "code",
   "execution_count": 681,
   "metadata": {},
   "outputs": [
    {
     "name": "stdout",
     "output_type": "stream",
     "text": [
      "'this is so much fun'\n"
     ]
    }
   ],
   "source": [
    "pprint(result2, compact=True)"
   ]
  },
  {
   "cell_type": "markdown",
   "metadata": {},
   "source": [
    "## Problem 3\n",
    "\n",
    "This is a variation on the theme of Problem 2.\n",
    "The Caeser Cypher replaces each letter of a string with the letter 13 characters down alphabet (rotating from \"z\" back to \"a\" as needed).\n",
    "This is also known as ROT13 (for \"rotate 13\").\n",
    "Latin did not have spaces (and the space is not continguous with the letters a-z) so we'll remove them from our alphabet.\n",
    "Again, the goal is to derive a fitness function that compares a single gene against a single gene, without global transformations.\n",
    "This fitness function assigns higher scores to individuals that correctly decode the target.\n",
    "\n",
    "<div style=\"background: lemonchiffon; margin:20px; padding: 20px;\">\n",
    "    <strong>Important</strong>\n",
    "    <p>\n",
    "        You may not apply ROT13 to an entire string (either target or candidate) at any time.\n",
    "        Everything must be a computation of one gene against one gene.\n",
    "        Failure to follow these directions will result in 0 points for the problem.\n",
    "    </p>\n",
    "</div>\n",
    "\n",
    "The best individual will express the target *decoded*."
   ]
  },
  {
   "cell_type": "code",
   "execution_count": 682,
   "metadata": {},
   "outputs": [],
   "source": [
    "ALPHABET3 = \"abcdefghijklmnopqrstuvwxyz\""
   ]
  },
  {
   "cell_type": "code",
   "execution_count": 683,
   "metadata": {},
   "outputs": [],
   "source": [
    "target3 = \"guvfvffbzhpusha\""
   ]
  },
  {
   "cell_type": "markdown",
   "metadata": {},
   "source": [
    "### <a id=\"fitness3\"></a> fitness3\n",
    "\n",
    "Formal Parameters:\n",
    "**target** the target string\n",
    "**actual** the string to compare to the target\n",
    "*returns* a score based on target and actual\n",
    "\n",
    "The fitness3 function is simply the [fitness1](#fitness1) function with a cipher"
   ]
  },
  {
   "cell_type": "code",
   "execution_count": 684,
   "metadata": {},
   "outputs": [],
   "source": [
    "# set up if you need it\n",
    "def fitness3(target,actual):\n",
    "    ALPHABET3 = \"abcdefghijklmnopqrstuvwxyz\"\n",
    "    alphabet_dict = {'a':0,'b':1,'c':2,'d':3,'e':4,'f':5,'g':6,'h':7,'i':8,'j':9,'k':10,'l':11,'m':12,'n':13,'o':14,'p':15,'q':16,'r':17,'s':18,'t':19,'u':20,'v':21,'w':22,'x':23,'y':24,'z':25}\n",
    "    high_score = 0\n",
    "    current_score = 0\n",
    "    for i in range(len(target)):\n",
    "        if alphabet_dict[target[i]] == (alphabet_dict[actual[i]]+13)%26:\n",
    "            current_score+=1\n",
    "            high_score+=1\n",
    "        else:\n",
    "            if current_score > high_score:\n",
    "                high_score += current_score\n",
    "            current_score = 0\n",
    "\n",
    "    return high_score"
   ]
  },
  {
   "cell_type": "code",
   "execution_count": 685,
   "metadata": {},
   "outputs": [],
   "source": [
    "assert(fitness3(\"aaaaa\",\"nnnnn\")==5)"
   ]
  },
  {
   "cell_type": "code",
   "execution_count": 686,
   "metadata": {},
   "outputs": [],
   "source": [
    "def check_cipher(target,population):\n",
    "    ALPHABET3 = \"abcdefghijklmnopqrstuvwxyz\"\n",
    "    alphabet_dict = {'a':0,'b':1,'c':2,'d':3,'e':4,'f':5,'g':6,'h':7,'i':8,'j':9,'k':10,'l':11,'m':12,'n':13,'o':14,'p':15,'q':16,'r':17,'s':18,'t':19,'u':20,'v':21,'w':22,'x':23,'y':24,'z':25}\n",
    "    for p in population:\n",
    "        match = True\n",
    "        for i in range(len(target)):\n",
    "            if alphabet_dict[target[i]] != (alphabet_dict[p[i]]+13)%26:\n",
    "                match = False\n",
    "                break\n",
    "        if match:\n",
    "            return p             \n",
    "    return False"
   ]
  },
  {
   "cell_type": "code",
   "execution_count": 687,
   "metadata": {},
   "outputs": [
    {
     "name": "stdout",
     "output_type": "stream",
     "text": [
      "{'a':0,'b':1,'c':2,'d':3,'e':4,'f':5,'g':6,'h':7,'i':8,'j':9,'k':10,'l':11,'m':12,'n':13,'o':14,'p':15,'q':16,'r':17,'s':18,'t':19,'u':20,'v':21,'w':22,'x':23,'y':24,'z':25,}\n"
     ]
    }
   ],
   "source": [
    "def print_alphabet_dict(alphabet):\n",
    "    s = \"{\"\n",
    "    i = 0\n",
    "    for letter in alphabet:\n",
    "        s+=\"\\'\"\n",
    "        s+=letter\n",
    "        s+=\"\\'\"\n",
    "        s+=\":\"\n",
    "        s+= str(i)\n",
    "        s+=\",\"\n",
    "        i+=1\n",
    "    s+=\"}\"\n",
    "    print(s)\n",
    "print_alphabet_dict(ALPHABET3)"
   ]
  },
  {
   "cell_type": "code",
   "execution_count": 688,
   "metadata": {},
   "outputs": [
    {
     "name": "stdout",
     "output_type": "stream",
     "text": [
      "'ghisrssomjcfpuv'\n",
      "'thisrssomjcvfum'\n",
      "'thiszssomucafun'\n"
     ]
    }
   ],
   "source": [
    "result3 = genetic_algorithm(check_cipher,target3,fitness3,200,ALPHABET3,400) # do what you need to do for your implementation but don't change the lines above or below."
   ]
  },
  {
   "cell_type": "code",
   "execution_count": 689,
   "metadata": {},
   "outputs": [
    {
     "name": "stdout",
     "output_type": "stream",
     "text": [
      "'thisissomuchfun'\n"
     ]
    }
   ],
   "source": [
    "pprint(result3, compact=True)"
   ]
  },
  {
   "cell_type": "markdown",
   "metadata": {},
   "source": [
    "## Problem 4\n",
    "\n",
    "There is no code for this problem.\n",
    "\n",
    "In Problem 3, we assumed we knew what the shift was in ROT-13.\n",
    "What if we didn't?\n",
    "Describe how you might solve that problem including a description of the solution encoding (chromosome and interpretation) and fitness function. Assume we can add spaces into the message."
   ]
  },
  {
   "cell_type": "markdown",
   "metadata": {},
   "source": [
    "**answer here**\n",
    "Is the assumption that I don't know the shift, but I do know the target string? If yes, I would simply run the code 26 times, each time replacing the **13** in **fitness3** with 0-25. Surely, I will be able to make sense of one of the 26 results. The encoding is the same as always."
   ]
  },
  {
   "cell_type": "markdown",
   "metadata": {},
   "source": [
    "## Challenge\n",
    "\n",
    "**You do not need to do this problem and it won't be graded if you do. It's just here if you want to push your understanding.**\n",
    "\n",
    "The original GA used binary encodings for everything.\n",
    "We're basically using a Base 27 encoding.\n",
    "You could, however, write a version of the algorithm that uses an 8 bit encoding for each letter (ignore spaces as they're a bit of a bother).\n",
    "That is, a 4 letter candidate looks like this:\n",
    "\n",
    "```\n",
    "0, 1, 1, 0, 1, 0, 0, 0, 0, 1, 1, 0, 0, 1, 0, 1, 0, 1, 1, 0, 1, 1, 0, 0, 0, 1, 1, 0, 1, 1, 0, 0, 0, 1, 1, 0, 1, 1, 1, 1\n",
    "```\n",
    "\n",
    "If you wrote your `genetic_algorithm` code general enough, with higher order functions, you should be able to implement it using bit strings instead of latin strings."
   ]
  },
  {
   "cell_type": "markdown",
   "metadata": {},
   "source": [
    "## Before You Submit...\n",
    "\n",
    "1. Did you provide output exactly as requested?\n",
    "2. Did you re-execute the entire notebook? (\"Restart Kernel and Rull All Cells...\")\n",
    "3. If you did not complete the assignment or had difficulty please explain what gave you the most difficulty in the Markdown cell below.\n",
    "4. Did you change the name of the file to `jhed_id.ipynb`?\n",
    "\n",
    "Do not submit any other files."
   ]
  },
  {
   "cell_type": "code",
   "execution_count": null,
   "metadata": {},
   "outputs": [],
   "source": []
  },
  {
   "cell_type": "code",
   "execution_count": null,
   "metadata": {},
   "outputs": [],
   "source": []
  },
  {
   "cell_type": "code",
   "execution_count": null,
   "metadata": {},
   "outputs": [],
   "source": []
  },
  {
   "cell_type": "code",
   "execution_count": null,
   "metadata": {},
   "outputs": [],
   "source": []
  },
  {
   "cell_type": "code",
   "execution_count": null,
   "metadata": {},
   "outputs": [],
   "source": []
  },
  {
   "cell_type": "code",
   "execution_count": null,
   "metadata": {},
   "outputs": [],
   "source": []
  },
  {
   "cell_type": "code",
   "execution_count": null,
   "metadata": {},
   "outputs": [],
   "source": []
  },
  {
   "cell_type": "code",
   "execution_count": null,
   "metadata": {},
   "outputs": [],
   "source": []
  },
  {
   "cell_type": "code",
   "execution_count": null,
   "metadata": {},
   "outputs": [],
   "source": []
  },
  {
   "cell_type": "code",
   "execution_count": null,
   "metadata": {},
   "outputs": [],
   "source": []
  },
  {
   "cell_type": "code",
   "execution_count": null,
   "metadata": {},
   "outputs": [],
   "source": []
  },
  {
   "cell_type": "code",
   "execution_count": null,
   "metadata": {},
   "outputs": [],
   "source": []
  },
  {
   "cell_type": "code",
   "execution_count": null,
   "metadata": {},
   "outputs": [],
   "source": []
  },
  {
   "cell_type": "code",
   "execution_count": null,
   "metadata": {},
   "outputs": [],
   "source": []
  },
  {
   "cell_type": "code",
   "execution_count": null,
   "metadata": {},
   "outputs": [],
   "source": []
  },
  {
   "cell_type": "code",
   "execution_count": null,
   "metadata": {},
   "outputs": [],
   "source": []
  },
  {
   "cell_type": "code",
   "execution_count": null,
   "metadata": {},
   "outputs": [],
   "source": []
  },
  {
   "cell_type": "code",
   "execution_count": null,
   "metadata": {},
   "outputs": [],
   "source": []
  },
  {
   "cell_type": "code",
   "execution_count": null,
   "metadata": {},
   "outputs": [],
   "source": []
  },
  {
   "cell_type": "code",
   "execution_count": null,
   "metadata": {},
   "outputs": [],
   "source": []
  },
  {
   "cell_type": "code",
   "execution_count": null,
   "metadata": {},
   "outputs": [],
   "source": []
  },
  {
   "cell_type": "code",
   "execution_count": null,
   "metadata": {},
   "outputs": [],
   "source": []
  },
  {
   "cell_type": "code",
   "execution_count": null,
   "metadata": {},
   "outputs": [],
   "source": []
  },
  {
   "cell_type": "code",
   "execution_count": null,
   "metadata": {},
   "outputs": [],
   "source": []
  },
  {
   "cell_type": "code",
   "execution_count": null,
   "metadata": {},
   "outputs": [],
   "source": []
  },
  {
   "cell_type": "code",
   "execution_count": null,
   "metadata": {},
   "outputs": [],
   "source": []
  },
  {
   "cell_type": "code",
   "execution_count": null,
   "metadata": {},
   "outputs": [],
   "source": []
  },
  {
   "cell_type": "code",
   "execution_count": null,
   "metadata": {},
   "outputs": [],
   "source": []
  },
  {
   "cell_type": "code",
   "execution_count": null,
   "metadata": {},
   "outputs": [],
   "source": []
  },
  {
   "cell_type": "code",
   "execution_count": null,
   "metadata": {},
   "outputs": [],
   "source": []
  },
  {
   "cell_type": "code",
   "execution_count": null,
   "metadata": {},
   "outputs": [],
   "source": []
  },
  {
   "cell_type": "code",
   "execution_count": null,
   "metadata": {},
   "outputs": [],
   "source": []
  },
  {
   "cell_type": "code",
   "execution_count": null,
   "metadata": {},
   "outputs": [],
   "source": []
  },
  {
   "cell_type": "code",
   "execution_count": null,
   "metadata": {},
   "outputs": [],
   "source": []
  },
  {
   "cell_type": "code",
   "execution_count": null,
   "metadata": {},
   "outputs": [],
   "source": []
  },
  {
   "cell_type": "code",
   "execution_count": null,
   "metadata": {},
   "outputs": [],
   "source": []
  },
  {
   "cell_type": "code",
   "execution_count": null,
   "metadata": {},
   "outputs": [],
   "source": []
  },
  {
   "cell_type": "code",
   "execution_count": null,
   "metadata": {},
   "outputs": [],
   "source": []
  },
  {
   "cell_type": "code",
   "execution_count": null,
   "metadata": {},
   "outputs": [],
   "source": []
  },
  {
   "cell_type": "code",
   "execution_count": null,
   "metadata": {},
   "outputs": [],
   "source": []
  }
 ],
 "metadata": {
  "kernelspec": {
   "display_name": "Python (en605645)",
   "language": "python",
   "name": "en605645"
  },
  "language_info": {
   "codemirror_mode": {
    "name": "ipython",
    "version": 3
   },
   "file_extension": ".py",
   "mimetype": "text/x-python",
   "name": "python",
   "nbconvert_exporter": "python",
   "pygments_lexer": "ipython3",
   "version": "3.10.6"
  },
  "toc": {
   "colors": {
    "hover_highlight": "#DAA520",
    "navigate_num": "#000000",
    "navigate_text": "#333333",
    "running_highlight": "#FF0000",
    "selected_highlight": "#FFD700",
    "sidebar_border": "#EEEEEE",
    "wrapper_background": "#FFFFFF"
   },
   "moveMenuLeft": true,
   "nav_menu": {
    "height": "120px",
    "width": "252px"
   },
   "navigate_menu": true,
   "number_sections": true,
   "sideBar": true,
   "threshold": 4,
   "toc_cell": false,
   "toc_section_display": "block",
   "toc_window_display": false,
   "widenNotebook": false
  }
 },
 "nbformat": 4,
 "nbformat_minor": 4
}
