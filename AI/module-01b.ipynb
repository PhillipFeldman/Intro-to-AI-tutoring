{
 "cells": [
  {
   "cell_type": "markdown",
   "metadata": {},
   "source": [
    "# Module 1 - Programming Assignment\n",
    "\n",
    "## General Directions\n",
    "\n",
    "1. You must follow the Programming Requirements outlined on Canvas.\n",
    "2. The Notebook should be cleanly and fully executed before submission.\n",
    "3. You should change the name of this file to be your JHED id. For example, `jsmith299.ipynb` although Canvas will change it to something else... :/\n",
    "\n",
    "<div style=\"background: lemonchiffon; margin:20px; padding: 20px;\">\n",
    "    <strong>Important</strong>\n",
    "    <p>\n",
    "        You should always read the entire assignment before beginning your work, so that you know in advance what the requested output will be and can plan your implementation accordingly.\n",
    "    </p>\n",
    "</div>"
   ]
  },
  {
   "cell_type": "markdown",
   "metadata": {},
   "source": [
    "# State Space Search with A* Search\n",
    "\n",
    "You are going to implement the A\\* Search algorithm for navigation problems.\n",
    "\n",
    "\n",
    "## Motivation\n",
    "\n",
    "Search is often used for path-finding in video games. Although the characters in a video game often move in continuous spaces,\n",
    "it is trivial to layout a \"waypoint\" system as a kind of navigation grid over the continuous space. Then if the character needs\n",
    "to get from Point A to Point B, it does a line of sight (LOS) scan to find the nearest waypoint (let's call it Waypoint A) and\n",
    "finds the nearest, LOS waypoint to Point B (let's call it Waypoint B). The agent then does a A* search for Waypoint B from Waypoint A to find the shortest path. The entire path is thus Point A to Waypoint A to Waypoint B to Point B.\n",
    "\n",
    "We're going to simplify the problem by working in a grid world. The symbols that form the grid have a special meaning as they\n",
    "specify the type of the terrain and the cost to enter a grid cell with that type of terrain:\n",
    "\n",
    "```\n",
    "token   terrain    cost \n",
    "🌾       plains     1\n",
    "🌲       forest     3\n",
    "🪨       hills      5\n",
    "🐊       swamp      7\n",
    "🗻       mountains  impassible\n",
    "```\n",
    "\n",
    "We can think of the raw format of the map as being something like:\n",
    "\n",
    "```\n",
    "🌾🌾🌾🌾🌲🌾🌾\n",
    "🌾🌾🌾🌲🌲🌲🌾\n",
    "🌾🗻🗻🗻🌾🌾🌾\n",
    "🌾🌾🗻🗻🌾🌾🌾\n",
    "🌾🌾🗻🌾🌾🌲🌲\n",
    "🌾🌾🌾🌾🌲🌲🌲\n",
    "🌾🌾🌾🌾🌾🌾🌾\n",
    "```"
   ]
  },
  {
   "cell_type": "markdown",
   "metadata": {},
   "source": [
    "## The World\n",
    "\n",
    "Given a map like the one above, we can easily represent each row as a `List` and the entire map as `List of Lists`:"
   ]
  },
  {
   "cell_type": "code",
   "execution_count": 96,
   "metadata": {},
   "outputs": [],
   "source": [
    "full_world = [\n",
    "['🌾', '🌾', '🌾', '🌾', '🌾', '🌲', '🌲', '🌲', '🌲', '🌲', '🌲', '🌲', '🌲', '🌲', '🌲', '🌾', '🌾', '🌾', '🌾', '🌾', '🌾', '🌾', '🌾', '🌾', '🌾', '🌾', '🌾'],\n",
    "['🌾', '🌾', '🌾', '🌾', '🌾', '🌾', '🌾', '🌲', '🌲', '🌲', '🌲', '🌲', '🌲', '🌲', '🌲', '🌲', '🌾', '🌾', '🗻', '🗻', '🗻', '🗻', '🗻', '🗻', '🗻', '🌾', '🌾'],\n",
    "['🌾', '🌾', '🌾', '🌾', '🗻', '🗻', '🌲', '🌲', '🌲', '🌲', '🌲', '🌲', '🌲', '🌲', '🌲', '🌲', '🌲', '🗻', '🗻', '🗻', '🪨', '🪨', '🪨', '🗻', '🗻', '🪨', '🪨'],\n",
    "['🌾', '🌾', '🌾', '🌾', '🪨', '🗻', '🗻', '🗻', '🌲', '🌲', '🌲', '🌲', '🐊', '🐊', '🌲', '🌲', '🌲', '🌲', '🌲', '🌾', '🌾', '🪨', '🪨', '🗻', '🗻', '🪨', '🌾'],\n",
    "['🌾', '🌾', '🌾', '🪨', '🪨', '🗻', '🗻', '🌲', '🌲', '🌾', '🌾', '🐊', '🐊', '🐊', '🐊', '🌲', '🌲', '🌲', '🌾', '🌾', '🌾', '🪨', '🗻', '🗻', '🗻', '🪨', '🌾'],\n",
    "['🌾', '🪨', '🪨', '🪨', '🗻', '🗻', '🪨', '🪨', '🌾', '🌾', '🌾', '🌾', '🐊', '🐊', '🐊', '🐊', '🐊', '🌾', '🌾', '🌾', '🌾', '🌾', '🪨', '🗻', '🪨', '🌾', '🌾'],\n",
    "['🌾', '🪨', '🪨', '🗻', '🗻', '🪨', '🪨', '🌾', '🌾', '🌾', '🌾', '🪨', '🗻', '🗻', '🗻', '🐊', '🐊', '🐊', '🌾', '🌾', '🌾', '🌾', '🌾', '🪨', '🌾', '🌾', '🌾'],\n",
    "['🌾', '🌾', '🪨', '🪨', '🪨', '🪨', '🪨', '🌾', '🌾', '🌾', '🌾', '🌾', '🌾', '🪨', '🗻', '🗻', '🗻', '🐊', '🐊', '🐊', '🌾', '🌾', '🪨', '🪨', '🪨', '🌾', '🌾'],\n",
    "['🌾', '🌾', '🌾', '🪨', '🪨', '🪨', '🌾', '🌾', '🌾', '🌾', '🌾', '🌾', '🪨', '🪨', '🗻', '🗻', '🌾', '🐊', '🐊', '🌾', '🌾', '🪨', '🪨', '🪨', '🌾', '🌾', '🌾'],\n",
    "['🌾', '🌾', '🌾', '🐊', '🐊', '🐊', '🌾', '🌾', '🪨', '🪨', '🪨', '🗻', '🗻', '🗻', '🗻', '🌾', '🌾', '🌾', '🐊', '🌾', '🪨', '🪨', '🪨', '🌾', '🌾', '🌾', '🌾'],\n",
    "['🌾', '🌾', '🐊', '🐊', '🐊', '🐊', '🐊', '🌾', '🪨', '🪨', '🗻', '🗻', '🗻', '🪨', '🌾', '🌾', '🌾', '🌾', '🌾', '🪨', '🗻', '🗻', '🗻', '🪨', '🌾', '🌾', '🌾'],\n",
    "['🌾', '🐊', '🐊', '🐊', '🐊', '🐊', '🌾', '🌾', '🪨', '🗻', '🗻', '🪨', '🌾', '🌾', '🌾', '🌾', '🐊', '🐊', '🌾', '🌾', '🪨', '🗻', '🗻', '🪨', '🌾', '🌾', '🌾'],\n",
    "['🐊', '🐊', '🐊', '🐊', '🐊', '🌾', '🌾', '🪨', '🪨', '🗻', '🗻', '🪨', '🌾', '🐊', '🐊', '🐊', '🐊', '🌾', '🌾', '🌾', '🪨', '🗻', '🪨', '🌾', '🌾', '🌾', '🌾'],\n",
    "['🌾', '🐊', '🐊', '🐊', '🐊', '🌾', '🌾', '🪨', '🌲', '🌲', '🪨', '🌾', '🌾', '🌾', '🌾', '🐊', '🐊', '🐊', '🐊', '🌾', '🌾', '🪨', '🌾', '🌾', '🌾', '🌾', '🌾'],\n",
    "['🌾', '🌾', '🌾', '🌾', '🗻', '🌾', '🌾', '🌲', '🌲', '🌲', '🌲', '🪨', '🪨', '🪨', '🪨', '🌾', '🐊', '🐊', '🐊', '🌾', '🌾', '🪨', '🗻', '🪨', '🌾', '🌾', '🌾'],\n",
    "['🌾', '🌾', '🌾', '🗻', '🗻', '🗻', '🌲', '🌲', '🌲', '🌲', '🌲', '🌲', '🗻', '🗻', '🗻', '🪨', '🪨', '🌾', '🐊', '🌾', '🪨', '🗻', '🗻', '🪨', '🌾', '🌾', '🌾'],\n",
    "['🌾', '🌾', '🗻', '🗻', '🌲', '🌲', '🌲', '🌲', '🌲', '🌲', '🌲', '🌲', '🌲', '🌲', '🗻', '🗻', '🗻', '🌾', '🌾', '🗻', '🗻', '🗻', '🌾', '🌾', '🌾', '🌾', '🌾'],\n",
    "['🌾', '🌾', '🌾', '🗻', '🗻', '🌲', '🌲', '🌲', '🌲', '🌲', '🌲', '🌲', '🌲', '🌲', '🌲', '🌲', '🗻', '🗻', '🗻', '🗻', '🌾', '🌾', '🌾', '🌾', '🌾', '🌾', '🌾'],\n",
    "['🌾', '🌾', '🌾', '🗻', '🗻', '🗻', '🌲', '🌲', '🌲', '🌲', '🌲', '🌲', '🌲', '🌲', '🌾', '🌾', '🌾', '🪨', '🪨', '🌾', '🌾', '🌾', '🌾', '🌾', '🌾', '🌾', '🌾'],\n",
    "['🌾', '🌾', '🌾', '🌾', '🗻', '🗻', '🗻', '🌲', '🌲', '🌲', '🌲', '🌲', '🌲', '🌾', '🌾', '🌾', '🌾', '🌾', '🌾', '🌾', '🌾', '🌾', '🌾', '🐊', '🐊', '🐊', '🐊'],\n",
    "['🌾', '🌾', '🪨', '🪨', '🪨', '🪨', '🗻', '🗻', '🌲', '🌲', '🌲', '🌲', '🌲', '🌾', '🗻', '🌾', '🌾', '🌾', '🌾', '🌾', '🐊', '🐊', '🐊', '🐊', '🐊', '🐊', '🐊'],\n",
    "['🌾', '🌾', '🌾', '🌾', '🪨', '🪨', '🪨', '🗻', '🗻', '🗻', '🌲', '🌲', '🗻', '🗻', '🌾', '🌾', '🌾', '🌾', '🌾', '🌾', '🐊', '🐊', '🐊', '🐊', '🐊', '🐊', '🐊'],\n",
    "['🌾', '🌾', '🌾', '🌾', '🌾', '🌾', '🪨', '🪨', '🪨', '🗻', '🗻', '🗻', '🗻', '🌾', '🌾', '🌾', '🌾', '🪨', '🪨', '🌾', '🌾', '🐊', '🐊', '🐊', '🐊', '🐊', '🐊'],\n",
    "['🌾', '🪨', '🪨', '🌾', '🌾', '🪨', '🪨', '🪨', '🪨', '🪨', '🌾', '🌾', '🌾', '🌾', '🌾', '🪨', '🪨', '🗻', '🗻', '🪨', '🪨', '🌾', '🐊', '🐊', '🐊', '🐊', '🐊'],\n",
    "['🪨', '🗻', '🪨', '🪨', '🪨', '🪨', '🌾', '🌾', '🌾', '🌾', '🌾', '🗻', '🗻', '🗻', '🪨', '🪨', '🗻', '🗻', '🌾', '🗻', '🗻', '🪨', '🪨', '🐊', '🐊', '🐊', '🐊'],\n",
    "['🪨', '🗻', '🗻', '🗻', '🪨', '🌾', '🌾', '🌾', '🌾', '🌾', '🪨', '🪨', '🗻', '🗻', '🗻', '🗻', '🪨', '🪨', '🪨', '🪨', '🗻', '🗻', '🗻', '🐊', '🐊', '🐊', '🐊'],\n",
    "['🪨', '🪨', '🌾', '🌾', '🌾', '🌾', '🌾', '🌾', '🌾', '🌾', '🌾', '🌾', '🪨', '🪨', '🪨', '🪨', '🪨', '🌾', '🌾', '🌾', '🌾', '🪨', '🪨', '🪨', '🌾', '🌾', '🌾']\n",
    "]"
   ]
  },
  {
   "cell_type": "markdown",
   "metadata": {},
   "source": [
    "## Warning\n",
    "\n",
    "One implication of this representation is that (x, y) is world[ y][ x] so that (3, 2) is world[ 2][ 3] and world[ 7][ 9] is (9, 7). Yes, there are many ways to do this. I picked this representation because when you look at it, it *looks* like a regular x, y cartesian grid and it's easy to print out.\n",
    "\n",
    "It is often easier to begin your programming by operating on test input that has an obvious solution. If we had a small 7x7 world with the following characteristics:"
   ]
  },
  {
   "cell_type": "code",
   "execution_count": 97,
   "metadata": {},
   "outputs": [],
   "source": [
    "test_world = [\n",
    "    ['🌾', '🌲', '🌲', '🌲', '🌲', '🌲', '🌲'],\n",
    "    ['🌾', '🌲', '🌲', '🌲', '🌲', '🌲', '🌲'],\n",
    "    ['🌾', '🌲', '🌲', '🌲', '🌲', '🌲', '🌲'],\n",
    "    ['🌾', '🌾', '🌾', '🌾', '🌾', '🌾', '🌾'],\n",
    "    ['🌲', '🌲', '🌲', '🌲', '🌲', '🌲', '🌾'],\n",
    "    ['🌲', '🌲', '🌲', '🌲', '🌲', '🌲', '🌾'],\n",
    "    ['🌲', '🌲', '🌲', '🌲', '🌲', '🌲', '🌾']\n",
    "]"
   ]
  },
  {
   "cell_type": "markdown",
   "metadata": {},
   "source": [
    "**what do you expect the policy would be?** Think about it for a bit. This will help you with your programming and debugging."
   ]
  },
  {
   "cell_type": "markdown",
   "metadata": {},
   "source": [
    "## States and State Representation\n",
    "\n",
    "The canonical pieces of a State Space Search problem are the States, Actions, Transitions and Costs. \n",
    "\n",
    "We'll start with the state representation. For the navigation problem, a state is the current position of the agent, `(x,y)`. The entire set of possible states is implicitly represented by the world map."
   ]
  },
  {
   "cell_type": "markdown",
   "metadata": {},
   "source": [
    "## Actions and Transitions\n",
    "\n",
    "Next we need to specify the actions. In general, there are a number of different possible action sets in such a world. The agent might be constrained to move north/south/east/west or diagonal moves might be permitted as well (or really anything). When combined with the set of States, the *permissible* actions forms the Transition set.\n",
    "\n",
    "Rather than enumerate the Transition set directly, for this problem it's easier to calculate the available actions and transitions on the fly. This can be done by specifying a *movement model* as offsets to the current state and then checking to see which of the potential successor states are actually permitted. This can be done in the successor function mentioned in the pseudocode.\n",
    "\n",
    "One such example of a movement model is shown below."
   ]
  },
  {
   "cell_type": "code",
   "execution_count": 98,
   "metadata": {},
   "outputs": [],
   "source": [
    "MOVES = [(0,-1), (1,0), (0,1), (-1,0)]"
   ]
  },
  {
   "cell_type": "markdown",
   "metadata": {},
   "source": [
    "## Costs\n",
    "\n",
    "We can encode the costs described above in a `Dict`:"
   ]
  },
  {
   "cell_type": "code",
   "execution_count": 99,
   "metadata": {},
   "outputs": [],
   "source": [
    "COSTS = { '🌾': 1, '🌲': 3, '🪨': 5, '🐊': 7}"
   ]
  },
  {
   "cell_type": "markdown",
   "metadata": {},
   "source": [
    "## Specification\n",
    "\n",
    "You will implement a function called `a_star_search` that takes the parameters and returns the value as specified below. The return value is going to look like this:\n",
    "\n",
    "`[(0,1), (0,1), (0,1), (1,0), (1,0), (1,0), (1,0), (1,0), (1,0), (0,1), (0,1), (0,1)]`\n",
    "\n",
    "You should also implement a function called `pretty_print_path`. \n",
    "The `pretty_print_path` function prints an ASCII representation of the path generated by the `a_star_search` on top of the terrain map. \n",
    "For example, for the test world, it would print this:\n",
    "\n",
    "```\n",
    "⏬🌲🌲🌲🌲🌲🌲\n",
    "⏬🌲🌲🌲🌲🌲🌲\n",
    "⏬🌲🌲🌲🌲🌲🌲\n",
    "⏩⏩⏩⏩⏩⏩⏬\n",
    "🌲🌲🌲🌲🌲🌲⏬\n",
    "🌲🌲🌲🌲🌲🌲⏬\n",
    "🌲🌲🌲🌲🌲🌲🎁\n",
    "```\n",
    "\n",
    "using ⏩,⏪,⏫ ⏬ to represent actions and `🎁` to represent the goal. (Note the format of the output...there are no spaces, commas, or extraneous characters). You are printing the path over the terrain.\n",
    "This is an impure function (it does not return anything).\n",
    "\n",
    "Note that in Python:\n",
    "```\n",
    "> a = [\"*\", \"-\", \"*\"]\n",
    "> \"\".join(a)\n",
    "*-*\n",
    "```\n",
    "Do not print raw data structures; do not insert unneeded/requested spaces!\n",
    "\n",
    "### Additional comments\n",
    "\n",
    "As Python is an interpreted language, you're going to need to insert all of your functions *before* the actual `a_star_search` function implementation. \n",
    "Do not make unwarranted assumptions (for example, do not assume that the start is always (0, 0).\n",
    "Do not refer to global variables, pass them as parameters (functional programming).\n",
    "\n",
    "Simple and correct is better than inefficient and incorrect, or worse, incomplete.\n",
    "For example, you can use a simple List, with some helper functions, as a Stack or a Queue or a Priority Queue.\n",
    "Avoid the Python implementations of HeapQ, PriorityQueue implementation unless you are very sure about what you're doing as they require *immutable* keys."
   ]
  },
  {
   "cell_type": "code",
   "execution_count": 100,
   "metadata": {},
   "outputs": [],
   "source": [
    "from typing import List, Tuple, Dict, Callable\n",
    "from copy import deepcopy"
   ]
  },
  {
   "cell_type": "code",
   "execution_count": 101,
   "metadata": {},
   "outputs": [],
   "source": [
    "from collections import defaultdict\n",
    "import queue"
   ]
  },
  {
   "cell_type": "markdown",
   "metadata": {},
   "source": [
    "*add as many markdown and code cells here as you need for helper functions. We have added `heuristic` for you*"
   ]
  },
  {
   "cell_type": "markdown",
   "metadata": {},
   "source": [
    "### <a id=\"path\"></a> path\n",
    "\n",
    "Formal Parameters:\n",
    "**came_from** A dictionary with key:value pairs location:previous location\n",
    "\n",
    "**current** The current location\n",
    "\n",
    "**returns** total_path a list of the locations in order\n",
    "\n",
    "This is used to convert a dictionary to a list"
   ]
  },
  {
   "cell_type": "code",
   "execution_count": 102,
   "metadata": {},
   "outputs": [],
   "source": [
    "def path(came_From, current):\n",
    "    total_Path = [current]\n",
    "    while current in came_From.keys():\n",
    "        current = came_From[current]\n",
    "        total_Path = [current] + total_Path\n",
    "    return total_Path"
   ]
  },
  {
   "cell_type": "code",
   "execution_count": 103,
   "metadata": {},
   "outputs": [],
   "source": [
    "came_from1 = {1:2,2:3,3:4}\n",
    "current1 = 1\n",
    "assert(path(came_from1,current1) == [4,3,2,1])\n",
    "current2 = 2\n",
    "assert(path(came_from1,current2) == [4,3,2])\n",
    "current3 = 3\n",
    "assert(path(came_from1,current3) == [4,3])"
   ]
  },
  {
   "cell_type": "markdown",
   "metadata": {},
   "source": [
    "### <a id=\"move_List\"></a> move_List\n",
    "\n",
    "Formal Parameters:\n",
    "**path** a list of the locations in order\n",
    "\n",
    "**world** The world\n",
    "\n",
    "**costs** The costs dictionary\n",
    "\n",
    "**returns** `List,total_Cost` a list of moves required to follow the path, the cost of that path\n",
    "\n",
    "This is used to calculate the moves and cost required for a path."
   ]
  },
  {
   "cell_type": "code",
   "execution_count": 104,
   "metadata": {},
   "outputs": [],
   "source": [
    "def move_List(path,world,costs):\n",
    "    total_Cost = 0\n",
    "    List = []\n",
    "    \n",
    "    for i in range(len(path)-1):\n",
    "        current = path[i]\n",
    "        next_Node=path[i+1]\n",
    "        total_Cost+= costs[world[next_Node[0]][next_Node[1]]]\n",
    "        move = (next_Node[1]-current[1],next_Node[0]-current[0])\n",
    "        List.append(move)\n",
    "    \n",
    "    return List,total_Cost"
   ]
  },
  {
   "cell_type": "code",
   "execution_count": 105,
   "metadata": {},
   "outputs": [],
   "source": [
    "assert(move_List([(0,0),(0,1)],test_world,COSTS)==([(1, 0)], 3))\n",
    "assert(move_List([(0,0),(1,0)],test_world,COSTS)==([(0, 1)], 1))\n",
    "assert(move_List([(0,0),(1,0),(2,0)],test_world,COSTS)==([(0, 1),(0,1)], 2))"
   ]
  },
  {
   "cell_type": "markdown",
   "metadata": {},
   "source": [
    "### <a id=\"highlighted_Path\"></a> highlighted_Path\n",
    "\n",
    "Formal Parameters:\n",
    "**move_List** a list of the locations in order\n",
    "\n",
    "**world** The world\n",
    "\n",
    "**costs** The costs dictionary\n",
    "\n",
    "**start** The starting position\n",
    "\n",
    "**returns** `path,total_Cost` the path, the cost of that path\n",
    "\n",
    "This is used to calculate the path and cost required for a path."
   ]
  },
  {
   "cell_type": "code",
   "execution_count": 106,
   "metadata": {},
   "outputs": [],
   "source": [
    "def highlighted_Path(move_List,world,costs,start):\n",
    "    current = start\n",
    "    path = [start]\n",
    "    total_Cost = 0\n",
    "    for m in move_List:\n",
    "        current = (current[0]+m[1],current[1]+m[0])\n",
    "        path.append(current)\n",
    "        total_Cost += costs[world[current[0]][current[1]]]\n",
    "    return path,total_Cost"
   ]
  },
  {
   "cell_type": "markdown",
   "metadata": {},
   "source": [
    "### <a id=\"find_Neighbors\"></a> find_Neighbors\n",
    "\n",
    "Formal Parameters:\n",
    "**node** a grid in the world\n",
    "\n",
    "**world** The world\n",
    "\n",
    "**returns** `neighbors` a list containing all adjacent grids to `node` that are not mountains\n",
    "\n",
    "This is used to in the search algorithm to determine the candidates for the next move"
   ]
  },
  {
   "cell_type": "code",
   "execution_count": 107,
   "metadata": {},
   "outputs": [],
   "source": [
    "def find_Neighbors(node,world):\n",
    "    neighbors = []\n",
    "    if node[0] > 0 and world[node[0]-1][node[1]] != '🗻':\n",
    "        neighbors.append((node[0]-1,node[1]))\n",
    "    if node[0] < len(world)-1 and world[node[0]+1][node[1]] != '🗻':\n",
    "        neighbors.append((node[0]+1,node[1]))\n",
    "    if node[1] > 0 and world[node[0]][node[1]-1] != '🗻':\n",
    "        neighbors.append((node[0],node[1]-1))\n",
    "    if node[1] < len(world[0])-1 and world[node[0]][node[1]+1] != '🗻':\n",
    "        neighbors.append((node[0],node[1]+1))\n",
    "    return neighbors"
   ]
  },
  {
   "cell_type": "code",
   "execution_count": 108,
   "metadata": {},
   "outputs": [],
   "source": [
    "assert(find_Neighbors((0,0),test_world)==[(1, 0), (0, 1)])\n",
    "assert(find_Neighbors((1,1),test_world)==[(0, 1), (2, 1), (1, 0), (1, 2)])\n",
    "assert(find_Neighbors((2,1),test_world)==[(1, 1), (3, 1), (2, 0), (2, 2)])"
   ]
  },
  {
   "cell_type": "markdown",
   "metadata": {},
   "source": [
    "<a id=\"heuristic\"></a>\n",
    "## heuristic\n",
    "\n",
    "Formal Parameters:\n",
    "**start** a starting grid\n",
    "\n",
    "**end** The hypothetical ending grid\n",
    "\n",
    "**returns** a heuristic cost based on start and end\n",
    "\n",
    "It's actually the Manhattan distance"
   ]
  },
  {
   "cell_type": "code",
   "execution_count": 109,
   "metadata": {},
   "outputs": [],
   "source": [
    "def heuristic(start,end): # you can add formal parameters\n",
    "    xDiff = abs(start[0] - end[0])\n",
    "    yDiff = abs(start[1] - end[1])\n",
    "    return xDiff+yDiff"
   ]
  },
  {
   "cell_type": "code",
   "execution_count": 110,
   "metadata": {},
   "outputs": [],
   "source": [
    "# assertions/unit tests\n",
    "assert heuristic((1,2),(3,4)) == 4\n",
    "assert heuristic((1,6),(3,4)) == 4\n",
    "assert heuristic((5,2),(3,4)) == 4"
   ]
  },
  {
   "cell_type": "markdown",
   "metadata": {},
   "source": [
    "<a id=\"a_star_search\"></a>\n",
    "## a_star_search\n",
    "\n",
    "*add documentation/description of the algorithm here; connect it to the theory!*\n",
    "\n",
    "* **world** List[List[str]]: the actual context for the navigation problem.\n",
    "* **start** Tuple[int, int]: the starting location of the bot, `(x, y)`.\n",
    "* **goal** Tuple[int, int]: the desired goal position for the bot, `(x, y)`.\n",
    "* **costs** Dict[str, int]: is a `Dict` of costs for each type of terrain in **world**.\n",
    "* **moves** List[Tuple[int, int]]: the legal movement model expressed in offsets in **world**.\n",
    "* **heuristic** Callable: is a heuristic function, $h(n)$.\n",
    "\n",
    "\n",
    "**returns** List[Tuple[int, int]]: the offsets needed to get from start state to the goal as a `List`.\n"
   ]
  },
  {
   "cell_type": "code",
   "execution_count": null,
   "metadata": {},
   "outputs": [],
   "source": []
  },
  {
   "cell_type": "code",
   "execution_count": null,
   "metadata": {},
   "outputs": [],
   "source": [
    "\n",
    "        \n",
    "        \n",
    "    "
   ]
  },
  {
   "cell_type": "code",
   "execution_count": null,
   "metadata": {},
   "outputs": [],
   "source": []
  },
  {
   "cell_type": "markdown",
   "metadata": {},
   "source": [
    "\n",
    "\n",
    "\n",
    "<h1><a id=\"a_star_search-ALGORITHM\" class=\"anchor\" href=\"#ALGORITHM\">A* Search Algorithm</a></h1>\n",
    "#### Formal Paramaters: *world*: The microworld, *start*: The starting point, *goal*, The goal point, *costs*, A map from terrain type\n",
    "#### to cost, *moves*: The list of possible moves, *heuristic*: The heuristic function to estimate cost.\n",
    "#### Returns **A list of moves that will get from *start* to *goal* optimally**\n",
    "###### A star search is a best first search algorithm that uses a heuristic function to find the optimal path more quickly."
   ]
  },
  {
   "cell_type": "code",
   "execution_count": 111,
   "metadata": {},
   "outputs": [],
   "source": [
    "def a_star_search( world: List[List[str]], start: Tuple[int, int], goal: Tuple[int, int], costs: Dict[str, int], moves: List[Tuple[int, int]], heuristic: Callable) -> List[Tuple[int, int]]:\n",
    "    frontier,frontier_List,came_From,g,f = queue.PriorityQueue(), [start],{}, defaultdict(lambda:float('inf')), defaultdict(lambda:float('inf'))\n",
    "    frontier.put((0,start))\n",
    "    g[start]=0\n",
    "    f[start]=heuristic(start,goal)\n",
    "    while not frontier.empty():\n",
    "        current = frontier.get()[1]\n",
    "        if current == goal:\n",
    "            return move_List(path(came_From,current),world,costs)[0]\n",
    "        frontier_List.remove(current)\n",
    "        for n in find_Neighbors(current,world):\n",
    "            temp_G = g[current]+costs[world[n[0]][n[1]]]\n",
    "            if temp_G < g[n]:\n",
    "                came_From[n] = current\n",
    "                g[n]=temp_G\n",
    "                f[n]=temp_G+heuristic(start,n)\n",
    "                if n not in frontier_List:\n",
    "                    frontier_List.append(n)\n",
    "                    frontier.put((f[n],n))\n",
    "    return [] "
   ]
  },
  {
   "cell_type": "markdown",
   "metadata": {},
   "source": [
    "## pretty_print_path\n",
    "\n",
    "*write your documentation here*\n",
    "\n",
    "* **world** List[List[str]]: the world (terrain map) for the path to be printed upon.\n",
    "* **path** List[Tuple[int, int]]: the path from start to goal, in offsets.\n",
    "* **start** Tuple[int, int]: the starting location for the path.\n",
    "* **goal** Tuple[int, int]: the goal location for the path.\n",
    "\n",
    "**returns** int - The path cost."
   ]
  },
  {
   "cell_type": "markdown",
   "metadata": {},
   "source": [
    "\n",
    "<div style=\"background: lemonchiffon; margin:20px; padding: 20px;\">\n",
    "    <strong>Important</strong>\n",
    "    <p>\n",
    "        Does your output of pretty_print_path really look like the specification? Go check again.\n",
    "    </p>\n",
    "</div>"
   ]
  },
  {
   "cell_type": "code",
   "execution_count": 112,
   "metadata": {},
   "outputs": [],
   "source": [
    "def pretty_print_solution( world: List[List[str]], path: List[Tuple[int, int]], start: Tuple[int, int], goal: Tuple[int, int]) -> int:\n",
    "    ### YOUR SOLUTION HERE ###\n",
    "    ### YOUR SOLUTION HERE ###\n",
    "    action_Dict = {(1,0):'⏩',(-1,0):'⏪',(0,1):'⏬',(0,-1):'⏫'}\n",
    "    path_List,total_Cost = highlighted_Path(path,world,COSTS,start)\n",
    "    print_World = deepcopy(world)\n",
    "    for i in range(len(path_List)-1):\n",
    "        print_World[path_List[i][0]][path_List[i][1]] = action_Dict[path[i]]\n",
    "        \n",
    "    print_World[goal[0]][goal[1]]='🎁'\n",
    "    for line in print_World:\n",
    "        print(\"\".join(line))\n",
    "    #print(printWorld)\n",
    "    \n",
    "    return total_Cost"
   ]
  },
  {
   "cell_type": "markdown",
   "metadata": {},
   "source": [
    "## Problems"
   ]
  },
  {
   "cell_type": "markdown",
   "metadata": {},
   "source": [
    "## Problem 1. \n",
    "\n",
    "Execute `a_star_search` and `print_path` for the `test_world`.\n",
    "\n",
    "If you change any values while developing your code, make sure you change them back! (Better yet, don't do it. Copy them elsewhere and change the values, then delete those experiments)."
   ]
  },
  {
   "cell_type": "code",
   "execution_count": 113,
   "metadata": {
    "scrolled": false
   },
   "outputs": [
    {
     "name": "stdout",
     "output_type": "stream",
     "text": [
      "⏬🌲🌲🌲🌲🌲🌲\n",
      "⏬🌲🌲🌲🌲🌲🌲\n",
      "⏬🌲🌲🌲🌲🌲🌲\n",
      "⏩⏩⏩⏩⏩⏩⏬\n",
      "🌲🌲🌲🌲🌲🌲⏬\n",
      "🌲🌲🌲🌲🌲🌲⏬\n",
      "🌲🌲🌲🌲🌲🌲🎁\n",
      "total path cost: 12\n",
      "[(0, 1), (0, 1), (0, 1), (1, 0), (1, 0), (1, 0), (1, 0), (1, 0), (1, 0), (0, 1), (0, 1), (0, 1)]\n"
     ]
    }
   ],
   "source": [
    "test_start = (0, 0)\n",
    "test_goal = (len(test_world[0]) - 1, len(test_world) - 1)\n",
    "test_path = a_star_search(test_world, test_start, test_goal, COSTS, MOVES, heuristic)\n",
    "test_path_cost = pretty_print_solution(test_world, test_path, test_start, test_goal)\n",
    "print(f\"total path cost: {test_path_cost}\")\n",
    "print(test_path)"
   ]
  },
  {
   "cell_type": "markdown",
   "metadata": {},
   "source": [
    "## Problem 2\n",
    "\n",
    "Execute `a_star_search` and `print_path` for the `full_world`"
   ]
  },
  {
   "cell_type": "code",
   "execution_count": 114,
   "metadata": {},
   "outputs": [
    {
     "name": "stdout",
     "output_type": "stream",
     "text": [
      "⏬🌾🌾🌾🌾🌲🌲🌲🌲🌲🌲🌲🌲🌲🌲🌾🌾🌾🌾🌾🌾🌾🌾🌾🌾🌾🌾\n",
      "⏬🌾🌾🌾🌾🌾🌾🌲🌲🌲🌲🌲🌲🌲🌲🌲🌾🌾🗻🗻🗻🗻🗻🗻🗻🌾🌾\n",
      "⏬🌾🌾🌾🗻🗻🌲🌲🌲🌲🌲🌲🌲🌲🌲🌲🌲🗻🗻🗻🪨🪨🪨🗻🗻🪨🪨\n",
      "⏬🌾🌾🌾🪨🗻🗻🗻🌲🌲🌲🌲🐊🐊🌲🌲🌲🌲🌲🌾🌾🪨🪨🗻🗻🪨🌾\n",
      "⏬🌾🌾🪨🪨🗻🗻🌲🌲🌾🌾🐊🐊🐊🐊🌲🌲🌲🌾🌾🌾🪨🗻🗻🗻🪨🌾\n",
      "⏬🪨🪨🪨🗻🗻🪨🪨🌾🌾🌾🌾🐊🐊🐊🐊🐊🌾🌾🌾🌾🌾🪨🗻🪨🌾🌾\n",
      "⏬🪨🪨🗻🗻🪨🪨🌾🌾🌾🌾🪨🗻🗻🗻🐊🐊🐊🌾🌾🌾🌾🌾🪨🌾🌾🌾\n",
      "⏬🌾🪨🪨🪨🪨🪨🌾🌾🌾🌾🌾🌾🪨🗻🗻🗻🐊🐊🐊🌾🌾🪨🪨🪨🌾🌾\n",
      "⏬🌾🌾🪨🪨🪨🌾🌾🌾🌾🌾🌾🪨🪨🗻🗻🌾🐊🐊🌾🌾🪨🪨🪨🌾🌾🌾\n",
      "⏬🌾🌾🐊🐊🐊🌾🌾🪨🪨🪨🗻🗻🗻🗻🌾🌾🌾🐊🌾🪨🪨🪨🌾🌾🌾🌾\n",
      "⏬🌾🐊🐊🐊🐊🐊🌾🪨🪨🗻🗻🗻🪨🌾🌾🌾🌾🌾🪨🗻🗻🗻🪨🌾🌾🌾\n",
      "⏬🐊🐊🐊🐊🐊🌾🌾🪨🗻🗻🪨🌾🌾🌾🌾🐊🐊🌾🌾🪨🗻🗻🪨🌾🌾🌾\n",
      "⏬🐊🐊🐊🐊🌾🌾🪨🪨🗻🗻🪨🌾🐊🐊🐊🐊🌾🌾🌾🪨🗻🪨🌾🌾🌾🌾\n",
      "⏬🐊🐊🐊🐊🌾🌾🪨🌲🌲🪨🌾🌾🌾🌾🐊🐊🐊🐊🌾🌾🪨🌾🌾🌾🌾🌾\n",
      "⏩⏬🌾🌾🗻🌾🌾🌲🌲🌲🌲🪨🪨🪨🪨🌾🐊🐊🐊🌾🌾🪨🗻🪨🌾🌾🌾\n",
      "🌾⏬🌾🗻🗻🗻🌲🌲🌲🌲🌲🌲🗻🗻🗻🪨🪨🌾🐊🌾🪨🗻🗻🪨🌾🌾🌾\n",
      "🌾⏬🗻🗻🌲🌲🌲🌲🌲🌲🌲🌲🌲🌲🗻🗻🗻🌾🌾🗻🗻🗻🌾🌾🌾🌾🌾\n",
      "🌾⏬🌾🗻🗻🌲🌲🌲🌲🌲🌲🌲🌲🌲🌲🌲🗻🗻🗻🗻🌾🌾🌾🌾🌾🌾🌾\n",
      "🌾⏬🌾🗻🗻🗻🌲🌲🌲🌲🌲🌲🌲🌲🌾🌾🌾🪨🪨🌾🌾🌾🌾🌾🌾🌾🌾\n",
      "🌾⏬🌾🌾🗻🗻🗻🌲🌲🌲🌲🌲🌲🌾🌾🌾🌾🌾🌾🌾🌾🌾🌾🐊🐊🐊🐊\n",
      "🌾⏬🪨🪨🪨🪨🗻🗻🌲🌲🌲🌲🌲🌾🗻🌾🌾🌾🌾🌾🐊🐊🐊🐊🐊🐊🐊\n",
      "🌾⏩⏩⏬🪨🪨🪨🗻🗻🗻🌲🌲🗻🗻🌾🌾🌾🌾🌾🌾🐊🐊🐊🐊🐊🐊🐊\n",
      "🌾🌾🌾⏩⏩⏩⏬🪨🪨🗻🗻🗻🗻🌾🌾🌾🌾🪨🪨🌾🌾🐊🐊🐊🐊🐊🐊\n",
      "🌾🪨🪨🌾🌾🪨⏬🪨🪨🪨🌾🌾🌾🌾🌾🪨🪨🗻🗻🪨🪨🌾🐊🐊🐊🐊🐊\n",
      "🪨🗻🪨🪨🪨🪨⏩⏩⏩⏬🌾🗻🗻🗻🪨🪨🗻🗻🌾🗻🗻🪨🪨🐊🐊🐊🐊\n",
      "🪨🗻🗻🗻🪨🌾🌾🌾🌾⏬🪨🪨🗻🗻🗻🗻🪨🪨🪨🪨🗻🗻🗻🐊🐊🐊🐊\n",
      "🪨🪨🌾🌾🌾🌾🌾🌾🌾⏩⏩⏩⏩⏩⏩⏩⏩⏩⏩⏩⏩⏩⏩⏩⏩⏩🎁\n",
      "total path cost: 98\n",
      "[(0, 1), (0, 1), (0, 1), (0, 1), (0, 1), (0, 1), (0, 1), (0, 1), (0, 1), (0, 1), (0, 1), (0, 1), (0, 1), (0, 1), (1, 0), (0, 1), (0, 1), (0, 1), (0, 1), (0, 1), (0, 1), (0, 1), (1, 0), (1, 0), (0, 1), (1, 0), (1, 0), (1, 0), (0, 1), (0, 1), (1, 0), (1, 0), (1, 0), (0, 1), (0, 1), (1, 0), (1, 0), (1, 0), (1, 0), (1, 0), (1, 0), (1, 0), (1, 0), (1, 0), (1, 0), (1, 0), (1, 0), (1, 0), (1, 0), (1, 0), (1, 0), (1, 0)]\n"
     ]
    }
   ],
   "source": [
    "full_start = (0, 0)\n",
    "full_goal = (len(full_world[0]) - 1, len(full_world) - 1)\n",
    "full_path = a_star_search(full_world, full_start, full_goal, COSTS, MOVES, heuristic)\n",
    "full_path_cost = pretty_print_solution(full_world, full_path, full_start, full_goal)\n",
    "print(f\"total path cost: {full_path_cost}\")\n",
    "print(full_path)"
   ]
  },
  {
   "cell_type": "markdown",
   "metadata": {},
   "source": [
    "## Comments\n",
    "\n",
    "(This is the place to leave me comments)"
   ]
  },
  {
   "cell_type": "code",
   "execution_count": 115,
   "metadata": {},
   "outputs": [],
   "source": [
    "#You don't want us to use global variables in the function, but pretty_print doesn't take COSTS as a parameter?\n",
    "#am I misunderstanding the directions?"
   ]
  },
  {
   "cell_type": "markdown",
   "metadata": {},
   "source": [
    "## To think about for future assignments..."
   ]
  },
  {
   "cell_type": "markdown",
   "metadata": {},
   "source": [
    "This first assignment may not have been difficult for you if you've encountered A* search before in your Algorithms course. In preparation for future assignments that build on State Space Search, you can think about the following or even do an implementation if you like. You should **not** submit it as part of this assignment.\n",
    "\n",
    "In several future assignments, we will have a need for a \"plain ol'\" Depth First Search algorithm.\n",
    "\n",
    "1. Implement DFS Search to solve the problem presented in this programming assignment. Try to be as general as possible (don't hard code anything you can pass as a formal parameter).\n",
    "2. Can you implement DFS Search as a higher order function and supply your own `is_goal`, `successors`, and `path` functions? How do you handle *state*?\n",
    "3. Can you write a version of DFS that returns all the solutions?\n",
    "\n",
    "In one future assignment a Breadth First Search algorithm will be very handy. Can you implement a search algorithm that changes whether it uses DFS or BFS by parameterization?"
   ]
  },
  {
   "cell_type": "markdown",
   "metadata": {},
   "source": [
    "## Before You Submit...\n",
    "\n",
    "1. Did you provide output exactly as requested?\n",
    "2. Did you follow the Programming Requirements on Canvas?\n",
    "\n",
    "Do not submit any other files."
   ]
  },
  {
   "cell_type": "code",
   "execution_count": null,
   "metadata": {},
   "outputs": [],
   "source": []
  },
  {
   "cell_type": "code",
   "execution_count": null,
   "metadata": {},
   "outputs": [],
   "source": []
  },
  {
   "cell_type": "code",
   "execution_count": null,
   "metadata": {},
   "outputs": [],
   "source": []
  },
  {
   "cell_type": "code",
   "execution_count": null,
   "metadata": {},
   "outputs": [],
   "source": []
  },
  {
   "cell_type": "code",
   "execution_count": null,
   "metadata": {},
   "outputs": [],
   "source": []
  },
  {
   "cell_type": "code",
   "execution_count": null,
   "metadata": {},
   "outputs": [],
   "source": []
  },
  {
   "cell_type": "code",
   "execution_count": null,
   "metadata": {},
   "outputs": [],
   "source": []
  },
  {
   "cell_type": "code",
   "execution_count": null,
   "metadata": {},
   "outputs": [],
   "source": []
  },
  {
   "cell_type": "code",
   "execution_count": null,
   "metadata": {},
   "outputs": [],
   "source": []
  },
  {
   "cell_type": "code",
   "execution_count": null,
   "metadata": {},
   "outputs": [],
   "source": []
  },
  {
   "cell_type": "code",
   "execution_count": null,
   "metadata": {},
   "outputs": [],
   "source": []
  },
  {
   "cell_type": "code",
   "execution_count": null,
   "metadata": {},
   "outputs": [],
   "source": []
  },
  {
   "cell_type": "code",
   "execution_count": null,
   "metadata": {},
   "outputs": [],
   "source": []
  },
  {
   "cell_type": "code",
   "execution_count": null,
   "metadata": {},
   "outputs": [],
   "source": []
  },
  {
   "cell_type": "code",
   "execution_count": null,
   "metadata": {},
   "outputs": [],
   "source": []
  },
  {
   "cell_type": "code",
   "execution_count": null,
   "metadata": {},
   "outputs": [],
   "source": []
  },
  {
   "cell_type": "code",
   "execution_count": null,
   "metadata": {},
   "outputs": [],
   "source": []
  },
  {
   "cell_type": "code",
   "execution_count": null,
   "metadata": {},
   "outputs": [],
   "source": []
  },
  {
   "cell_type": "code",
   "execution_count": null,
   "metadata": {},
   "outputs": [],
   "source": []
  },
  {
   "cell_type": "code",
   "execution_count": null,
   "metadata": {},
   "outputs": [],
   "source": []
  },
  {
   "cell_type": "code",
   "execution_count": null,
   "metadata": {},
   "outputs": [],
   "source": []
  },
  {
   "cell_type": "code",
   "execution_count": null,
   "metadata": {},
   "outputs": [],
   "source": []
  },
  {
   "cell_type": "code",
   "execution_count": null,
   "metadata": {},
   "outputs": [],
   "source": []
  },
  {
   "cell_type": "code",
   "execution_count": null,
   "metadata": {},
   "outputs": [],
   "source": []
  },
  {
   "cell_type": "code",
   "execution_count": null,
   "metadata": {},
   "outputs": [],
   "source": []
  },
  {
   "cell_type": "code",
   "execution_count": null,
   "metadata": {},
   "outputs": [],
   "source": []
  },
  {
   "cell_type": "code",
   "execution_count": null,
   "metadata": {},
   "outputs": [],
   "source": []
  },
  {
   "cell_type": "code",
   "execution_count": null,
   "metadata": {},
   "outputs": [],
   "source": []
  },
  {
   "cell_type": "code",
   "execution_count": null,
   "metadata": {},
   "outputs": [],
   "source": []
  },
  {
   "cell_type": "code",
   "execution_count": null,
   "metadata": {},
   "outputs": [],
   "source": []
  },
  {
   "cell_type": "code",
   "execution_count": null,
   "metadata": {},
   "outputs": [],
   "source": []
  },
  {
   "cell_type": "code",
   "execution_count": null,
   "metadata": {},
   "outputs": [],
   "source": []
  }
 ],
 "metadata": {
  "kernelspec": {
   "display_name": "Python (en605645)",
   "language": "python",
   "name": "en605645"
  },
  "language_info": {
   "codemirror_mode": {
    "name": "ipython",
    "version": 3
   },
   "file_extension": ".py",
   "mimetype": "text/x-python",
   "name": "python",
   "nbconvert_exporter": "python",
   "pygments_lexer": "ipython3",
   "version": "3.10.6"
  },
  "toc": {
   "colors": {
    "hover_highlight": "#DAA520",
    "navigate_num": "#000000",
    "navigate_text": "#333333",
    "running_highlight": "#FF0000",
    "selected_highlight": "#FFD700",
    "sidebar_border": "#EEEEEE",
    "wrapper_background": "#FFFFFF"
   },
   "moveMenuLeft": true,
   "nav_menu": {
    "height": "192px",
    "width": "252px"
   },
   "navigate_menu": true,
   "number_sections": true,
   "sideBar": true,
   "threshold": 4,
   "toc_cell": false,
   "toc_section_display": "block",
   "toc_window_display": false,
   "widenNotebook": false
  }
 },
 "nbformat": 4,
 "nbformat_minor": 4
}
