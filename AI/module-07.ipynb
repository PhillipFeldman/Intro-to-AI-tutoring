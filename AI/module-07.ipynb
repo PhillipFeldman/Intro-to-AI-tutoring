{
 "cells": [
  {
   "cell_type": "markdown",
   "metadata": {},
   "source": [
    "# Module 7 - Programming Assignment\n",
    "\n",
    "## Directions\n",
    "\n",
    "1. Change the name of this file to be your JHED id as in `jsmith299.ipynb`. Because sure you use your JHED ID (it's made out of your name and not your student id which is just letters and numbers).\n",
    "2. Make sure the notebook you submit is cleanly and fully executed. I do not grade unexecuted notebooks.\n",
    "3. Submit your notebook back in Blackboard where you downloaded this file.\n",
    "\n",
    "*Provide the output **exactly** as requested*"
   ]
  },
  {
   "cell_type": "markdown",
   "metadata": {},
   "source": [
    "# Unification\n",
    "\n",
    "This is actually Part I of a two part assignment. In a later module, you'll implement a Forward Planner. In order to do that, however, you need to have a unifier. It is important to note that you *only* need to implement a unifier. Although the module talked about resolution, you do not need to implement anything like \"standardizing apart\". From the unifier's point of view, that should already have been done.\n",
    "\n",
    "Unification is simply the *syntactic* balancing of expressions. There are only 3 kinds of expressions: constants, lists and (logic) variables. Constants and lists are only equal to each other if they're exactly the same thing or can be made to be the same thing by *binding* a value to a variable.\n",
    "\n",
    "It really is that simple...expressions must be literally the same (identical) except if one or the other (or both) has a variable in that \"spot\".\n",
    "\n",
    "## S-Expressions\n",
    "\n",
    "With that out of the way, we need a language with which to express our constants, variables and predicates and that language will be based on s-expressions.\n",
    "\n",
    "**constants** - There are two types of constants, values and predicates. Values should start with an uppercase letter. Fred is a constant value, so is Barney and Food. Predicates are named using lowercase letters. loves is a predicate and so is hates. This is only a convention. Secret: your code does not need to treat these two types of constants differently.\n",
    "\n",
    "**variables** - these are named using lowercase letters but always start with a question mark. ?x is a variable and so is ?yum. This is not a convention.\n",
    "\n",
    "**expressions (lists)** - these use the S-expression syntax a la LISP. (loves Fred Wilma) is an expression as is (friend-of Barney Fred) and (loves ?x ?y).\n",
    "\n",
    "## Parsing\n",
    "\n",
    "These functions are already included in the starter .py file."
   ]
  },
  {
   "cell_type": "code",
   "execution_count": 211,
   "metadata": {},
   "outputs": [],
   "source": [
    "import tokenize\n",
    "from io import StringIO"
   ]
  },
  {
   "cell_type": "markdown",
   "metadata": {},
   "source": [
    "This uses the above libraries to build a Lisp structure based on atoms. It is adapted from [simple iterator parser](http://effbot.org/zone/simple-iterator-parser.htm). The first function is the `atom` function."
   ]
  },
  {
   "cell_type": "code",
   "execution_count": 212,
   "metadata": {},
   "outputs": [],
   "source": [
    "def atom( next, token):\n",
    "    if token[ 1] == '(':\n",
    "        out = []\n",
    "        token = next()\n",
    "        while token[ 1] != ')':\n",
    "            out.append( atom( next, token))\n",
    "            token = next()\n",
    "            if token[ 1] == ' ':\n",
    "                token = next()\n",
    "        return out\n",
    "    elif token[ 1] == '?':\n",
    "        token = next()\n",
    "        return \"?\" + token[ 1]\n",
    "    else:\n",
    "        return token[ 1]"
   ]
  },
  {
   "cell_type": "markdown",
   "metadata": {},
   "source": [
    "The next function is the actual `parse` function:"
   ]
  },
  {
   "cell_type": "code",
   "execution_count": 213,
   "metadata": {},
   "outputs": [],
   "source": [
    "def parse(exp):\n",
    "    src = StringIO(exp).readline\n",
    "    tokens = tokenize.generate_tokens(src)\n",
    "    return atom(tokens.__next__, tokens.__next__())"
   ]
  },
  {
   "cell_type": "markdown",
   "metadata": {},
   "source": [
    "**Note** there was a change between 2.7 and 3.0 that \"hid\" the next() function in the tokenizer."
   ]
  },
  {
   "cell_type": "markdown",
   "metadata": {},
   "source": [
    "From a Python perspective, we want to turn something like \"(loves Fred ?x)\" to [\"loves\" \"Fred\" \"?x\"] and then work with the second representation as a list of strings. The strings then have the syntactic meaning we gave them previously."
   ]
  },
  {
   "cell_type": "code",
   "execution_count": 214,
   "metadata": {},
   "outputs": [
    {
     "data": {
      "text/plain": [
       "'Fred'"
      ]
     },
     "execution_count": 214,
     "metadata": {},
     "output_type": "execute_result"
    }
   ],
   "source": [
    "parse(\"Fred\")"
   ]
  },
  {
   "cell_type": "code",
   "execution_count": 215,
   "metadata": {},
   "outputs": [
    {
     "data": {
      "text/plain": [
       "'?x'"
      ]
     },
     "execution_count": 215,
     "metadata": {},
     "output_type": "execute_result"
    }
   ],
   "source": [
    "parse( \"?x\")"
   ]
  },
  {
   "cell_type": "code",
   "execution_count": 216,
   "metadata": {},
   "outputs": [
    {
     "data": {
      "text/plain": [
       "['loves', 'Fred', '?x']"
      ]
     },
     "execution_count": 216,
     "metadata": {},
     "output_type": "execute_result"
    }
   ],
   "source": [
    "parse( \"(loves Fred ?x)\")"
   ]
  },
  {
   "cell_type": "code",
   "execution_count": 217,
   "metadata": {},
   "outputs": [
    {
     "data": {
      "text/plain": [
       "['father_of', 'Barney', ['son_of', 'Barney']]"
      ]
     },
     "execution_count": 217,
     "metadata": {},
     "output_type": "execute_result"
    }
   ],
   "source": [
    "parse( \"(father_of Barney (son_of Barney))\")"
   ]
  },
  {
   "cell_type": "markdown",
   "metadata": {},
   "source": [
    "## Unifier\n",
    "\n",
    "Now that that's out of the way, here is the imperative pseudocode for unification. This is a classic recursive program with a number of base cases. Students for some reason don't like it, try the algorithm in the book, can't get it to work and then come back to this pseudocode.\n",
    "\n",
    "Work through the algorithm by hand with your Self-Check examples if you need to but I'd suggest sticking with this implementation. It does work.\n",
    "\n",
    "Here is imperative pseudocode for the algorithm:\n",
    "\n",
    "```\n",
    "def unification( exp1, exp2):\n",
    "    # base cases\n",
    "    if exp1 and exp2 are constants or the empty list:\n",
    "        if exp1 = exp2 then return {}\n",
    "        else return FAIL\n",
    "    if exp1 is a variable:\n",
    "        if exp1 occurs in exp2 then return FAIL\n",
    "        else return {exp1/exp2}\n",
    "    if exp2 is a variable:\n",
    "        if exp2 occurs in exp1 then return FAIL\n",
    "        else return {exp2/exp1}\n",
    "\n",
    "    # inductive step\n",
    "    first1 = first element of exp1\n",
    "    first2 = first element of exp2\n",
    "    result1 = unification( first1, first2)\n",
    "    if result1 = FAIL then return FAIL\n",
    "    apply result1 to rest of exp1 and exp2\n",
    "    result2 = unification( rest of exp1, rest of exp2)\n",
    "    if result2 = FAIL then return FAIL\n",
    "    return composition of result1 and result2\n",
    "```\n",
    "\n",
    "`unification` can return...\n",
    "\n",
    "1. `None` (if unification completely fails)\n",
    "2. `{}` (the empty substitution list) or \n",
    "3. a substitution list that has variables as keys and substituted values as values, like {\"?x\": \"Fred\"}. \n",
    "\n",
    "Note that the middle case sometimes confuses people...\"Sam\" unifying with \"Sam\" is not a failure so you return {} because there were no variables so there were no substitutions. You do not need to further resolve variables. If a variable resolves to an expression that contains a variable, you don't need to do the substition.\n",
    "\n",
    "If you think of a typical database table, there is a column, row and value. This Tuple is a *relation* and in some uses of unification, the \"thing\" in the first spot...\"love\" above is called the relation. If you have a table of users with user_id, username and the value then the relation is:\n",
    "\n",
    "`(login ?user_id ?username)`\n",
    "\n",
    "*most* of the time, the relation name is specified. But it's not impossible for the relation name to be represented by a variable:\n",
    "\n",
    "`(?relation 12345 \"smooth_operator\")`\n",
    "\n",
    "Your code should handle this case (the pseudocode does handle this case so all  you have to do is not futz with it).\n",
    "\n",
    "Our type system is very simple. We can get by with just a few boolean functions. The first tests to see if an expression is a variable."
   ]
  },
  {
   "cell_type": "code",
   "execution_count": 218,
   "metadata": {},
   "outputs": [],
   "source": [
    "def is_variable( exp):\n",
    "    return isinstance( exp, str) and exp[ 0] == \"?\""
   ]
  },
  {
   "cell_type": "code",
   "execution_count": 219,
   "metadata": {},
   "outputs": [
    {
     "data": {
      "text/plain": [
       "False"
      ]
     },
     "execution_count": 219,
     "metadata": {},
     "output_type": "execute_result"
    }
   ],
   "source": [
    "is_variable( \"Fred\")"
   ]
  },
  {
   "cell_type": "code",
   "execution_count": 220,
   "metadata": {},
   "outputs": [
    {
     "data": {
      "text/plain": [
       "True"
      ]
     },
     "execution_count": 220,
     "metadata": {},
     "output_type": "execute_result"
    }
   ],
   "source": [
    "is_variable( \"?fred\")"
   ]
  },
  {
   "cell_type": "markdown",
   "metadata": {},
   "source": [
    "The second tests to see if an expression is a constant:"
   ]
  },
  {
   "cell_type": "code",
   "execution_count": 221,
   "metadata": {},
   "outputs": [],
   "source": [
    "def is_constant( exp):\n",
    "    return isinstance( exp, str) and not is_variable( exp)"
   ]
  },
  {
   "cell_type": "code",
   "execution_count": 222,
   "metadata": {},
   "outputs": [
    {
     "data": {
      "text/plain": [
       "True"
      ]
     },
     "execution_count": 222,
     "metadata": {},
     "output_type": "execute_result"
    }
   ],
   "source": [
    "is_constant( \"Fred\")"
   ]
  },
  {
   "cell_type": "code",
   "execution_count": 223,
   "metadata": {},
   "outputs": [
    {
     "data": {
      "text/plain": [
       "False"
      ]
     },
     "execution_count": 223,
     "metadata": {},
     "output_type": "execute_result"
    }
   ],
   "source": [
    "is_constant( \"?fred\")"
   ]
  },
  {
   "cell_type": "code",
   "execution_count": 224,
   "metadata": {},
   "outputs": [
    {
     "data": {
      "text/plain": [
       "False"
      ]
     },
     "execution_count": 224,
     "metadata": {},
     "output_type": "execute_result"
    }
   ],
   "source": [
    "is_constant( [\"loves\", \"Fred\", \"?wife\"])"
   ]
  },
  {
   "cell_type": "markdown",
   "metadata": {},
   "source": [
    "It might also be useful to know that:\n",
    "\n",
    "<code>\n",
    "type( \"a\")\n",
    "&lt;type 'str'>\n",
    "type( \"a\") == str\n",
    "True\n",
    "type( \"a\") == list\n",
    "False\n",
    "type( [\"a\"]) == list\n",
    "True\n",
    "</code>\n",
    "\n",
    "\n",
    "You need to write the `unification` function described above. It should work with two expressions of the type returned by `parse`. See `unify` for how it will be called. It should return the result of unification for the two expressions as detailed above and in the book. It does not have to make all the necessary substitions (for example, if ?y is bound to ?x and 1 is bound to ?y, ?x doesn't have to be replaced everywhere with 1. It's enough to return {\"?x\":\"?y\", \"?y\":1}. For an actual application, you would need to fix this!)\n",
    "\n",
    "-----"
   ]
  },
  {
   "cell_type": "markdown",
   "metadata": {},
   "source": [
    "### <a id=\"denester_replacer\"></a> denester_replacer\n",
    "\n",
    "Formal Parameters:\n",
    "**l**: A string or list of strings to be replaced by a variable\n",
    "\n",
    "**old**: The string (the variable) that should be replaced\n",
    "\n",
    "**new**: What the variable should be replaced with (usually a constant)\n",
    "\n",
    "**modifies**  **l** if **l** is a list, and if it contains a string that should be replaced.\n",
    "\n",
    "**returns** **l**, or **new**, depending on if **l** should be replaced with **new** or not\n",
    "\n",
    "This is the *apply result1 to rest of exp1 and exp2* part of the pseudocode.  It recursively denests **l** until **l** is a string, then replaces the string, if appropriate."
   ]
  },
  {
   "cell_type": "code",
   "execution_count": 225,
   "metadata": {},
   "outputs": [],
   "source": [
    "def denester_replacer(l,old,new):\n",
    "    if type(l) == str:\n",
    "        if l == old:\n",
    "            return new\n",
    "        else:\n",
    "            return l\n",
    "    else:\n",
    "        for i in range(len(l)):\n",
    "            l[i] = denester_replacer(l[i],old,new)\n",
    "        return l"
   ]
  },
  {
   "cell_type": "code",
   "execution_count": 226,
   "metadata": {},
   "outputs": [],
   "source": [
    "old = \"x\"\n",
    "new = \"y\"\n",
    "l1 = \"x\"\n",
    "assert(denester_replacer(l1,old,new)==new)\n",
    "l2 = [\"x\",\"y\",\"z\"]\n",
    "assert(denester_replacer(l2,old,new)==[\"y\",\"y\",\"z\"])\n",
    "assert(l2!=[\"x\",\"y\",\"z\"])\n",
    "l3 = [\"x\",[\"x\",\"z\"]]\n",
    "assert(denester_replacer(l3,old,new)==[\"y\",[\"y\",\"z\"]])\n",
    "assert(l3!=[\"x\",[\"x\",\"z\"]])\n",
    "l4 = [\"w\",\"z\"]\n",
    "assert(denester_replacer(l4,old,new)==[\"w\",\"z\"])\n",
    "assert(l4 == [\"w\",\"z\"])"
   ]
  },
  {
   "cell_type": "markdown",
   "metadata": {},
   "source": [
    "### <a id=\"is_inside\"></a> is_inside\n",
    "\n",
    "Formal Parameters:\n",
    "**var**: A string (variable)\n",
    "\n",
    "**lst**: The list.\n",
    "\n",
    "**returns** True or False, depending on whether **var** is in **lst**\n",
    "\n",
    "This is the *if exp1 occurs in exp2 then return FAIL* part of the pseudocode, and the *Occurrence Check* in the textbook.  It recursively denests **lst**, checking if **var** is in the list or any nested list."
   ]
  },
  {
   "cell_type": "code",
   "execution_count": 227,
   "metadata": {},
   "outputs": [],
   "source": [
    "def is_inside(var,lst):\n",
    "    inside = False\n",
    "    if type(lst) == list:\n",
    "        for x in lst:\n",
    "            if var==x:\n",
    "                return True\n",
    "            inside = inside or is_inside(var,x)\n",
    "    return inside"
   ]
  },
  {
   "cell_type": "code",
   "execution_count": 228,
   "metadata": {},
   "outputs": [],
   "source": [
    "x = 1\n",
    "l = [1,2,3]\n",
    "assert(is_inside(x,l))\n",
    "l2 = [2,[3,[1]]]\n",
    "assert(is_inside(x,l2))\n",
    "l3 = [2,3,4]\n",
    "assert(not is_inside(x,l3))"
   ]
  },
  {
   "cell_type": "markdown",
   "metadata": {},
   "source": [
    "### <a id=\"unification\"></a> unification\n",
    "\n",
    "Formal Parameters:\n",
    "**list_expression1**: A list, representing a sentence in logic\n",
    "\n",
    "**list_expression2**: A list, representing a sentence in logic\n",
    "\n",
    "**returns** None, or a dictionary, with keys as variables, and their values being what they are substituted as\n",
    "\n",
    "This is the unification algorithm, which recursively checks to see if there is a substitution of variables for constants or more complicated expressions that will make the two expressions equivalent, if they aren't already.  If no substitution is necessary, an empty dictionary is returned.  If no substitution is possible, None is returned."
   ]
  },
  {
   "cell_type": "code",
   "execution_count": 229,
   "metadata": {},
   "outputs": [],
   "source": [
    "def unification( list_expression1, list_expression2):\n",
    "    if ((is_constant(list_expression1) and is_constant(list_expression2)) or list_expression2==[] or list_expression1==[]):\n",
    "        if list_expression1==list_expression2:\n",
    "            return {}\n",
    "        else:\n",
    "            return None\n",
    "    if is_variable(list_expression1):\n",
    "        if is_inside(list_expression1, list_expression2):\n",
    "            return None\n",
    "        elif list_expression1 == list_expression2:\n",
    "            return {}\n",
    "        else:\n",
    "            return {list_expression1:list_expression2}\n",
    "    if is_variable(list_expression2):\n",
    "        if is_inside(list_expression2, list_expression1):\n",
    "            return None\n",
    "        elif list_expression1 == list_expression2:\n",
    "            return {}\n",
    "        else:\n",
    "            return {list_expression2:list_expression1}\n",
    "    first1 = list_expression1[0]\n",
    "    first2 = list_expression2[0]\n",
    "    result1 = unification(first1,first2)\n",
    "    if result1 == None:\n",
    "        return None\n",
    "    for k in result1.keys():\n",
    "        for i in range(1,len(list_expression1)):\n",
    "            list_expression1[i] = denester_replacer(list_expression1[i],k,result1[k])\n",
    "        for i in range(1,len(list_expression2)):\n",
    "            list_expression2[i] = denester_replacer(list_expression2[i],k,result1[k])\n",
    "    result2 = unification(list_expression1[1:],list_expression2[1:])\n",
    "    if result2 == None:\n",
    "        return None\n",
    "    result1.update(result2)\n",
    "    return result1"
   ]
  },
  {
   "cell_type": "code",
   "execution_count": 230,
   "metadata": {},
   "outputs": [],
   "source": [
    "def unify( s_expression1, s_expression2):\n",
    "    return unification( parse( s_expression1), parse( s_expression2))"
   ]
  },
  {
   "cell_type": "markdown",
   "metadata": {},
   "source": [
    "**Note** If you see the error,\n",
    "\n",
    "```\n",
    "tokenize.TokenError: ('EOF in multi-line statement', (2, 0))\n",
    "```\n",
    "You most likely have unbalanced parentheses in your s-expression.\n",
    "\n",
    "## Test Cases\n",
    "\n",
    "Use the expressions from the Self Check as your test cases..."
   ]
  },
  {
   "cell_type": "code",
   "execution_count": 231,
   "metadata": {},
   "outputs": [
    {
     "name": "stdout",
     "output_type": "stream",
     "text": [
      "actual = None\n",
      "expected = None\n",
      "\n",
      "\n",
      "actual = None\n",
      "expected = None\n",
      "\n",
      "\n",
      "actual = {}\n",
      "expected = {}\n",
      "\n",
      "\n",
      "actual = {'?x': 'Fred'}\n",
      "expected = {'?x': 'Fred'}\n",
      "\n",
      "\n",
      "actual = {'?y': 'Barney', '?x': 'Bam_Bam'}\n",
      "expected = {'?y': 'Barney', '?x': 'Bam_Bam'}\n",
      "\n",
      "\n",
      "actual = {'?x': 'Barney', '?y': 'Wilma'}\n",
      "expected = {'?x': 'Barney', '?y': 'Wilma'}\n",
      "\n",
      "\n",
      "actual = {'?y': 'Barney', '?x': ['son', 'Barney']}\n",
      "expected = {'?y': 'Barney', '?x': ['son', 'Barney']}\n",
      "\n",
      "\n",
      "actual = {'?y': 'Barney', '?x': ['son', 'Barney']}\n",
      "expected = {'?y': 'Barney', '?x': ['son', 'Barney']}\n",
      "\n",
      "\n",
      "actual = None\n",
      "expected = None\n",
      "\n",
      "\n",
      "actual = {'?x': 'Fred'}\n",
      "expected = {'?x': 'Fred'}\n",
      "\n",
      "\n",
      "actual = None\n",
      "expected = None\n",
      "\n",
      "\n"
     ]
    }
   ],
   "source": [
    "self_check_test_cases = [\n",
    "    ['(son Barney Barney)', '(daughter Wilma Pebbles)', None],\n",
    "    ['(Fred)', '(Barney)', None],\n",
    "    ['(Pebbles)', '(Pebbles)', {}],\n",
    "    ['(quarry_worker Fred)', '(quarry_worker ?x)',{'?x':'Fred'}],\n",
    "    ['(son Barney ?x)','(son ?y Bam_Bam)',{'?y':'Barney','?x':'Bam_Bam'}],\n",
    "    ['(married ?x ?y)','(married Barney Wilma)',{'?x':'Barney','?y':'Wilma'}],\n",
    "    ['(son Barney ?x)','(son ?y (son Barney))',{'?y':'Barney','?x':['son', 'Barney']}],\n",
    "    ['(son Barney ?x)','(son ?y (son ?y))',{'?y':'Barney','?x':['son', 'Barney']}],\n",
    "    ['(son Barney Bam_Bam)','(son ?y (son Barney))',None],\n",
    "    ['(loves Fred Fred)','(loves ?x ?x)',{'?x':'Fred'}],\n",
    "    ['(future George Fred)','(future ?y ?y)',None],\n",
    "]\n",
    "for case in self_check_test_cases:\n",
    "    exp1, exp2, expected = case\n",
    "    actual = unify(exp1, exp2)\n",
    "    print(f\"actual = {actual}\")\n",
    "    print(f\"expected = {expected}\")\n",
    "    print(\"\\n\")\n",
    "    assert expected == actual"
   ]
  },
  {
   "cell_type": "markdown",
   "metadata": {},
   "source": [
    "Now add at least **five (5)** additional test cases of your own making, explaining exactly what you are testing. They should not be testing the same things as the self check test cases above."
   ]
  },
  {
   "cell_type": "code",
   "execution_count": 232,
   "metadata": {},
   "outputs": [
    {
     "name": "stdout",
     "output_type": "stream",
     "text": [
      "Testing non-equal constants...\n",
      "actual = None\n",
      "expected = None\n",
      "\n",
      "\n",
      "Testing explicit nested occurrence check...\n",
      "actual = None\n",
      "expected = None\n",
      "\n",
      "\n",
      "Testing list length difference...\n",
      "actual = None\n",
      "expected = None\n",
      "\n",
      "\n",
      "Testing equal variables...\n",
      "actual = {}\n",
      "expected = {}\n",
      "\n",
      "\n",
      "Testing complicated occurence check...\n",
      "actual = None\n",
      "expected = None\n",
      "\n",
      "\n",
      "Testing variable swap...\n",
      "actual = {'?x': '?y'}\n",
      "expected = {'?x': '?y'}\n",
      "\n",
      "\n",
      "Testing substituting a formula to make it less general...\n",
      "actual = {'?x': '?y', '?y': '?z', '?z': '?w'}\n",
      "expected = {'?x': '?y', '?y': '?z', '?z': '?w'}\n",
      "\n",
      "\n",
      "Testing math should work...\n",
      "actual = {'?x': '1', '?y': '1', '?z': '2'}\n",
      "expected = {'?x': '1', '?y': '1', '?z': '2'}\n",
      "\n",
      "\n",
      "Testing replacement...\n",
      "actual = {'?x': ['?y', '1'], '?z': ['?w', ['?y', '1']]}\n",
      "expected = {'?x': ['?y', '1'], '?z': ['?w', ['?y', '1']]}\n",
      "\n",
      "\n"
     ]
    }
   ],
   "source": [
    "new_test_cases = [\n",
    "    ['(son Barney Barney)', '(daughter Wilma Pebbles)', None, \"non-equal constants\"],\n",
    "    \n",
    "    ['(?x ?y)', '(John (Joe (Joe (Joe ?y))))', None, \"explicit nested occurrence check\"],\n",
    "    \n",
    "    ['(?x ?y)', '(John Joe Joe Joe ?y)', None, \"list length difference\"],\n",
    "    \n",
    "    ['(?x ?y)', '(?x ?y)', {}, \"equal variables\"],\n",
    "    \n",
    "    ['(?x ?y)', '((?y Joe) (?x James))', None, \"complicated occurence check\"],\n",
    "    \n",
    "    ['(?x ?y)', '(?y ?x)', {'?x':'?y'}, \"variable swap\"],\n",
    "    \n",
    "    ['(?x ?x ?x)', '(?y ?z ?w)', {'?x': '?y', '?y': '?z', '?z':'?w'}, \"substituting a formula to make it less general\"],\n",
    "    \n",
    "    ['(?x + ?y = ?z)', '(1 + 1 = 2)', {'?x': '1', '?y': '1', '?z':'2'}, \"math should work\"],\n",
    "    \n",
    "    ['(?x ?z)', '((?y 1) (?w ?x))', {'?x': ['?y', '1'], '?z': ['?w', ['?y', '1']]}, \"replacement\"]\n",
    "    \n",
    "    \n",
    "    \n",
    "]\n",
    "for case in new_test_cases:\n",
    "    exp1, exp2, expected, message = case\n",
    "    actual = unify(exp1, exp2)\n",
    "    print(f\"Testing {message}...\")\n",
    "    print(f\"actual = {actual}\")\n",
    "    print(f\"expected = {expected}\")\n",
    "    print(\"\\n\")\n",
    "    assert expected == actual"
   ]
  },
  {
   "cell_type": "markdown",
   "metadata": {},
   "source": [
    "## Before You Submit...\n",
    "\n",
    "1. Did you provide output exactly as requested?\n",
    "2. Did you re-execute the entire notebook? (\"Restart Kernel and Rull All Cells...\")\n",
    "3. If you did not complete the assignment or had difficulty please explain what gave you the most difficulty in the Markdown cell below.\n",
    "4. Did you change the name of the file to `jhed_id.ipynb`?\n",
    "\n",
    "Do not submit any other files."
   ]
  },
  {
   "cell_type": "markdown",
   "metadata": {},
   "source": []
  },
  {
   "cell_type": "code",
   "execution_count": null,
   "metadata": {},
   "outputs": [],
   "source": []
  },
  {
   "cell_type": "code",
   "execution_count": null,
   "metadata": {},
   "outputs": [],
   "source": []
  },
  {
   "cell_type": "code",
   "execution_count": null,
   "metadata": {},
   "outputs": [],
   "source": []
  },
  {
   "cell_type": "code",
   "execution_count": null,
   "metadata": {},
   "outputs": [],
   "source": []
  },
  {
   "cell_type": "code",
   "execution_count": null,
   "metadata": {},
   "outputs": [],
   "source": []
  },
  {
   "cell_type": "code",
   "execution_count": null,
   "metadata": {},
   "outputs": [],
   "source": []
  },
  {
   "cell_type": "code",
   "execution_count": null,
   "metadata": {},
   "outputs": [],
   "source": []
  },
  {
   "cell_type": "code",
   "execution_count": null,
   "metadata": {},
   "outputs": [],
   "source": []
  },
  {
   "cell_type": "code",
   "execution_count": null,
   "metadata": {},
   "outputs": [],
   "source": []
  },
  {
   "cell_type": "code",
   "execution_count": null,
   "metadata": {},
   "outputs": [],
   "source": []
  },
  {
   "cell_type": "code",
   "execution_count": null,
   "metadata": {},
   "outputs": [],
   "source": []
  },
  {
   "cell_type": "code",
   "execution_count": null,
   "metadata": {},
   "outputs": [],
   "source": []
  },
  {
   "cell_type": "code",
   "execution_count": null,
   "metadata": {},
   "outputs": [],
   "source": []
  },
  {
   "cell_type": "code",
   "execution_count": null,
   "metadata": {},
   "outputs": [],
   "source": []
  },
  {
   "cell_type": "code",
   "execution_count": null,
   "metadata": {},
   "outputs": [],
   "source": []
  }
 ],
 "metadata": {
  "kernelspec": {
   "display_name": "Python (en605645)",
   "language": "python",
   "name": "en605645"
  },
  "language_info": {
   "codemirror_mode": {
    "name": "ipython",
    "version": 3
   },
   "file_extension": ".py",
   "mimetype": "text/x-python",
   "name": "python",
   "nbconvert_exporter": "python",
   "pygments_lexer": "ipython3",
   "version": "3.10.6"
  },
  "toc": {
   "colors": {
    "hover_highlight": "#DAA520",
    "navigate_num": "#000000",
    "navigate_text": "#333333",
    "running_highlight": "#FF0000",
    "selected_highlight": "#FFD700",
    "sidebar_border": "#EEEEEE",
    "wrapper_background": "#FFFFFF"
   },
   "moveMenuLeft": true,
   "nav_menu": {
    "height": "120px",
    "width": "252px"
   },
   "navigate_menu": true,
   "number_sections": true,
   "sideBar": true,
   "threshold": 4,
   "toc_cell": false,
   "toc_section_display": "block",
   "toc_window_display": false,
   "widenNotebook": false
  }
 },
 "nbformat": 4,
 "nbformat_minor": 4
}
