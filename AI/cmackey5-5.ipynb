{
 "cells": [
  {
   "cell_type": "markdown",
   "metadata": {},
   "source": [
    "# Module 5 - Programming Assignment\n",
    "\n",
    "## Directions\n",
    "\n",
    "1. Change the name of this file to be your JHED id as in `jsmith299.ipynb`. Because sure you use your JHED ID (it's made out of your name and not your student id which is just letters and numbers).\n",
    "2. Make sure the notebook you submit is cleanly and fully executed. I do not grade unexecuted notebooks.\n",
    "3. Submit your notebook back in Blackboard where you downloaded this file.\n",
    "\n",
    "*Provide the output **exactly** as requested*"
   ]
  },
  {
   "cell_type": "markdown",
   "metadata": {},
   "source": [
    "## Solving Normal Form Games"
   ]
  },
  {
   "cell_type": "code",
   "execution_count": 1,
   "metadata": {},
   "outputs": [],
   "source": [
    "from typing import List, Tuple, Dict, Callable"
   ]
  },
  {
   "cell_type": "markdown",
   "metadata": {},
   "source": [
    "In the lecture we talked about the Prisoner's Dilemma game, shown here in Normal Form:\n",
    "\n",
    "Player 1 / Player 2  | Defect | Cooperate\n",
    "------------- | ------------- | -------------\n",
    "Defect  | -5, -5 | -1, -10\n",
    "Cooperate  | -10, -1 | -2, -2\n",
    "\n",
    "where the payoff to Player 1 is the left number and the payoff to Player 2 is the right number. We can represent each payoff cell as a Tuple: `(-5, -5)`, for example. We can represent each row as a List of Tuples: `[(-5, -5), (-1, -10)]` would be the first row and the entire table as a List of Lists:"
   ]
  },
  {
   "cell_type": "code",
   "execution_count": 2,
   "metadata": {},
   "outputs": [
    {
     "data": {
      "text/plain": [
       "[[(-5, -5), (-1, -10)], [(-10, -1), (-2, -2)]]"
      ]
     },
     "execution_count": 2,
     "metadata": {},
     "output_type": "execute_result"
    }
   ],
   "source": [
    "prisoners_dilemma = [\n",
    " [( -5, -5), (-1,-10)],\n",
    " [(-10, -1), (-2, -2)]]\n",
    "\n",
    "prisoners_dilemma"
   ]
  },
  {
   "cell_type": "markdown",
   "metadata": {},
   "source": [
    "in which case the strategies are represented by indices into the List of Lists. For example, `(Defect, Cooperate)` for the above game becomes `prisoners_dilemma[ 0][ 1]` and returns the payoff `(-1, -10)` because 0 is the first row of the table (\"Defect\" for Player 1) and 1 is the 2nd column of the row (\"Cooperate\" for Player 2).\n",
    "\n",
    "For this assignment, you are going write a function that uses Successive Elimination of Dominated Strategies (SEDS) to find the **pure strategy** Nash Equilibrium of a Normal Form Game. The function is called `solve_game`:\n",
    "\n",
    "```python\n",
    "def solve_game( game: List[List[Tuple]], weak=False) -> Tuple:\n",
    "    pass # returns strategy indices of Nash equilibrium or None.\n",
    "```\n",
    "\n",
    "and it takes two parameters: the game, in a format that we described earlier and an optional boolean flag that controls whether the algorithm considers only **strongly dominated strategies** (the default will be false) or whether it should consider **weakly dominated strategies** as well.\n",
    "\n",
    "It should work with game matrices of any size and it will return the **strategy indices** of the Nash Equilibrium. If there is no **pure strategy** equilibrium that can be found using SEDS, return `None`.\n",
    "\n",
    "\n",
    "<div style=\"background: mistyrose; color: firebrick; border: 2px solid darkred; padding: 5px; margin: 10px;\">\n",
    "Do not return the payoff. That's not useful. Return the strategy indices, any other output is incorrect.\n",
    "</div>\n",
    "\n",
    "As before, you must provide your implementation in the space below, one Markdown cell for documentation and one Code cell for implementation, one function and assertations per Codecell.\n",
    "\n",
    "\n",
    "---"
   ]
  },
  {
   "cell_type": "markdown",
   "metadata": {},
   "source": [
    "## solve_game\n",
    "\n",
    "[(documentation)](#solve_game_)"
   ]
  },
  {
   "cell_type": "markdown",
   "metadata": {},
   "source": [
    "### <a id=\"check_weak_dominated2\"></a> Check Weak Dominated P2\n",
    "\n",
    "Formal Parameters:\n",
    "**game** A 2d list of tuples of the payoffs in the 2-player normal form game\n",
    "\n",
    "**p1_moves** A list containing all of the row player's possible moves\n",
    "\n",
    "**p2_moves** A list containing all of the row player's possible moves\n",
    "\n",
    "**move2**  The strategy that is being checked\n",
    "\n",
    "**modifies** p2_moves\n",
    "\n",
    "**returns** A boolean that signifies whether or not one of player 2's strategies was eliminated\n",
    "\n",
    "This function iteratively checks move2 against all other moves, to see if it is weakly dominated.  If it is, the function returns True and removes move2 from p2_moves.  A strategy is weakly dominated if it is gives equal payoff to another strategy given one of the other player's strategies, inferior payoff in another, and never better."
   ]
  },
  {
   "cell_type": "code",
   "execution_count": 3,
   "metadata": {},
   "outputs": [],
   "source": [
    "def check_weak_dominated_p2(game,p1_moves,p2_moves,move2):\n",
    "    for move in p2_moves:\n",
    "        if move==move2:\n",
    "            continue\n",
    "        remove_move = True\n",
    "        has_a_worse_move = False\n",
    "        for move1 in p1_moves:\n",
    "            if game[move1][move2][1] > game[move1][move][1]:\n",
    "                remove_move= False\n",
    "                continue\n",
    "            if game[move1][move2][1] < game[move1][move][1]:\n",
    "                has_a_worse_move = True\n",
    "        if remove_move and has_a_worse_move:\n",
    "            p2_moves.remove(move2)\n",
    "            return True\n",
    "    return False"
   ]
  },
  {
   "cell_type": "code",
   "execution_count": 4,
   "metadata": {},
   "outputs": [],
   "source": [
    "game = [[(10,10),(10,10)],\n",
    "         [(1,1),(0,0)]]\n",
    "p1_moves = [0,1]\n",
    "p2_moves = [0,1]\n",
    "assert check_weak_dominated_p2(game,p1_moves,p2_moves,0) == False\n",
    "assert p1_moves == [0,1]\n",
    "assert p2_moves == [0,1]\n",
    "assert check_weak_dominated_p2(game,p1_moves,p2_moves,1) == True\n",
    "assert p1_moves == [0,1]\n",
    "assert p2_moves == [0]"
   ]
  },
  {
   "cell_type": "markdown",
   "metadata": {},
   "source": [
    "### <a id=\"check_strong_dominated2\"></a> Check Strong Dominated P2\n",
    "\n",
    "Formal Parameters:\n",
    "**game** A 2d list of tuples of the payoffs in the 2-player normal form game\n",
    "\n",
    "**p1_moves** A list containing all of the row player's possible moves\n",
    "\n",
    "**p2_moves** A list containing all of the row player's possible moves\n",
    "\n",
    "**move2**  The strategy that is being checked\n",
    "\n",
    "**modifies** p2_moves\n",
    "\n",
    "**returns** A boolean that signifies whether or not one of player 2's strategies was eliminated\n",
    "\n",
    "This function iteratively checks move2 against all other moves, to see if it is strongly dominated.  If it is, the function returns True and removes move1 from p2_moves.  A strategy is strongly dominated if it always gives inferior payoff to another."
   ]
  },
  {
   "cell_type": "code",
   "execution_count": 5,
   "metadata": {},
   "outputs": [],
   "source": [
    "def check_strong_dominated_p2(game,p1_moves,p2_moves,move2):\n",
    "    for move in p2_moves:\n",
    "        if move==move2:\n",
    "            continue\n",
    "        remove_move = True\n",
    "        for move1 in p1_moves:\n",
    "            if game[move1][move2][1] >= game[move1][move][1]:\n",
    "                remove_move= False\n",
    "                continue\n",
    "        if remove_move:\n",
    "            p2_moves.remove(move2)\n",
    "            return True\n",
    "    return False"
   ]
  },
  {
   "cell_type": "code",
   "execution_count": 6,
   "metadata": {},
   "outputs": [],
   "source": [
    "game = [[(10,10),(1,1)],\n",
    "         [(1,1),(0,0)]]\n",
    "p1_moves = [0,1]\n",
    "p2_moves = [0,1]\n",
    "assert check_strong_dominated_p2(game,p1_moves,p2_moves,0) == False\n",
    "assert p1_moves == [0,1]\n",
    "assert p2_moves == [0,1]\n",
    "assert check_strong_dominated_p2(game,p1_moves,p2_moves,1) == True\n",
    "assert p1_moves == [0,1]\n",
    "assert p2_moves == [0]"
   ]
  },
  {
   "cell_type": "markdown",
   "metadata": {},
   "source": [
    "### <a id=\"eliminate_strategies2\"></a> Eliminate Strategies P2\n",
    "\n",
    "Formal Parameters:\n",
    "**game** A 2d list of tuples of the payoffs in the 2-player normal form game\n",
    "\n",
    "**p1_moves** A list containing all of the row player's possible moves\n",
    "\n",
    "**p2_moves** A list containing all of the row player's possible moves\n",
    "\n",
    "**weak**  A boolean that determines whether the SEDS algorithm will eliminate weakly dominated strategies\n",
    "\n",
    "**modifies** p2_moves\n",
    "\n",
    "**returns** A boolean that signifies whether or not one of player 2's strategies was eliminated\n",
    "\n",
    "This function iteratively checks all of player2's strategies to see if they are dominated by calling  [check_weak_dominated_p2](#check_weak_dominated2) or [check_strong_dominated_p2](#check_strong_dominated2)"
   ]
  },
  {
   "cell_type": "code",
   "execution_count": 7,
   "metadata": {},
   "outputs": [],
   "source": [
    "def eliminate_strategies_p2(game, p1_moves,p2_moves,weak):\n",
    "    eliminated_move = False\n",
    "    for move2 in p2_moves:\n",
    "        eliminated_move = eliminated_move or check_strong_dominated_p2(game, p1_moves,p2_moves,move2)\n",
    "        if weak:\n",
    "            eliminated_move = eliminated_move or check_weak_dominated_p2(game, p1_moves,p2_moves,move2)\n",
    "    return eliminated_move"
   ]
  },
  {
   "cell_type": "code",
   "execution_count": 8,
   "metadata": {},
   "outputs": [],
   "source": [
    "game = [[(10,10),(1,1)],\n",
    "         [(1,1),(0,0)]]\n",
    "p1_moves = [0,1]\n",
    "p2_moves = [0,1]\n",
    "assert eliminate_strategies_p2(game,p1_moves,p2_moves,True) == True\n",
    "assert p1_moves == [0,1]\n",
    "assert p2_moves == [0]\n",
    "\n",
    "game = [[(10,10),(10,10)],\n",
    "         [(10,10),(10,10)]]\n",
    "p1_moves = [0,1]\n",
    "p2_moves = [0,1]\n",
    "assert eliminate_strategies_p2(game,p1_moves,p2_moves,False) == False\n",
    "assert p1_moves == [0,1]\n",
    "assert p2_moves == [0,1]"
   ]
  },
  {
   "cell_type": "markdown",
   "metadata": {},
   "source": [
    "### <a id=\"check_strong_dominated1\"></a> Check Strong Dominated P1\n",
    "\n",
    "Formal Parameters:\n",
    "**game** A 2d list of tuples of the payoffs in the 2-player normal form game\n",
    "\n",
    "**p1_moves** A list containing all of the row player's possible moves\n",
    "\n",
    "**p2_moves** A list containing all of the row player's possible moves\n",
    "\n",
    "**move1**  The strategy that is being checked\n",
    "\n",
    "**modifies** p1_moves\n",
    "\n",
    "**returns** A boolean that signifies whether or not one of player 1's strategies was eliminated\n",
    "\n",
    "This function iteratively checks move1 against all other moves, to see if it is strongly dominated.  If it is, the function returns True and removes move1 from p1_moves.  A strategy is strongly dominated if it always gives inferior payoff to another."
   ]
  },
  {
   "cell_type": "code",
   "execution_count": 9,
   "metadata": {},
   "outputs": [],
   "source": [
    "def check_strong_dominated_p1(game,p1_moves,p2_moves,move1):\n",
    "    for move in p1_moves:\n",
    "        if move==move1:\n",
    "            continue\n",
    "        remove_move = True\n",
    "        for move2 in p2_moves:\n",
    "            if game[move1][move2][0] >= game[move][move2][0]:\n",
    "                remove_move= False\n",
    "                continue\n",
    "        if remove_move:\n",
    "            p1_moves.remove(move1)\n",
    "            return True\n",
    "    return False"
   ]
  },
  {
   "cell_type": "code",
   "execution_count": 10,
   "metadata": {},
   "outputs": [],
   "source": [
    "game = [[(10,10),(1,1)],\n",
    "         [(1,1),(0,0)]]\n",
    "p1_moves = [0,1]\n",
    "p2_moves = [0,1]\n",
    "assert check_strong_dominated_p1(game,p1_moves,p2_moves,0) == False\n",
    "assert p1_moves == [0,1]\n",
    "assert p2_moves == [0,1]\n",
    "assert check_strong_dominated_p1(game,p1_moves,p2_moves,1) == True\n",
    "assert p1_moves == [0]\n",
    "assert p2_moves == [0,1]"
   ]
  },
  {
   "cell_type": "markdown",
   "metadata": {},
   "source": [
    "### <a id=\"check_weak_dominated1\"></a> Check Weak Dominated P1\n",
    "\n",
    "Formal Parameters:\n",
    "**game** A 2d list of tuples of the payoffs in the 2-player normal form game\n",
    "\n",
    "**p1_moves** A list containing all of the row player's possible moves\n",
    "\n",
    "**p2_moves** A list containing all of the row player's possible moves\n",
    "\n",
    "**move1**  The strategy that is being checked\n",
    "\n",
    "**modifies** p1_moves\n",
    "\n",
    "**returns** A boolean that signifies whether or not one of player 1's strategies was eliminated\n",
    "\n",
    "This function iteratively checks move1 against all other moves, to see if it is weakly dominated.  If it is, the function returns True and removes move1 from p1_moves.  A strategy is weakly dominated if it is gives equal payoff to another strategy given one of the other player's strategies, inferior payoff in another, and never better."
   ]
  },
  {
   "cell_type": "code",
   "execution_count": 11,
   "metadata": {},
   "outputs": [],
   "source": [
    "def check_weak_dominated_p1(game,p1_moves,p2_moves,move1):\n",
    "    for move in p1_moves:\n",
    "        if move==move1:\n",
    "            continue\n",
    "        remove_move = True\n",
    "        has_a_worse_move = False\n",
    "        for move2 in p2_moves:\n",
    "            if game[move1][move2][0] > game[move][move2][0]:\n",
    "                remove_move= False\n",
    "                continue\n",
    "            if game[move1][move2][0] < game[move][move2][0]:\n",
    "                has_a_worse_move=True\n",
    "        if remove_move and has_a_worse_move:\n",
    "            p1_moves.remove(move1)\n",
    "            return True\n",
    "    return False"
   ]
  },
  {
   "cell_type": "code",
   "execution_count": 12,
   "metadata": {},
   "outputs": [],
   "source": [
    "game = [[(10,10),(1,1)],\n",
    "         [(10,10),(0,0)]]\n",
    "p1_moves = [0,1]\n",
    "p2_moves = [0,1]\n",
    "assert check_weak_dominated_p1(game,p1_moves,p2_moves,0) == False\n",
    "assert p1_moves == [0,1]\n",
    "assert p2_moves == [0,1]\n",
    "assert check_weak_dominated_p1(game,p1_moves,p2_moves,1) == True\n",
    "assert p1_moves == [0]\n",
    "assert p2_moves == [0,1]"
   ]
  },
  {
   "cell_type": "markdown",
   "metadata": {},
   "source": [
    "### <a id=\"eliminate_strategies1\"></a> Eliminate Strategies P1\n",
    "\n",
    "Formal Parameters:\n",
    "**game** A 2d list of tuples of the payoffs in the 2-player normal form game\n",
    "\n",
    "**p1_moves** A list containing all of the row player's possible moves\n",
    "\n",
    "**p2_moves** A list containing all of the row player's possible moves\n",
    "\n",
    "**weak**  A boolean that determines whether the SEDS algorithm will eliminate weakly dominated strategies\n",
    "\n",
    "**modifies** p1_moves\n",
    "\n",
    "**returns** A boolean that signifies whether or not one of player 1's strategies was eliminated\n",
    "\n",
    "This function iteratively checks all of player1's strategies to see if they are dominated by calling [check_weak_dominated_p1](#check_weak_dominated1) or [check_strong_dominated_p1](#check_strong_dominated1)"
   ]
  },
  {
   "cell_type": "code",
   "execution_count": 13,
   "metadata": {},
   "outputs": [],
   "source": [
    "def eliminate_strategies_p1(game, p1_moves,p2_moves,weak):\n",
    "    eliminated_move = False\n",
    "    for move1 in p1_moves:\n",
    "        eliminated_move = eliminated_move or check_strong_dominated_p1(game, p1_moves,p2_moves,move1)\n",
    "        if weak:\n",
    "            eliminated_move = eliminated_move or check_weak_dominated_p1(game, p1_moves,p2_moves,move1)\n",
    "    return eliminated_move"
   ]
  },
  {
   "cell_type": "code",
   "execution_count": 14,
   "metadata": {},
   "outputs": [],
   "source": [
    "game = [[(10,10),(1,1)],\n",
    "         [(1,1),(0,0)]]\n",
    "p1_moves = [0,1]\n",
    "p2_moves = [0,1]\n",
    "assert eliminate_strategies_p1(game,p1_moves,p2_moves,True) == True\n",
    "assert p1_moves == [0]\n",
    "assert p2_moves == [0,1]\n",
    "\n",
    "game = [[(10,10),(10,10)],\n",
    "         [(10,10),(10,10)]]\n",
    "p1_moves = [0,1]\n",
    "p2_moves = [0,1]\n",
    "assert eliminate_strategies_p1(game,p1_moves,p2_moves,False) == False\n",
    "assert p1_moves == [0,1]\n",
    "assert p2_moves == [0,1]"
   ]
  },
  {
   "cell_type": "markdown",
   "metadata": {},
   "source": [
    "### <a id=\"eliminate_strategies\"></a> Eliminate Strategies\n",
    "\n",
    "Formal Parameters:\n",
    "**game** A 2d list of tuples of the payoffs in the 2-player normal form game\n",
    "\n",
    "**p1_moves** A list containing all of the row player's possible moves\n",
    "\n",
    "**p2_moves** A list containing all of the row player's possible moves\n",
    "\n",
    "**weak**  A boolean that determines whether the SEDS algorithm will eliminate weakly dominated strategies\n",
    "\n",
    "**modifies** p1_moves and p_2 moves\n",
    "\n",
    "**returns** None\n",
    "\n",
    "This function iteratively eliminates all dominated strategies for each player so that they can be used in [Solve Game](#solve_game_) by calling [eliminate_strategies_p1](#eliminate_strategies1) and [eliminate_strategies_p2](#eliminate_strategies2)"
   ]
  },
  {
   "cell_type": "code",
   "execution_count": 15,
   "metadata": {},
   "outputs": [],
   "source": [
    "def eliminate_strategies(game,p1_moves,p2_moves,weak):\n",
    "    strategy1_eliminated = True\n",
    "    strategy2_eliminated = True\n",
    "    while(strategy1_eliminated or strategy2_eliminated):\n",
    "        strategy1_eliminated = eliminate_strategies_p1(game, p1_moves,p2_moves,weak)\n",
    "        strategy2_eliminated = eliminate_strategies_p2(game, p1_moves,p2_moves,weak)"
   ]
  },
  {
   "cell_type": "code",
   "execution_count": 27,
   "metadata": {},
   "outputs": [],
   "source": [
    "game = [[(10,10),(1,1)],\n",
    "         [(1,1),(0,0)]]\n",
    "p1_moves = [0,1]\n",
    "p2_moves = [0,1]\n",
    "eliminate_strategies(game,p1_moves,p2_moves,False)\n",
    "assert p1_moves == [0]\n",
    "assert p2_moves == [0]"
   ]
  },
  {
   "cell_type": "markdown",
   "metadata": {},
   "source": [
    "### <a id=\"check_nash\"></a> Check Nash Equilibrium\n",
    "\n",
    "Formal Parameters:\n",
    "**game** A 2d list of tuples of the payoffs in the 2-player normal form game\n",
    "\n",
    "**move1** The move of the row player\n",
    "\n",
    "**move2** The move of the column player\n",
    "\n",
    "**returns** A boolean representing that the cell in the game is a Nash Equilibrium\n",
    "\n",
    "This function verifies that a particular cell in a game is a Nash Equilibrium.  It is used to verify that [SEDS](#eliminate_strategies) resulted in a solved game. "
   ]
  },
  {
   "cell_type": "code",
   "execution_count": 17,
   "metadata": {},
   "outputs": [],
   "source": [
    "def check_nash_equilibrium(game,move1,move2):\n",
    "    p1_payoff = game[move1][move2][0]\n",
    "    p2_payoff = game[move1][move2][1]\n",
    "    for i in range(len(game)):\n",
    "        if i ==move1:\n",
    "            continue\n",
    "        if game[i][move2][0] > p1_payoff:\n",
    "            return False\n",
    "    for j in range(len(game[0])):\n",
    "        if j == move2:\n",
    "            continue\n",
    "        if game[move1][j][1] > p2_payoff:\n",
    "            return False\n",
    "    return True"
   ]
  },
  {
   "cell_type": "code",
   "execution_count": 18,
   "metadata": {},
   "outputs": [],
   "source": [
    "game2 = [[(10,10),(0,0)],\n",
    "         [(0,0),(0,0)]]\n",
    "assert check_nash_equilibrium(game2,0,0) ==True\n",
    "assert check_nash_equilibrium(game2,1,1) ==True\n",
    "assert check_nash_equilibrium(game2,0,1) ==False\n",
    "assert check_nash_equilibrium(game2,1,0) ==False"
   ]
  },
  {
   "cell_type": "markdown",
   "metadata": {},
   "source": [
    "### <a id=\"solve_game_\"></a> Solve Game\n",
    "\n",
    "Formal Parameters:\n",
    "**game** A 2d list of tuples of the payoffs in the 2-player normal form game\n",
    "\n",
    "**weak** A boolean that determines whether the SEDS algorithm will eliminate weakly dominated strategies\n",
    "\n",
    "**returns** A tuple of the plys for a Nash Equilibrium or None, if the algorithm did not produce a Nash Equilibrium\n",
    "\n",
    "This algorithm shortens the required computation for Nash Equilibrium.  This is important, because the alternative would be to check every cell against all the cells with same row or column, which runs in power tower time. O(n^m)\n",
    "\n",
    "If [SEDS](#eliminate_strategies) did not eliminate all cells that are not Nash Equilibria, None will be returned.  The reason for this is that the algorithm only shrank the game, but did not solve it.  The algorithm does not check all cells for Nash Equilibria, except in the worst cases:  All cells are Nash equilibria, or no strategies are dominated."
   ]
  },
  {
   "cell_type": "code",
   "execution_count": 19,
   "metadata": {},
   "outputs": [],
   "source": [
    "def solve_game(game: List[List[Tuple]], weak:bool=False) -> Tuple:\n",
    "    p1_moves = [i for i in range(len(game))]\n",
    "    p2_moves = [i for i in range(len(game[0]))]\n",
    "    eliminate_strategies(game,p1_moves,p2_moves,weak)\n",
    "    for i in range(len(p1_moves)):\n",
    "        for j in range(len(p2_moves)):\n",
    "            if not check_nash_equilibrium(game,p1_moves[i],p2_moves[j]):\n",
    "                return None\n",
    "    for i in range(len(p1_moves)):\n",
    "        for j in range(len(p2_moves)):\n",
    "            if check_nash_equilibrium(game,p1_moves[i],p2_moves[j]):\n",
    "                return (p1_moves[i],p2_moves[j])        \n",
    "    \n",
    "    return None"
   ]
  },
  {
   "cell_type": "code",
   "execution_count": 20,
   "metadata": {},
   "outputs": [],
   "source": [
    "game1 = [[(10,10),(0,0)],[(0,0),(0,0)]]\n",
    "assert solve_game(game1)==None\n",
    "game2 = [[(10,10),(1,1)],\n",
    "         [(1,1),(0,0)]]\n",
    "assert solve_game(game2)==(0,0)\n",
    "game2_rotate_90 = [[(1,1),(10,10)],\n",
    "                   [(0,0),(1,1)]]\n",
    "assert solve_game(game2_rotate_90)==(0,1)\n",
    "game2_rotate_180 = [[(0,0),(1,1)],[(1,1),(10,10)]]\n",
    "assert solve_game(game2_rotate_180)==(1,1)\n",
    "game2_rotate_270 = [[(1,1),(0,0)],[(10,10),(1,1)]]\n",
    "assert solve_game(game2_rotate_270)==(1,0)\n",
    "\n",
    "game1_rotate_180 = [[(0,0),(0,0)],[(0,0),(10,10)]]\n",
    "assert solve_game(game1_rotate_180)==None\n",
    "assert solve_game(game1_rotate_180,True) == (1,1)"
   ]
  },
  {
   "cell_type": "markdown",
   "metadata": {},
   "source": [
    "## Additional Directions\n",
    "\n",
    "Create three games as described and according to the following:\n",
    "\n",
    "1. Your games must be created and solved \"by hand\".\n",
    "2. The strategy pairs must **not** be on the main diagonal (0, 0), (1, 1), or (2, 2). And the solution cannot be the same for both Game 1 and Game 2.\n",
    "3. Make sure you fill out the Markdown (\"?\") with your game as well as the solution (\"?\").\n",
    "4. Remember, **do not return the payoff**, return the strategy indices.\n",
    "\n",
    "For games that can be solved with *weak* SEDS, there may be more than one solution. You only need to return the first solution found. However, if you would like to return all solutions, you can implement `solve_game` as state space search."
   ]
  },
  {
   "cell_type": "markdown",
   "metadata": {},
   "source": [
    "### Test Game 1. Create a 3x3 two player game\n",
    "\n",
    "**that can only be solved using the Successive Elimintation of Strongly Dominated Strategies**\n",
    "\n",
    "| Player 1 / Player 2  | 0 | 1 | 2 |\n",
    "|----|----|----|----|\n",
    "|0  | 0,0 | 1,1 | 0,0 |\n",
    "|1  | -1,-1 | 0,0 | -1,-1 |\n",
    "|2  | -1,-1 | 0,0 | -1,-1 |\n",
    "\n",
    "**Solution:** 0,1"
   ]
  },
  {
   "cell_type": "code",
   "execution_count": 21,
   "metadata": {},
   "outputs": [
    {
     "name": "stdout",
     "output_type": "stream",
     "text": [
      "(0, 1)\n"
     ]
    }
   ],
   "source": [
    "test_game_1 = [[(0,0),  (1,1),  (0,0)],\n",
    "               [(-1,-1),(0,0),(-1,-1)],\n",
    "               [(-1,-1),(0,0),(-1,-1)]]\n",
    "\n",
    "solution = solve_game(test_game_1)\n",
    "print(solution)"
   ]
  },
  {
   "cell_type": "code",
   "execution_count": 22,
   "metadata": {},
   "outputs": [],
   "source": [
    "assert solution == (0,1) # insert your solution from above."
   ]
  },
  {
   "cell_type": "markdown",
   "metadata": {},
   "source": [
    "### Test Game 2. Create a 3x3 two player game\n",
    "\n",
    "**that can only be solved using the Successive Elimintation of Weakly Dominated Strategies**\n",
    "\n",
    "| Player 1 / Player 2  | 0 | 1 | 2 |\n",
    "|----|----|----|----|\n",
    "|0  | 0,0 | 0,0 | 0,0 |\n",
    "|1  | 0,0 | 0,0 | 0,0 |\n",
    "|2  | 1,1 | 0,0 | 0,0 |\n",
    "\n",
    "**Solution:** 2,0"
   ]
  },
  {
   "cell_type": "code",
   "execution_count": 23,
   "metadata": {},
   "outputs": [],
   "source": [
    "test_game_2 = [[(0,0),(0,0),(0,0)],\n",
    "               [(0,0),(0,0),(0,0)],\n",
    "               [(1,1),(0,0),(0,0)]]\n",
    "\n",
    "strong_solution = solve_game( test_game_2)\n",
    "weak_solution = solve_game( test_game_2, weak=True)"
   ]
  },
  {
   "cell_type": "code",
   "execution_count": 24,
   "metadata": {},
   "outputs": [],
   "source": [
    "assert strong_solution == None\n",
    "assert weak_solution == (2,0) # insert your solution from above."
   ]
  },
  {
   "cell_type": "markdown",
   "metadata": {},
   "source": [
    "### Test Game 3. Create a 3x3 two player game\n",
    "\n",
    "**that cannot be solved using the Successive Elimintation of Dominated Strategies at all**\n",
    "\n",
    "| Player 1 / Player 2  | 0 | 1 | 2 |\n",
    "|----|----|----|----|\n",
    "|0  | 0,0 |0,0 |1,1|\n",
    "|1  | 1,1 | 0,0 | 0,0 |\n",
    "|2  | 0,0 | 0,0 | 0,0 |\n",
    "\n",
    "**Solution:** None"
   ]
  },
  {
   "cell_type": "code",
   "execution_count": 25,
   "metadata": {},
   "outputs": [],
   "source": [
    "test_game_3 = [[(0,0),(0,0),(1,1)],\n",
    "               [(1,1),(0,0),(0,0)],\n",
    "               [(0,0),(0,0),(0,0)]]\n",
    "\n",
    "strong_solution = solve_game( test_game_3)\n",
    "weak_solution = solve_game( test_game_3, weak=True)"
   ]
  },
  {
   "cell_type": "code",
   "execution_count": 26,
   "metadata": {},
   "outputs": [],
   "source": [
    "assert strong_solution == None\n",
    "assert weak_solution == None"
   ]
  },
  {
   "cell_type": "markdown",
   "metadata": {},
   "source": [
    "## Before You Submit...\n",
    "\n",
    "1. Did you provide output exactly as requested? **Don't forget to fill out the Markdown tables with your games**.\n",
    "2. Did you re-execute the entire notebook? (\"Restart Kernel and Rull All Cells...\")\n",
    "3. If you did not complete the assignment or had difficulty please explain what gave you the most difficulty in the Markdown cell below.\n",
    "4. Did you change the name of the file to `jhed_id.ipynb`?\n",
    "\n",
    "Do not submit any other files."
   ]
  },
  {
   "cell_type": "markdown",
   "metadata": {},
   "source": []
  },
  {
   "cell_type": "code",
   "execution_count": null,
   "metadata": {},
   "outputs": [],
   "source": []
  },
  {
   "cell_type": "code",
   "execution_count": null,
   "metadata": {},
   "outputs": [],
   "source": []
  },
  {
   "cell_type": "code",
   "execution_count": null,
   "metadata": {},
   "outputs": [],
   "source": []
  },
  {
   "cell_type": "code",
   "execution_count": null,
   "metadata": {},
   "outputs": [],
   "source": []
  },
  {
   "cell_type": "code",
   "execution_count": null,
   "metadata": {},
   "outputs": [],
   "source": []
  },
  {
   "cell_type": "code",
   "execution_count": null,
   "metadata": {},
   "outputs": [],
   "source": []
  },
  {
   "cell_type": "code",
   "execution_count": null,
   "metadata": {},
   "outputs": [],
   "source": []
  },
  {
   "cell_type": "code",
   "execution_count": null,
   "metadata": {},
   "outputs": [],
   "source": []
  },
  {
   "cell_type": "code",
   "execution_count": null,
   "metadata": {},
   "outputs": [],
   "source": []
  },
  {
   "cell_type": "code",
   "execution_count": null,
   "metadata": {},
   "outputs": [],
   "source": []
  },
  {
   "cell_type": "code",
   "execution_count": null,
   "metadata": {},
   "outputs": [],
   "source": []
  },
  {
   "cell_type": "code",
   "execution_count": null,
   "metadata": {},
   "outputs": [],
   "source": []
  },
  {
   "cell_type": "code",
   "execution_count": null,
   "metadata": {},
   "outputs": [],
   "source": []
  },
  {
   "cell_type": "code",
   "execution_count": null,
   "metadata": {},
   "outputs": [],
   "source": []
  },
  {
   "cell_type": "code",
   "execution_count": null,
   "metadata": {},
   "outputs": [],
   "source": []
  },
  {
   "cell_type": "code",
   "execution_count": null,
   "metadata": {},
   "outputs": [],
   "source": []
  },
  {
   "cell_type": "code",
   "execution_count": null,
   "metadata": {},
   "outputs": [],
   "source": []
  },
  {
   "cell_type": "code",
   "execution_count": null,
   "metadata": {},
   "outputs": [],
   "source": []
  },
  {
   "cell_type": "code",
   "execution_count": null,
   "metadata": {},
   "outputs": [],
   "source": []
  },
  {
   "cell_type": "code",
   "execution_count": null,
   "metadata": {},
   "outputs": [],
   "source": []
  },
  {
   "cell_type": "code",
   "execution_count": null,
   "metadata": {},
   "outputs": [],
   "source": []
  },
  {
   "cell_type": "code",
   "execution_count": null,
   "metadata": {},
   "outputs": [],
   "source": []
  }
 ],
 "metadata": {
  "kernelspec": {
   "display_name": "Python (en605645)",
   "language": "python",
   "name": "en605645"
  },
  "language_info": {
   "codemirror_mode": {
    "name": "ipython",
    "version": 3
   },
   "file_extension": ".py",
   "mimetype": "text/x-python",
   "name": "python",
   "nbconvert_exporter": "python",
   "pygments_lexer": "ipython3",
   "version": "3.10.6"
  },
  "toc": {
   "colors": {
    "hover_highlight": "#DAA520",
    "navigate_num": "#000000",
    "navigate_text": "#333333",
    "running_highlight": "#FF0000",
    "selected_highlight": "#FFD700",
    "sidebar_border": "#EEEEEE",
    "wrapper_background": "#FFFFFF"
   },
   "moveMenuLeft": true,
   "nav_menu": {
    "height": "135px",
    "width": "252px"
   },
   "navigate_menu": true,
   "number_sections": true,
   "sideBar": true,
   "threshold": 4,
   "toc_cell": false,
   "toc_section_display": "block",
   "toc_window_display": false,
   "widenNotebook": false
  }
 },
 "nbformat": 4,
 "nbformat_minor": 4
}
